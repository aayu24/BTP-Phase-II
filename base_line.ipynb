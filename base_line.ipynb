{
  "nbformat": 4,
  "nbformat_minor": 0,
  "metadata": {
    "colab": {
      "name": "base_line_2.ipynb",
      "provenance": [],
      "collapsed_sections": [],
      "include_colab_link": true
    },
    "kernelspec": {
      "name": "python3",
      "display_name": "Python 3"
    },
    "language_info": {
      "name": "python"
    }
  },
  "cells": [
    {
      "cell_type": "markdown",
      "metadata": {
        "id": "view-in-github",
        "colab_type": "text"
      },
      "source": [
        "<a href=\"https://colab.research.google.com/github/aayu24/BTP-Phase-II/blob/main/base_line.ipynb\" target=\"_parent\"><img src=\"https://colab.research.google.com/assets/colab-badge.svg\" alt=\"Open In Colab\"/></a>"
      ]
    },
    {
      "cell_type": "code",
      "metadata": {
        "colab": {
          "base_uri": "https://localhost:8080/"
        },
        "id": "yc3Nwv938nI7",
        "outputId": "6239dc1a-0f05-46d2-f32c-6bb69b7601ca"
      },
      "source": [
        "from google.colab import drive\n",
        "drive.mount(\"/content/gdrive\")"
      ],
      "execution_count": 1,
      "outputs": [
        {
          "output_type": "stream",
          "text": [
            "Mounted at /content/gdrive\n"
          ],
          "name": "stdout"
        }
      ]
    },
    {
      "cell_type": "code",
      "metadata": {
        "id": "bZu0qMoz7-sn"
      },
      "source": [
        "%matplotlib inline\n",
        "\n",
        "import re\n",
        "import numpy as np\n",
        "import statistics as stat\n",
        "import datetime as dt\n",
        "import zipfile\n",
        "# from zipfile import ZipFile\n",
        "import os\n",
        "from urllib.request import urlretrieve\n",
        "\n",
        "#This file reads data from honeypot dataset, process and write the data into bots.txt and humans.txt\n",
        "\n",
        "num_decimal = 4"
      ],
      "execution_count": 2,
      "outputs": []
    },
    {
      "cell_type": "code",
      "metadata": {
        "id": "Bkt1-qZq8Dpt"
      },
      "source": [
        "#Reading basic info for each user into container\n",
        "def read_info(filename, container):\n",
        "    with open(filename, 'r') as f:\n",
        "        for line in f:\n",
        "            tokens = re.split(\"[\\t\\n]\", line)\n",
        "            #Parse strings to numbers, take out the dates\n",
        "            parsed_tokens = [tokens[0]] + [int(r) for r in tokens[3:8]]\n",
        "            #Remove length of screen name from data, which is found to have negative effect on classification accuracy\n",
        "            parsed_tokens = parsed_tokens[:3] + parsed_tokens[4:]\n",
        "            #Add # followings / # followers\n",
        "            parsed_tokens.append(round((parsed_tokens[1]/parsed_tokens[2] if parsed_tokens[2] else 0), num_decimal))\n",
        "            container.append(parsed_tokens)"
      ],
      "execution_count": 3,
      "outputs": []
    },
    {
      "cell_type": "code",
      "metadata": {
        "id": "frwd2JrW8EIe"
      },
      "source": [
        "#Reading data of a series of # followings for each user\n",
        "tokens = []\n",
        "def read_followings(filename, container):\n",
        "    with open(filename, 'r') as f:\n",
        "        i = 0\n",
        "        for line in f:\n",
        "            tokens = [int(r) for r in re.split(\"[\\D]\", line) if r != \"\"][0:]\n",
        "            tokens_new = tokens[1:]           \n",
        "            #Calculate standard deviation of the data\n",
        "            sd = round(stat.pstdev(tokens), num_decimal)\n",
        "            #Calcalate standard deviation of differences of the data\n",
        "            sdd = round(stat.pstdev(list(np.array(tokens[1:]) - np.array(tokens[:-1]))), num_decimal)\n",
        "            #Calculate lag one autocorrelation of the data\n",
        "            avg = np.mean(tokens)\n",
        "            numerator = sum((np.array(tokens[1:]) - avg) * (np.array(tokens[:-1]) - avg))\n",
        "            denominator = sum((np.array(tokens) - avg) ** 2)\n",
        "            lac = round(numerator/denominator, num_decimal) if denominator != 0 else 0\n",
        "            container[i] += [sd, sdd, lac]\n",
        "            i += 1"
      ],
      "execution_count": 4,
      "outputs": []
    },
    {
      "cell_type": "code",
      "metadata": {
        "id": "wNwN2gX-8IUN"
      },
      "source": [
        "#Reading tweets posted by each user\n",
        "def read_tweets(filename, container):\n",
        "    curr_userID = \"\"\n",
        "    curr_tweet_count = 0\n",
        "    #Features contained in tweets (current user)\n",
        "    urls, _at_s, hashtags, weekday_post = [], [], [], []\n",
        "    #Index for container\n",
        "    i = 0\n",
        "    with open(filename, encoding = 'utf-8', mode = 'r') as f:\n",
        "        while True:\n",
        "            line = f.readline()\n",
        "            tokens = [r for r in re.split(\"[\\t\\n]\", line) if r != \"\"]\n",
        "            if not line or tokens[0] != curr_userID and curr_userID:\n",
        "                #New user found / eof reached\n",
        "                num_tweets_weekday = [weekday_post.count(i) for i in range(7)]\n",
        "                ratio_tweets_weekday = [round(x, num_decimal) for x in list(np.array(num_tweets_weekday) / len(weekday_post))]\n",
        "                curr_user = num_tweets_weekday + ratio_tweets_weekday\n",
        "                for feature in (urls, _at_s, hashtags):\n",
        "                    curr_user.append(round(len(feature) / curr_tweet_count, num_decimal))\n",
        "                    curr_user.append(round(len(set(feature)) / curr_tweet_count, num_decimal))\n",
        "                while curr_userID != container[i][0]:\n",
        "                    i += 1\n",
        "                container[i] += curr_user\n",
        "                if not line:\n",
        "                    break\n",
        "                #Reset current user info containers\n",
        "                curr_tweet_count = 0\n",
        "                urls, _at_s, hashtags, weekday_post = [], [], [], []\n",
        "            #Post date of the tweet\n",
        "            curr_userID = tokens[0]\n",
        "            curr_tweet_count += 1\n",
        "            urls += re.findall('http[\\S]+', tokens[2])\n",
        "            _at_s += re.findall('@[\\S]+', tokens[2])\n",
        "            hashtags += re.findall('#[\\S]+', tokens[2])\n",
        "            post_date = re.split(\"[-\\s]\", tokens[3])\n",
        "            post_date = dt.date(int(post_date[0]), int(post_date[1]), int(post_date[2]))\n",
        "            weekday_post.append(post_date.weekday())"
      ],
      "execution_count": 5,
      "outputs": []
    },
    {
      "cell_type": "code",
      "metadata": {
        "id": "DtczHPfo8Kbe"
      },
      "source": [
        "#Deleting ambiguous users who are in both polluters and legitimate users (44 found)\n",
        "#The user ids are found in ascending order\n",
        "def del_amb(bots, humans):\n",
        "    i, j, count = (0, 0, 0)\n",
        "    while i < len(bots) and j < len(humans):\n",
        "        if bots[i][0] == humans[j][0]:\n",
        "            bots.pop(i)\n",
        "            humans.pop(j)\n",
        "            count += 1\n",
        "        elif int(bots[i][0]) < int(humans[j][0]):\n",
        "            i += 1\n",
        "        else:\n",
        "            j += 1\n",
        "    return count\n",
        "\n",
        "#Add 0's for missing values (some users have no tweets recorded)\n",
        "def add0(container):\n",
        "    length = 29\n",
        "    for i in range(len(container)):\n",
        "        container[i] += [0]*(length - len(container[i]))"
      ],
      "execution_count": 6,
      "outputs": []
    },
    {
      "cell_type": "code",
      "metadata": {
        "id": "sgTp2bbE8MGv"
      },
      "source": [
        "#Write data into text files\n",
        "def write_user(filename, container):\n",
        "    with open(filename, 'w') as f:\n",
        "        for inst in container:\n",
        "            f.write(\"\\t\".join([str(x) for x in inst]))\n",
        "            f.write(\"\\n\")"
      ],
      "execution_count": 7,
      "outputs": []
    },
    {
      "cell_type": "code",
      "metadata": {
        "id": "YuAY_vWJ8OVG"
      },
      "source": [
        "# #Download the dataset\n",
        "# if not os.path.exists('social_honeypot_icwsm_2011'):\n",
        "#     if not os.path.exists('social_honeypot_icwsm_2011.zip'):\n",
        "#         print(\"downloading data\")\n",
        "#         urlretrieve('http://infolab.tamu.edu/data/social_honeypot_icwsm_2011.zip', 'social_honeypot_icwsm_2011.zip')\n",
        "#     zip = zipfile.ZipFile('social_honeypot_icwsm_2011.zip')\n",
        "#     zip.extractall(path = 'social_honeypot_icwsm_2011')\n",
        "#     zip.close()\n",
        "#     print(\"data ready\")"
      ],
      "execution_count": 8,
      "outputs": []
    },
    {
      "cell_type": "code",
      "metadata": {
        "colab": {
          "base_uri": "https://localhost:8080/"
        },
        "id": "_yHk4VtM8SFV",
        "outputId": "b4b8a590-04b8-40bf-956a-3d1575d71fc7"
      },
      "source": [
        "#Read, process, and write data into text files\n",
        "#It takes a few minutes to run, and should run for only once\n",
        "bots, humans = [], []\n",
        "read_info('/content/gdrive/MyDrive/BTP/social_honeypot_icwsm_2011/content_polluters.txt', bots)\n",
        "print(\"data read from social_honeypot_icwsm_2011\\content_polluters.txt\")\n",
        "read_info('/content/gdrive/MyDrive/BTP/social_honeypot_icwsm_2011/legitimate_users.txt', humans)\n",
        "print(\"data read from social_honeypot_icwsm_2011\\legitimate_users.txt\")\n",
        "\n",
        "read_followings('/content/gdrive/MyDrive/BTP/social_honeypot_icwsm_2011/content_polluters_followings.txt', bots)\n",
        "print(\"data read from social_honeypot_icwsm_2011\\content_polluters_followings.txt\")\n",
        "read_followings('/content/gdrive/MyDrive/BTP/social_honeypot_icwsm_2011/legitimate_users_followings.txt', humans)\n",
        "print(\"data read from social_honeypot_icwsm_2011\\legitimate_users_followings.txt\")\n",
        "\n",
        "read_tweets('/content/gdrive/MyDrive/BTP/social_honeypot_icwsm_2011/content_polluters_tweets.txt', bots)\n",
        "print(\"data read from social_honeypot_icwsm_2011\\content_polluters_tweets.txt\")\n",
        "read_tweets('/content/gdrive/MyDrive/BTP/social_honeypot_icwsm_2011/legitimate_users_tweets.txt', humans)\n",
        "print(\"data read from social_honeypot_icwsm_2011\\legitimate_users_tweets.txt\")\n",
        "\n",
        "count = del_amb(bots, humans)\n",
        "print(\"%d mislabeled users deleted!\" % count)\n",
        "add0(bots)\n",
        "add0(humans)\n",
        "print(\"added 0's for missing values\")\n",
        "    \n",
        "write_user('bots.txt', bots)\n",
        "print(\"data written to bots.txt\")\n",
        "write_user('humans.txt', humans)\n",
        "print(\"data written to humans.txt\")"
      ],
      "execution_count": 9,
      "outputs": [
        {
          "output_type": "stream",
          "text": [
            "data read from social_honeypot_icwsm_2011\\content_polluters.txt\n",
            "data read from social_honeypot_icwsm_2011\\legitimate_users.txt\n",
            "data read from social_honeypot_icwsm_2011\\content_polluters_followings.txt\n",
            "data read from social_honeypot_icwsm_2011\\legitimate_users_followings.txt\n",
            "data read from social_honeypot_icwsm_2011\\content_polluters_tweets.txt\n",
            "data read from social_honeypot_icwsm_2011\\legitimate_users_tweets.txt\n",
            "44 mislabeled users deleted!\n",
            "added 0's for missing values\n",
            "data written to bots.txt\n",
            "data written to humans.txt\n"
          ],
          "name": "stdout"
        }
      ]
    },
    {
      "cell_type": "code",
      "metadata": {
        "id": "HyaVkpyF-FTH"
      },
      "source": [
        "import matplotlib.patches as mpatches\n",
        "import matplotlib.pyplot as plt\n",
        "#This file reads data from polluters.txt and legitimate_users.txt and do analysis on the data"
      ],
      "execution_count": 10,
      "outputs": []
    },
    {
      "cell_type": "code",
      "metadata": {
        "colab": {
          "base_uri": "https://localhost:8080/"
        },
        "id": "LKq8LTzL-Lit",
        "outputId": "f2a2b488-cc43-4d8e-e065-f9970e470817"
      },
      "source": [
        "#Read data from polluters.txt and legitimate_users.txt\n",
        "polluters = []\n",
        "reader_1 = open(\"bots.txt\", 'r')\n",
        "for line in reader_1:\n",
        "    tokens = [float(r) for r in re.split(\"[\\t\\n]\", line) if r != \"\"]\n",
        "    polluters.append(tokens)\n",
        "reader_1.close()\n",
        "print(\"data read from polluters.txt\")\n",
        "    \n",
        "legitimate_users = []\n",
        "reader_2 = open(\"humans.txt\", 'r')\n",
        "for line in reader_2:\n",
        "    tokens = [float(r) for r in re.split(\"[\\t\\n]\", line) if r != \"\"]\n",
        "    legitimate_users.append(tokens)\n",
        "reader_2.close()\n",
        "print(\"data read from legitimate_users.txt\")\n",
        "\n",
        "\n",
        "#Combine 2 datasets for classification, dataset_Y is the target list\n",
        "dataset_X = [r[1:] for r in polluters + legitimate_users]\n",
        "nodes = [r[0] for r in polluters + legitimate_users]\n",
        "dataset_Y = [0] * len(polluters) + [1] * len(legitimate_users)"
      ],
      "execution_count": 11,
      "outputs": [
        {
          "output_type": "stream",
          "text": [
            "data read from polluters.txt\n",
            "data read from legitimate_users.txt\n"
          ],
          "name": "stdout"
        }
      ]
    },
    {
      "cell_type": "code",
      "metadata": {
        "id": "Tdd6S6pYTuZH"
      },
      "source": [
        "# print(dataset_X.shape)"
      ],
      "execution_count": null,
      "outputs": []
    },
    {
      "cell_type": "code",
      "metadata": {
        "id": "cSekBQAS-eRG"
      },
      "source": [
        "# #Plot graph of #followers / #followings to see the data distribution patterns\n",
        "# humans_patch = mpatches.Patch(color='green', label='Humans')\n",
        "# bots_patch = mpatches.Patch(color='blue', label='Bots')\n",
        "# plt.figure(figsize=(10, 8))\n",
        "# plt.plot([x[0] for x in dataset_X][len(polluters):], [x[1] for x in dataset_X][len(polluters):], \"go\")\n",
        "# plt.plot([x[0] for x in dataset_X][:len(polluters)], [x[1] for x in dataset_X][:len(polluters)], \"bo\")\n",
        "# plt.legend(handles=[bots_patch, humans_patch])\n",
        "# plt.axis([-10, 5000, -10, 40000])\n",
        "# plt.ylabel(\"Number of followers\")\n",
        "# plt.xlabel(\"Number of followings\")\n",
        "# plt.title(\"# followers vs. # followings graph (Bots overlapping)\")\n",
        "# plt.show()\n",
        "\n",
        "# plt.figure(figsize=(10, 8))\n",
        "# plt.plot([x[0] for x in dataset_X][:len(polluters)], [x[1] for x in dataset_X][:len(polluters)], \"bo\")\n",
        "# plt.plot([x[0] for x in dataset_X][len(polluters):], [x[1] for x in dataset_X][len(polluters):], \"go\")\n",
        "# plt.legend(handles=[bots_patch, humans_patch])\n",
        "# plt.axis([-10, 5000, -10, 40000])\n",
        "# plt.ylabel(\"Number of followers\")\n",
        "# plt.xlabel(\"Number of followings\")\n",
        "# plt.title(\"# followers vs. # followings graph (Humans overlapping)\")\n",
        "# plt.show()"
      ],
      "execution_count": null,
      "outputs": []
    },
    {
      "cell_type": "code",
      "metadata": {
        "id": "oGeYtd0b-hPE"
      },
      "source": [
        "from sklearn.linear_model import LogisticRegressionCV, LogisticRegression\n",
        "from sklearn.ensemble import RandomForestClassifier\n",
        "from sklearn.model_selection import cross_val_score\n",
        "from sklearn.metrics import f1_score, confusion_matrix\n",
        "from sklearn.model_selection import KFold\n",
        "from sklearn.model_selection import train_test_split\n",
        "\n",
        "#This file reads data from polluters.txt and legitimate_users.txt and classify the records"
      ],
      "execution_count": 12,
      "outputs": []
    },
    {
      "cell_type": "code",
      "metadata": {
        "colab": {
          "base_uri": "https://localhost:8080/"
        },
        "id": "3w8n-YmK-jE1",
        "outputId": "04e252ab-dc0e-4c04-a55c-83e002f8522e"
      },
      "source": [
        "#Separate dataset_X into bins by # followings and # followers and try classification\n",
        "#Drop some outliers based on the # followers vs. #followings graph\n",
        "# data_x = []\n",
        "# data_y = []\n",
        "# outliers_x = []\n",
        "# outliers_y = []\n",
        "# i = 0\n",
        "# while i < len(dataset_X):\n",
        "#     if dataset_X[i][0] < 500:\n",
        "#         if dataset_X[i][1] > 1500:\n",
        "#             data_x.append(dataset_X[i] + [1, 0, 0])\n",
        "#             data_y.append(dataset_Y[i])\n",
        "#         else:\n",
        "#             data_x.append(dataset_X[i] + [0, 1, 0])\n",
        "#             data_y.append(dataset_Y[i])\n",
        "#     elif dataset_X[i][1] < dataset_X[i][0]*0.9+10000:\n",
        "#         #The #followers/#followings ratio is below the generalized line\n",
        "#         if dataset_X[i][0] < 2005:\n",
        "#             data_x.append(dataset_X[i] + [0, 1, 0])\n",
        "#             data_y.append(dataset_Y[i])\n",
        "#         else:\n",
        "#             data_x.append(dataset_X[i] + [0, 0, 1])\n",
        "#             data_y.append(dataset_Y[i])\n",
        "#     else:\n",
        "#         outliers_x.append(dataset_X[i])\n",
        "#         outliers_y.append(dataset_Y[i])\n",
        "#     i += 1\n",
        "# dataset_X = data_x\n",
        "# dataset_Y = data_y\n",
        "# print(\"%d outliers are dropped\" % len(outliers_x))"
      ],
      "execution_count": null,
      "outputs": [
        {
          "output_type": "stream",
          "text": [
            "57 outliers are dropped\n"
          ],
          "name": "stdout"
        }
      ]
    },
    {
      "cell_type": "code",
      "metadata": {
        "id": "8GfuRkes-lHA",
        "colab": {
          "base_uri": "https://localhost:8080/"
        },
        "outputId": "1f235098-0637-48d0-958a-865ac8c71286"
      },
      "source": [
        "#Scale each feature of the data with its maximum value\n",
        "#This is found to give a better result than no scale or scale with both maximum and standard deviation\n",
        "data_x = dataset_X\n",
        "data_y = dataset_Y\n",
        "max_values = np.matrix(data_x).mean(0).tolist()[0][:-1] + [1]\n",
        "data_x = [[x/y for x, y in list(zip(z, max_values))] for z in data_x]\n",
        "print(\"data scaled\")\n",
        "print(\"%d instances, where %g are bots\" % (len(data_x), data_y.count(0)/len(data_y)))"
      ],
      "execution_count": 13,
      "outputs": [
        {
          "output_type": "stream",
          "text": [
            "data scaled\n",
            "41411 instances, where 0.535582 are bots\n"
          ],
          "name": "stdout"
        }
      ]
    },
    {
      "cell_type": "code",
      "metadata": {
        "id": "1yZpTUrt-m3_"
      },
      "source": [
        "#Need KFold iterator since method \"cross_val_score\" doesn't provide shuffling function\n",
        "kFold = KFold(n_splits = 10, shuffle = True)\n",
        "\n",
        "#Build the classifier and do classification based on: all numeric features & each numeric feature\n",
        "lr = LogisticRegression()\n",
        "rf = RandomForestClassifier(criterion = 'entropy', n_estimators = 50)"
      ],
      "execution_count": 14,
      "outputs": []
    },
    {
      "cell_type": "code",
      "metadata": {
        "colab": {
          "base_uri": "https://localhost:8080/",
          "height": 229
        },
        "id": "nPyvKzEW-qPV",
        "outputId": "e807dc27-9285-4777-f85a-ba43d0209e55"
      },
      "source": [
        "#Do classification with Random Forest classifier\n",
        "#This takes a minute to run\n",
        "\n",
        "#First use cross_val_score to get a total accuracy\n",
        "score = np.mean(cross_val_score(rf, X_graph_2, Y_graph_2, cv = kFold,scoring='f1'))\n",
        "print(\"\\naccuracy:\\ntotal:\\t%g%%\" % round(score*100, 2))\n",
        "\n",
        "#Then do cross validation manually to get the f1 score and confusion matrix\n",
        "#Also count misclassified bots and humans respectively, and calculate the accuracies respectively\n",
        "e_h, e_b = 0, 0\n",
        "predictions, y_tests = [], []\n",
        "\n",
        "for train_index, test_index in kFold.split(X_graph_2):\n",
        "    X_graph_2, Y_graph_2 = np.array(X_graph_2), np.array(Y_graph_2)\n",
        "    X_train, X_test = list(X_graph_2[train_index]), list(X_graph_2[test_index])\n",
        "    y_train, y_test = list(Y_graph_2[train_index]), list(Y_graph_2[test_index])\n",
        "    rf.fit(X_train, y_train)\n",
        "    prediction = list(rf.predict(X_test))\n",
        "    predictions += prediction\n",
        "    y_tests += y_test\n",
        "    i = 0\n",
        "    while i < len(y_test):\n",
        "        if prediction[i] != y_test[i]:\n",
        "            if y_test[i] == 0:\n",
        "                e_b += 1\n",
        "            else:\n",
        "                e_h += 1\n",
        "        i += 1\n",
        "f1_bots = f1_score(y_tests, predictions, pos_label = 0)\n",
        "f1_humans = f1_score(y_tests, predictions, pos_label = 1)\n",
        "conf_matrix = np.matrix(list(confusion_matrix(y_tests, predictions)))\n",
        "\n",
        "print(\"humans:\\t%g%%\" % round((1 - e_h/y_tests.count(1))*100, 2))\n",
        "print(\"bots:\\t%g%%\" % round((1 - e_b/y_tests.count(0))*100, 2))\n",
        "print(\"\\nf1 scores:\\nhumans:\\t%g%%\\nbots:\\t%g%%\" % (round(f1_humans*100, 2), round(f1_bots*100, 2)))\n",
        "print(\"\\nconfusion matrix:\\n\", conf_matrix, \"\\n\")\n",
        "\n",
        "#FYI, the labels for confusion matrix are:\n",
        "#         classified as\n",
        "#         bots     humans\n",
        "# bots\n",
        "# humans"
      ],
      "execution_count": null,
      "outputs": [
        {
          "output_type": "error",
          "ename": "NameError",
          "evalue": "ignored",
          "traceback": [
            "\u001b[0;31m---------------------------------------------------------------------------\u001b[0m",
            "\u001b[0;31mNameError\u001b[0m                                 Traceback (most recent call last)",
            "\u001b[0;32m<ipython-input-15-d4e4d089bdfc>\u001b[0m in \u001b[0;36m<module>\u001b[0;34m()\u001b[0m\n\u001b[1;32m      3\u001b[0m \u001b[0;34m\u001b[0m\u001b[0m\n\u001b[1;32m      4\u001b[0m \u001b[0;31m#First use cross_val_score to get a total accuracy\u001b[0m\u001b[0;34m\u001b[0m\u001b[0;34m\u001b[0m\u001b[0;34m\u001b[0m\u001b[0m\n\u001b[0;32m----> 5\u001b[0;31m \u001b[0mscore\u001b[0m \u001b[0;34m=\u001b[0m \u001b[0mnp\u001b[0m\u001b[0;34m.\u001b[0m\u001b[0mmean\u001b[0m\u001b[0;34m(\u001b[0m\u001b[0mcross_val_score\u001b[0m\u001b[0;34m(\u001b[0m\u001b[0mrf\u001b[0m\u001b[0;34m,\u001b[0m \u001b[0mX_graph_2\u001b[0m\u001b[0;34m,\u001b[0m \u001b[0mY_graph_2\u001b[0m\u001b[0;34m,\u001b[0m \u001b[0mcv\u001b[0m \u001b[0;34m=\u001b[0m \u001b[0mkFold\u001b[0m\u001b[0;34m,\u001b[0m\u001b[0mscoring\u001b[0m\u001b[0;34m=\u001b[0m\u001b[0;34m'f1'\u001b[0m\u001b[0;34m)\u001b[0m\u001b[0;34m)\u001b[0m\u001b[0;34m\u001b[0m\u001b[0;34m\u001b[0m\u001b[0m\n\u001b[0m\u001b[1;32m      6\u001b[0m \u001b[0mprint\u001b[0m\u001b[0;34m(\u001b[0m\u001b[0;34m\"\\naccuracy:\\ntotal:\\t%g%%\"\u001b[0m \u001b[0;34m%\u001b[0m \u001b[0mround\u001b[0m\u001b[0;34m(\u001b[0m\u001b[0mscore\u001b[0m\u001b[0;34m*\u001b[0m\u001b[0;36m100\u001b[0m\u001b[0;34m,\u001b[0m \u001b[0;36m2\u001b[0m\u001b[0;34m)\u001b[0m\u001b[0;34m)\u001b[0m\u001b[0;34m\u001b[0m\u001b[0;34m\u001b[0m\u001b[0m\n\u001b[1;32m      7\u001b[0m \u001b[0;34m\u001b[0m\u001b[0m\n",
            "\u001b[0;31mNameError\u001b[0m: name 'X_graph_2' is not defined"
          ]
        }
      ]
    },
    {
      "cell_type": "code",
      "metadata": {
        "colab": {
          "base_uri": "https://localhost:8080/"
        },
        "id": "YPmoGIiVXElX",
        "outputId": "3eedde9a-468f-48b4-d83a-81f914072395"
      },
      "source": [
        "!pip install tweepy "
      ],
      "execution_count": null,
      "outputs": [
        {
          "output_type": "stream",
          "text": [
            "Requirement already satisfied: tweepy in /usr/local/lib/python3.7/dist-packages (3.10.0)\n",
            "Requirement already satisfied: requests[socks]>=2.11.1 in /usr/local/lib/python3.7/dist-packages (from tweepy) (2.23.0)\n",
            "Requirement already satisfied: requests-oauthlib>=0.7.0 in /usr/local/lib/python3.7/dist-packages (from tweepy) (1.3.0)\n",
            "Requirement already satisfied: six>=1.10.0 in /usr/local/lib/python3.7/dist-packages (from tweepy) (1.15.0)\n",
            "Requirement already satisfied: idna<3,>=2.5 in /usr/local/lib/python3.7/dist-packages (from requests[socks]>=2.11.1->tweepy) (2.10)\n",
            "Requirement already satisfied: certifi>=2017.4.17 in /usr/local/lib/python3.7/dist-packages (from requests[socks]>=2.11.1->tweepy) (2020.12.5)\n",
            "Requirement already satisfied: urllib3!=1.25.0,!=1.25.1,<1.26,>=1.21.1 in /usr/local/lib/python3.7/dist-packages (from requests[socks]>=2.11.1->tweepy) (1.24.3)\n",
            "Requirement already satisfied: chardet<4,>=3.0.2 in /usr/local/lib/python3.7/dist-packages (from requests[socks]>=2.11.1->tweepy) (3.0.4)\n",
            "Requirement already satisfied: PySocks!=1.5.7,>=1.5.6; extra == \"socks\" in /usr/local/lib/python3.7/dist-packages (from requests[socks]>=2.11.1->tweepy) (1.7.1)\n",
            "Requirement already satisfied: oauthlib>=3.0.0 in /usr/local/lib/python3.7/dist-packages (from requests-oauthlib>=0.7.0->tweepy) (3.1.0)\n"
          ],
          "name": "stdout"
        }
      ]
    },
    {
      "cell_type": "code",
      "metadata": {
        "id": "lASWwVwwXJ2g"
      },
      "source": [
        "import tweepy \n",
        "import time"
      ],
      "execution_count": null,
      "outputs": []
    },
    {
      "cell_type": "code",
      "metadata": {
        "id": "PQ8yBABJXMDa"
      },
      "source": [
        "consumerKey = \"Cb7u11e49o3SYLQ2LpOuOwvYx\"\n",
        "consumerSecret = \"SZ4ZbMHpYLK9qKCPHsbpSF3m1QA6wNdD99xyvlfHBT3I5KLCD9\"\n",
        "accessToken = \"1292925954436632576-3hxmOSifgPflLFmWTpJHQKSYxaOUwn\"\n",
        "accessTokenSecret = \"rnR2fS2pMrEYgsxYmNmICGi69UIpVrpHg10khPfB8MaAz\""
      ],
      "execution_count": null,
      "outputs": []
    },
    {
      "cell_type": "code",
      "metadata": {
        "id": "kSUTgsqTZjnX"
      },
      "source": [
        "auth = tweepy.OAuthHandler(consumerKey, consumerSecret)\n",
        "auth.set_access_token(accessToken, accessTokenSecret)"
      ],
      "execution_count": null,
      "outputs": []
    },
    {
      "cell_type": "code",
      "metadata": {
        "id": "ov2SeD4xZqCR"
      },
      "source": [
        "api = tweepy.API(auth,wait_on_rate_limit=True, wait_on_rate_limit_notify=True, compression=True)"
      ],
      "execution_count": null,
      "outputs": []
    },
    {
      "cell_type": "code",
      "metadata": {
        "id": "yoYgQXbBZt39"
      },
      "source": [
        "def get_followers(id):\n",
        "    print('Getting Follower list of ',id)\n",
        "    followers = []\n",
        "    # followers_screenNames = []\n",
        "    try:\n",
        "      # users = tweepy.Cursor(api.followers, id=id, wait_on_rate_limit=True,count=200)\n",
        "      # for user in users.items():\n",
        "      #     try:\n",
        "      #         followers.append(user)\n",
        "      #         # followers_screenNames.append(user.screen_name)\n",
        "      #     except tweepy.TweepError as e:\n",
        "      #         print(\"Going to sleep:\", e)\n",
        "      #         time.sleep(60)\n",
        "      # followers = api.followers_ids(id)\n",
        "      c = tweepy.Cursor(api.followers_ids, id = id)\n",
        "      for page in c.pages():\n",
        "        for item in page:\n",
        "          followers.append(item)\n",
        "      return followers\n",
        "    except tweepy.TweepError:\n",
        "      return followers"
      ],
      "execution_count": null,
      "outputs": []
    },
    {
      "cell_type": "code",
      "metadata": {
        "id": "w3IOT20qe-fL"
      },
      "source": [
        "def get_followings(id):\n",
        "    print('Getting Following list of ',id)\n",
        "    followings = []\n",
        "    # followers_screenNames = []\n",
        "    try:\n",
        "      # users = tweepy.Cursor(api.followers, id=id, wait_on_rate_limit=True,count=200)\n",
        "      # for user in users.items():\n",
        "      #     try:\n",
        "      #         followers.append(user)\n",
        "      #         # followers_screenNames.append(user.screen_name)\n",
        "      #     except tweepy.TweepError as e:\n",
        "      #         print(\"Going to sleep:\", e)\n",
        "      #         time.sleep(60)\n",
        "      c = tweepy.Cursor(api.friends_ids, id=id)\n",
        "      for page in c.pages():\n",
        "        for item in page:\n",
        "          followings.append(item)\n",
        "      return followings\n",
        "    except tweepy.TweepError:\n",
        "      return followings"
      ],
      "execution_count": null,
      "outputs": []
    },
    {
      "cell_type": "code",
      "metadata": {
        "id": "Ij50jgpSZWDj"
      },
      "source": [
        "node_dict_1 = {}\n",
        "node_dict_2 = {}\n",
        "for n in legitimate_users:\n",
        "  node_dict_1[n[0]]=1\n",
        "for b in bots:\n",
        "  node_dict_2[b[0]]=0"
      ],
      "execution_count": null,
      "outputs": []
    },
    {
      "cell_type": "code",
      "metadata": {
        "id": "P3J_oh8RfQ4m"
      },
      "source": [
        "import random\n",
        "random.seed(0)\n",
        "bot_nodes = [r[0] for r in polluters]\n",
        "random.shuffle(bot_nodes)"
      ],
      "execution_count": null,
      "outputs": []
    },
    {
      "cell_type": "code",
      "metadata": {
        "colab": {
          "base_uri": "https://localhost:8080/"
        },
        "id": "bvpzKXTf5ebV",
        "outputId": "95b98a27-9556-4c4c-a4ba-9a7261dd685a"
      },
      "source": [
        "sample = get_followers(6301)\n",
        "print(len(sample))"
      ],
      "execution_count": null,
      "outputs": [
        {
          "output_type": "stream",
          "text": [
            "Getting Follower list of  6301\n",
            "22273\n"
          ],
          "name": "stdout"
        }
      ]
    },
    {
      "cell_type": "code",
      "metadata": {
        "id": "jt_rlsy3_SIw"
      },
      "source": [
        "hashed={}\n",
        "for node in nodes:\n",
        "  hashed[node]=1"
      ],
      "execution_count": 52,
      "outputs": []
    },
    {
      "cell_type": "code",
      "metadata": {
        "colab": {
          "base_uri": "https://localhost:8080/"
        },
        "id": "ucagEbgz5rQk",
        "outputId": "ec17b536-e3b2-4d86-fcf4-aadd270b34ae"
      },
      "source": [
        "print(sample[0] in hash)"
      ],
      "execution_count": null,
      "outputs": [
        {
          "output_type": "stream",
          "text": [
            "False\n"
          ],
          "name": "stdout"
        }
      ]
    },
    {
      "cell_type": "code",
      "metadata": {
        "id": "7DoyeVxO5ynt"
      },
      "source": [
        "sample_ids_in_data = []\n",
        "for id in sample:\n",
        "  if id in hash:\n",
        "    sample_ids_in_data.append(id)"
      ],
      "execution_count": null,
      "outputs": []
    },
    {
      "cell_type": "code",
      "metadata": {
        "colab": {
          "base_uri": "https://localhost:8080/"
        },
        "id": "prV3nCvV62Bf",
        "outputId": "2622115f-db28-4208-e889-f07fd466bf5d"
      },
      "source": [
        "len(sample_ids_in_data)"
      ],
      "execution_count": null,
      "outputs": [
        {
          "output_type": "execute_result",
          "data": {
            "text/plain": [
              "81"
            ]
          },
          "metadata": {
            "tags": []
          },
          "execution_count": 28
        }
      ]
    },
    {
      "cell_type": "code",
      "metadata": {
        "id": "Q8vLQQ6s7k-S"
      },
      "source": [
        "cnt=0\n",
        "for id in sample_ids_in_data:\n",
        "  if id in bot_nodes:\n",
        "    cnt=cnt+1"
      ],
      "execution_count": null,
      "outputs": []
    },
    {
      "cell_type": "code",
      "metadata": {
        "colab": {
          "base_uri": "https://localhost:8080/",
          "height": 740
        },
        "id": "-GI1IIYxffAG",
        "outputId": "90c7e47a-7315-4435-d348-f10a3385a5d4"
      },
      "source": [
        "follower_edges=[]\n",
        "following_edges=[]\n",
        "for node in bot_nodes[60:120]:\n",
        "  followers = get_followers(int(node))\n",
        "  followings = get_followings(int(node))\n",
        "  for follower in followers:\n",
        "    if follower in hash:\n",
        "      follower_edges.append((node,follower))\n",
        "  for following in followings:\n",
        "    if following in hash:\n",
        "      following_edges.append((node,following))"
      ],
      "execution_count": null,
      "outputs": [
        {
          "output_type": "stream",
          "text": [
            "Getting Follower list of  139638914\n",
            "Getting Following list of  139638914\n",
            "Getting Follower list of  26563593\n",
            "Getting Following list of  26563593\n",
            "Getting Follower list of  16076678\n"
          ],
          "name": "stdout"
        },
        {
          "output_type": "stream",
          "text": [
            "Rate limit reached. Sleeping for: 865\n"
          ],
          "name": "stderr"
        },
        {
          "output_type": "stream",
          "text": [
            "Getting Following list of  16076678\n",
            "Getting Follower list of  111485414\n",
            "Getting Following list of  111485414\n",
            "Getting Follower list of  60638062\n",
            "Getting Following list of  60638062\n",
            "Getting Follower list of  84208989\n",
            "Getting Following list of  84208989\n"
          ],
          "name": "stdout"
        },
        {
          "output_type": "stream",
          "text": [
            "Rate limit reached. Sleeping for: 21\n"
          ],
          "name": "stderr"
        },
        {
          "output_type": "stream",
          "text": [
            "Getting Follower list of  111714739\n",
            "Getting Following list of  111714739\n",
            "Getting Follower list of  51822370\n",
            "Getting Following list of  51822370\n",
            "Getting Follower list of  91729026\n",
            "Getting Following list of  91729026\n"
          ],
          "name": "stdout"
        },
        {
          "output_type": "stream",
          "text": [
            "Rate limit reached. Sleeping for: 868\n"
          ],
          "name": "stderr"
        },
        {
          "output_type": "stream",
          "text": [
            "Getting Follower list of  135820831\n"
          ],
          "name": "stdout"
        },
        {
          "output_type": "error",
          "ename": "KeyboardInterrupt",
          "evalue": "ignored",
          "traceback": [
            "\u001b[0;31m---------------------------------------------------------------------------\u001b[0m",
            "\u001b[0;31mKeyboardInterrupt\u001b[0m                         Traceback (most recent call last)",
            "\u001b[0;32m<ipython-input-29-dc66f1f8fa06>\u001b[0m in \u001b[0;36m<module>\u001b[0;34m()\u001b[0m\n\u001b[1;32m      2\u001b[0m \u001b[0mfollowing_edges\u001b[0m\u001b[0;34m=\u001b[0m\u001b[0;34m[\u001b[0m\u001b[0;34m]\u001b[0m\u001b[0;34m\u001b[0m\u001b[0;34m\u001b[0m\u001b[0m\n\u001b[1;32m      3\u001b[0m \u001b[0;32mfor\u001b[0m \u001b[0mnode\u001b[0m \u001b[0;32min\u001b[0m \u001b[0mbot_nodes\u001b[0m\u001b[0;34m[\u001b[0m\u001b[0;36m60\u001b[0m\u001b[0;34m:\u001b[0m\u001b[0;36m120\u001b[0m\u001b[0;34m]\u001b[0m\u001b[0;34m:\u001b[0m\u001b[0;34m\u001b[0m\u001b[0;34m\u001b[0m\u001b[0m\n\u001b[0;32m----> 4\u001b[0;31m   \u001b[0mfollowers\u001b[0m \u001b[0;34m=\u001b[0m \u001b[0mget_followers\u001b[0m\u001b[0;34m(\u001b[0m\u001b[0mint\u001b[0m\u001b[0;34m(\u001b[0m\u001b[0mnode\u001b[0m\u001b[0;34m)\u001b[0m\u001b[0;34m)\u001b[0m\u001b[0;34m\u001b[0m\u001b[0;34m\u001b[0m\u001b[0m\n\u001b[0m\u001b[1;32m      5\u001b[0m   \u001b[0mfollowings\u001b[0m \u001b[0;34m=\u001b[0m \u001b[0mget_followings\u001b[0m\u001b[0;34m(\u001b[0m\u001b[0mint\u001b[0m\u001b[0;34m(\u001b[0m\u001b[0mnode\u001b[0m\u001b[0;34m)\u001b[0m\u001b[0;34m)\u001b[0m\u001b[0;34m\u001b[0m\u001b[0;34m\u001b[0m\u001b[0m\n\u001b[1;32m      6\u001b[0m   \u001b[0;32mfor\u001b[0m \u001b[0mfollower\u001b[0m \u001b[0;32min\u001b[0m \u001b[0mfollowers\u001b[0m\u001b[0;34m:\u001b[0m\u001b[0;34m\u001b[0m\u001b[0;34m\u001b[0m\u001b[0m\n",
            "\u001b[0;32m<ipython-input-21-d0e197f8dfdd>\u001b[0m in \u001b[0;36mget_followers\u001b[0;34m(id)\u001b[0m\n\u001b[1;32m     14\u001b[0m       \u001b[0;31m# followers = api.followers_ids(id)\u001b[0m\u001b[0;34m\u001b[0m\u001b[0;34m\u001b[0m\u001b[0;34m\u001b[0m\u001b[0m\n\u001b[1;32m     15\u001b[0m       \u001b[0mc\u001b[0m \u001b[0;34m=\u001b[0m \u001b[0mtweepy\u001b[0m\u001b[0;34m.\u001b[0m\u001b[0mCursor\u001b[0m\u001b[0;34m(\u001b[0m\u001b[0mapi\u001b[0m\u001b[0;34m.\u001b[0m\u001b[0mfollowers_ids\u001b[0m\u001b[0;34m,\u001b[0m \u001b[0mid\u001b[0m \u001b[0;34m=\u001b[0m \u001b[0mid\u001b[0m\u001b[0;34m)\u001b[0m\u001b[0;34m\u001b[0m\u001b[0;34m\u001b[0m\u001b[0m\n\u001b[0;32m---> 16\u001b[0;31m       \u001b[0;32mfor\u001b[0m \u001b[0mpage\u001b[0m \u001b[0;32min\u001b[0m \u001b[0mc\u001b[0m\u001b[0;34m.\u001b[0m\u001b[0mpages\u001b[0m\u001b[0;34m(\u001b[0m\u001b[0;34m)\u001b[0m\u001b[0;34m:\u001b[0m\u001b[0;34m\u001b[0m\u001b[0;34m\u001b[0m\u001b[0m\n\u001b[0m\u001b[1;32m     17\u001b[0m         \u001b[0;32mfor\u001b[0m \u001b[0mitem\u001b[0m \u001b[0;32min\u001b[0m \u001b[0mpage\u001b[0m\u001b[0;34m:\u001b[0m\u001b[0;34m\u001b[0m\u001b[0;34m\u001b[0m\u001b[0m\n\u001b[1;32m     18\u001b[0m           \u001b[0mfollowers\u001b[0m\u001b[0;34m.\u001b[0m\u001b[0mappend\u001b[0m\u001b[0;34m(\u001b[0m\u001b[0mitem\u001b[0m\u001b[0;34m)\u001b[0m\u001b[0;34m\u001b[0m\u001b[0;34m\u001b[0m\u001b[0m\n",
            "\u001b[0;32m/usr/local/lib/python3.7/dist-packages/tweepy/cursor.py\u001b[0m in \u001b[0;36m__next__\u001b[0;34m(self)\u001b[0m\n\u001b[1;32m     49\u001b[0m \u001b[0;34m\u001b[0m\u001b[0m\n\u001b[1;32m     50\u001b[0m     \u001b[0;32mdef\u001b[0m \u001b[0m__next__\u001b[0m\u001b[0;34m(\u001b[0m\u001b[0mself\u001b[0m\u001b[0;34m)\u001b[0m\u001b[0;34m:\u001b[0m\u001b[0;34m\u001b[0m\u001b[0;34m\u001b[0m\u001b[0m\n\u001b[0;32m---> 51\u001b[0;31m         \u001b[0;32mreturn\u001b[0m \u001b[0mself\u001b[0m\u001b[0;34m.\u001b[0m\u001b[0mnext\u001b[0m\u001b[0;34m(\u001b[0m\u001b[0;34m)\u001b[0m\u001b[0;34m\u001b[0m\u001b[0;34m\u001b[0m\u001b[0m\n\u001b[0m\u001b[1;32m     52\u001b[0m \u001b[0;34m\u001b[0m\u001b[0m\n\u001b[1;32m     53\u001b[0m     \u001b[0;32mdef\u001b[0m \u001b[0mnext\u001b[0m\u001b[0;34m(\u001b[0m\u001b[0mself\u001b[0m\u001b[0;34m)\u001b[0m\u001b[0;34m:\u001b[0m\u001b[0;34m\u001b[0m\u001b[0;34m\u001b[0m\u001b[0m\n",
            "\u001b[0;32m/usr/local/lib/python3.7/dist-packages/tweepy/cursor.py\u001b[0m in \u001b[0;36mnext\u001b[0;34m(self)\u001b[0m\n\u001b[1;32m     75\u001b[0m         data, cursors = self.method(cursor=self.next_cursor,\n\u001b[1;32m     76\u001b[0m                                     \u001b[0;34m*\u001b[0m\u001b[0mself\u001b[0m\u001b[0;34m.\u001b[0m\u001b[0margs\u001b[0m\u001b[0;34m,\u001b[0m\u001b[0;34m\u001b[0m\u001b[0;34m\u001b[0m\u001b[0m\n\u001b[0;32m---> 77\u001b[0;31m                                     **self.kwargs)\n\u001b[0m\u001b[1;32m     78\u001b[0m         \u001b[0mself\u001b[0m\u001b[0;34m.\u001b[0m\u001b[0mprev_cursor\u001b[0m\u001b[0;34m,\u001b[0m \u001b[0mself\u001b[0m\u001b[0;34m.\u001b[0m\u001b[0mnext_cursor\u001b[0m \u001b[0;34m=\u001b[0m \u001b[0mcursors\u001b[0m\u001b[0;34m\u001b[0m\u001b[0;34m\u001b[0m\u001b[0m\n\u001b[1;32m     79\u001b[0m         \u001b[0;32mif\u001b[0m \u001b[0mlen\u001b[0m\u001b[0;34m(\u001b[0m\u001b[0mdata\u001b[0m\u001b[0;34m)\u001b[0m \u001b[0;34m==\u001b[0m \u001b[0;36m0\u001b[0m\u001b[0;34m:\u001b[0m\u001b[0;34m\u001b[0m\u001b[0;34m\u001b[0m\u001b[0m\n",
            "\u001b[0;32m/usr/local/lib/python3.7/dist-packages/tweepy/binder.py\u001b[0m in \u001b[0;36m_call\u001b[0;34m(*args, **kwargs)\u001b[0m\n\u001b[1;32m    251\u001b[0m                 \u001b[0;32mreturn\u001b[0m \u001b[0mmethod\u001b[0m\u001b[0;34m\u001b[0m\u001b[0;34m\u001b[0m\u001b[0m\n\u001b[1;32m    252\u001b[0m             \u001b[0;32melse\u001b[0m\u001b[0;34m:\u001b[0m\u001b[0;34m\u001b[0m\u001b[0;34m\u001b[0m\u001b[0m\n\u001b[0;32m--> 253\u001b[0;31m                 \u001b[0;32mreturn\u001b[0m \u001b[0mmethod\u001b[0m\u001b[0;34m.\u001b[0m\u001b[0mexecute\u001b[0m\u001b[0;34m(\u001b[0m\u001b[0;34m)\u001b[0m\u001b[0;34m\u001b[0m\u001b[0;34m\u001b[0m\u001b[0m\n\u001b[0m\u001b[1;32m    254\u001b[0m         \u001b[0;32mfinally\u001b[0m\u001b[0;34m:\u001b[0m\u001b[0;34m\u001b[0m\u001b[0;34m\u001b[0m\u001b[0m\n\u001b[1;32m    255\u001b[0m             \u001b[0mmethod\u001b[0m\u001b[0;34m.\u001b[0m\u001b[0msession\u001b[0m\u001b[0;34m.\u001b[0m\u001b[0mclose\u001b[0m\u001b[0;34m(\u001b[0m\u001b[0;34m)\u001b[0m\u001b[0;34m\u001b[0m\u001b[0;34m\u001b[0m\u001b[0m\n",
            "\u001b[0;32m/usr/local/lib/python3.7/dist-packages/tweepy/binder.py\u001b[0m in \u001b[0;36mexecute\u001b[0;34m(self)\u001b[0m\n\u001b[1;32m    161\u001b[0m                                     \u001b[0;32mif\u001b[0m \u001b[0mself\u001b[0m\u001b[0;34m.\u001b[0m\u001b[0mwait_on_rate_limit_notify\u001b[0m\u001b[0;34m:\u001b[0m\u001b[0;34m\u001b[0m\u001b[0;34m\u001b[0m\u001b[0m\n\u001b[1;32m    162\u001b[0m                                         \u001b[0mlog\u001b[0m\u001b[0;34m.\u001b[0m\u001b[0mwarning\u001b[0m\u001b[0;34m(\u001b[0m\u001b[0;34m\"Rate limit reached. Sleeping for: %d\"\u001b[0m \u001b[0;34m%\u001b[0m \u001b[0msleep_time\u001b[0m\u001b[0;34m)\u001b[0m\u001b[0;34m\u001b[0m\u001b[0;34m\u001b[0m\u001b[0m\n\u001b[0;32m--> 163\u001b[0;31m                                     \u001b[0mtime\u001b[0m\u001b[0;34m.\u001b[0m\u001b[0msleep\u001b[0m\u001b[0;34m(\u001b[0m\u001b[0msleep_time\u001b[0m \u001b[0;34m+\u001b[0m \u001b[0;36m5\u001b[0m\u001b[0;34m)\u001b[0m  \u001b[0;31m# sleep for few extra sec\u001b[0m\u001b[0;34m\u001b[0m\u001b[0;34m\u001b[0m\u001b[0m\n\u001b[0m\u001b[1;32m    164\u001b[0m \u001b[0;34m\u001b[0m\u001b[0m\n\u001b[1;32m    165\u001b[0m                 \u001b[0;31m# if self.wait_on_rate_limit and self._reset_time is not None and \\\u001b[0m\u001b[0;34m\u001b[0m\u001b[0;34m\u001b[0m\u001b[0;34m\u001b[0m\u001b[0m\n",
            "\u001b[0;31mKeyboardInterrupt\u001b[0m: "
          ]
        }
      ]
    },
    {
      "cell_type": "code",
      "metadata": {
        "id": "hq12ouYCantB"
      },
      "source": [
        "shuffled_nodes = nodes\n",
        "random.shuffle(shuffled_nodes)"
      ],
      "execution_count": null,
      "outputs": []
    },
    {
      "cell_type": "code",
      "metadata": {
        "id": "vJF0fA7cbRQY"
      },
      "source": [
        "# bot_nodes = []\n",
        "# legit_nodes = []\n",
        "# for node in shuffled_nodes[:200]:\n",
        "#   if node_dict[int(node)]==0:\n",
        "#     bot_nodes.append(int(node))\n",
        "#   elif node_dict[int(node)]==1:\n",
        "#     legit_nodes.append(int(node))\n",
        "#   else:\n",
        "#     continue"
      ],
      "execution_count": null,
      "outputs": []
    },
    {
      "cell_type": "code",
      "metadata": {
        "colab": {
          "base_uri": "https://localhost:8080/"
        },
        "id": "UHaoqKYAb1kV",
        "outputId": "8221b8e0-14fc-49ce-ebcb-5e72adf1e8a5"
      },
      "source": [
        "get_followers(6310)"
      ],
      "execution_count": null,
      "outputs": [
        {
          "output_type": "stream",
          "text": [
            "Getting Follower list of  6310\n"
          ],
          "name": "stdout"
        },
        {
          "output_type": "execute_result",
          "data": {
            "text/plain": [
              "[]"
            ]
          },
          "metadata": {
            "tags": []
          },
          "execution_count": 53
        }
      ]
    },
    {
      "cell_type": "code",
      "metadata": {
        "colab": {
          "base_uri": "https://localhost:8080/",
          "height": 1000
        },
        "id": "rE2pjqnLaiKM",
        "outputId": "ccf572e3-8795-4e8b-ff72-907228ee42d1"
      },
      "source": [
        "final_edges=[]\n",
        "for node in nodes[:1000]:\n",
        "  followers = get_followers(int(node))\n",
        "  for follower in followers:\n",
        "    if follower in hash:\n",
        "      final_edges.append((node,follower))"
      ],
      "execution_count": null,
      "outputs": [
        {
          "output_type": "stream",
          "text": [
            "Getting Follower list of  6301\n",
            "Getting Follower list of  10836\n",
            "Getting Follower list of  10997\n",
            "Getting Follower list of  633293\n",
            "Getting Follower list of  717883\n",
            "Getting Follower list of  763068\n",
            "Getting Follower list of  783705\n",
            "Getting Follower list of  788352\n",
            "Getting Follower list of  810011\n",
            "Getting Follower list of  815299\n",
            "Getting Follower list of  817045\n",
            "Getting Follower list of  964981\n",
            "Getting Follower list of  1091571\n",
            "Getting Follower list of  1303381\n"
          ],
          "name": "stdout"
        },
        {
          "output_type": "stream",
          "text": [
            "Rate limit reached. Sleeping for: 773\n"
          ],
          "name": "stderr"
        },
        {
          "output_type": "stream",
          "text": [
            "Getting Follower list of  1322691\n",
            "Getting Follower list of  1467621\n",
            "Getting Follower list of  1599001\n",
            "Getting Follower list of  1907361\n",
            "Getting Follower list of  2077351\n",
            "Getting Follower list of  2157321\n",
            "Getting Follower list of  2219081\n",
            "Getting Follower list of  2243161\n",
            "Getting Follower list of  2269491\n",
            "Getting Follower list of  2695911\n",
            "Getting Follower list of  2884771\n",
            "Getting Follower list of  3060631\n",
            "Getting Follower list of  3076591\n",
            "Getting Follower list of  3136731\n",
            "Getting Follower list of  3291901\n"
          ],
          "name": "stdout"
        },
        {
          "output_type": "stream",
          "text": [
            "Rate limit reached. Sleeping for: 887\n"
          ],
          "name": "stderr"
        },
        {
          "output_type": "stream",
          "text": [
            "Getting Follower list of  3881391\n",
            "Getting Follower list of  3908631\n",
            "Getting Follower list of  4000261\n",
            "Getting Follower list of  4046051\n",
            "Getting Follower list of  4319321\n",
            "Getting Follower list of  4567451\n",
            "Getting Follower list of  5169871\n",
            "Getting Follower list of  5414782\n",
            "Getting Follower list of  5439702\n",
            "Getting Follower list of  5448632\n",
            "Getting Follower list of  5609382\n",
            "Getting Follower list of  5693062\n",
            "Getting Follower list of  5732162\n",
            "Getting Follower list of  5751742\n",
            "Getting Follower list of  5775622\n"
          ],
          "name": "stdout"
        },
        {
          "output_type": "stream",
          "text": [
            "Rate limit reached. Sleeping for: 892\n"
          ],
          "name": "stderr"
        },
        {
          "output_type": "stream",
          "text": [
            "Getting Follower list of  5884032\n",
            "Getting Follower list of  5925162\n",
            "Getting Follower list of  5925682\n",
            "Getting Follower list of  5971902\n",
            "Getting Follower list of  6002602\n",
            "Getting Follower list of  6087712\n",
            "Getting Follower list of  6154322\n",
            "Getting Follower list of  6228472\n",
            "Getting Follower list of  6267832\n",
            "Getting Follower list of  6332272\n",
            "Getting Follower list of  6333392\n",
            "Getting Follower list of  6356472\n",
            "Getting Follower list of  6774442\n",
            "Getting Follower list of  6859412\n",
            "Getting Follower list of  6861662\n",
            "Getting Follower list of  6871812\n"
          ],
          "name": "stdout"
        },
        {
          "output_type": "stream",
          "text": [
            "Rate limit reached. Sleeping for: 896\n"
          ],
          "name": "stderr"
        },
        {
          "output_type": "stream",
          "text": [
            "Getting Follower list of  6901952\n",
            "Getting Follower list of  6902602\n",
            "Getting Follower list of  6982452\n",
            "Getting Follower list of  7024522\n",
            "Getting Follower list of  7082702\n",
            "Getting Follower list of  7087112\n",
            "Getting Follower list of  7103212\n",
            "Getting Follower list of  7159492\n",
            "Getting Follower list of  7251502\n",
            "Getting Follower list of  7283562\n",
            "Getting Follower list of  7350652\n",
            "Getting Follower list of  7361162\n",
            "Getting Follower list of  7400262\n",
            "Getting Follower list of  7540482\n",
            "Getting Follower list of  7545332\n",
            "Getting Follower list of  7601182\n"
          ],
          "name": "stdout"
        },
        {
          "output_type": "stream",
          "text": [
            "Rate limit reached. Sleeping for: 896\n"
          ],
          "name": "stderr"
        },
        {
          "output_type": "stream",
          "text": [
            "Getting Follower list of  7721172\n",
            "Getting Follower list of  7831092\n",
            "Getting Follower list of  7891352\n",
            "Getting Follower list of  7891802\n",
            "Getting Follower list of  7934702\n",
            "Getting Follower list of  7946942\n",
            "Getting Follower list of  7950312\n",
            "Getting Follower list of  7957772\n",
            "Getting Follower list of  7967132\n",
            "Getting Follower list of  7977182\n",
            "Getting Follower list of  8014432\n",
            "Getting Follower list of  8014472\n",
            "Getting Follower list of  8066562\n",
            "Getting Follower list of  8180582\n",
            "Getting Follower list of  8205942\n",
            "Getting Follower list of  8208482\n"
          ],
          "name": "stdout"
        },
        {
          "output_type": "stream",
          "text": [
            "Rate limit reached. Sleeping for: 895\n"
          ],
          "name": "stderr"
        },
        {
          "output_type": "stream",
          "text": [
            "Getting Follower list of  8245052\n",
            "Getting Follower list of  8293982\n",
            "Getting Follower list of  8377772\n",
            "Getting Follower list of  8431212\n",
            "Getting Follower list of  8440552\n",
            "Getting Follower list of  8571252\n",
            "Getting Follower list of  8614702\n",
            "Getting Follower list of  8729092\n",
            "Getting Follower list of  8773632\n",
            "Getting Follower list of  8833312\n",
            "Getting Follower list of  8865022\n",
            "Getting Follower list of  8894582\n",
            "Getting Follower list of  9028902\n",
            "Getting Follower list of  9045162\n",
            "Getting Follower list of  9082652\n"
          ],
          "name": "stdout"
        },
        {
          "output_type": "stream",
          "text": [
            "Rate limit reached. Sleeping for: 895\n"
          ],
          "name": "stderr"
        },
        {
          "output_type": "stream",
          "text": [
            "Getting Follower list of  9126092\n",
            "Getting Follower list of  9222382\n",
            "Getting Follower list of  9237672\n",
            "Getting Follower list of  9256422\n",
            "Getting Follower list of  9283632\n",
            "Getting Follower list of  9285422\n",
            "Getting Follower list of  9337172\n",
            "Getting Follower list of  9337212\n",
            "Getting Follower list of  9376622\n",
            "Getting Follower list of  9502542\n",
            "Getting Follower list of  9520902\n",
            "Getting Follower list of  9545532\n",
            "Getting Follower list of  9571962\n",
            "Getting Follower list of  9578362\n",
            "Getting Follower list of  9596392\n",
            "Getting Follower list of  9633112\n"
          ],
          "name": "stdout"
        },
        {
          "output_type": "stream",
          "text": [
            "Rate limit reached. Sleeping for: 895\n"
          ],
          "name": "stderr"
        },
        {
          "output_type": "stream",
          "text": [
            "Getting Follower list of  9666402\n",
            "Getting Follower list of  9751642\n",
            "Getting Follower list of  9767082\n",
            "Getting Follower list of  9783422\n",
            "Getting Follower list of  9814222\n",
            "Getting Follower list of  9819072\n",
            "Getting Follower list of  9836582\n",
            "Getting Follower list of  9922242\n",
            "Getting Follower list of  9934462\n",
            "Getting Follower list of  10046572\n",
            "Getting Follower list of  10105822\n",
            "Getting Follower list of  10193122\n",
            "Getting Follower list of  10197782\n",
            "Getting Follower list of  10278192\n",
            "Getting Follower list of  10336042\n",
            "Getting Follower list of  10433782\n"
          ],
          "name": "stdout"
        },
        {
          "output_type": "stream",
          "text": [
            "Rate limit reached. Sleeping for: 895\n"
          ],
          "name": "stderr"
        },
        {
          "output_type": "stream",
          "text": [
            "Getting Follower list of  10492902\n",
            "Getting Follower list of  10500072\n",
            "Getting Follower list of  10667662\n",
            "Getting Follower list of  10697222\n",
            "Getting Follower list of  10736862\n",
            "Getting Follower list of  10746692\n",
            "Getting Follower list of  10778972\n",
            "Getting Follower list of  10779802\n",
            "Getting Follower list of  10793242\n",
            "Getting Follower list of  10845372\n",
            "Getting Follower list of  10870512\n",
            "Getting Follower list of  10987282\n",
            "Getting Follower list of  11009092\n",
            "Getting Follower list of  11015372\n",
            "Getting Follower list of  11041822\n",
            "Getting Follower list of  11073902\n"
          ],
          "name": "stdout"
        },
        {
          "output_type": "stream",
          "text": [
            "Rate limit reached. Sleeping for: 896\n"
          ],
          "name": "stderr"
        },
        {
          "output_type": "stream",
          "text": [
            "Getting Follower list of  11228722\n",
            "Getting Follower list of  11294262\n",
            "Getting Follower list of  11305742\n",
            "Getting Follower list of  11341332\n",
            "Getting Follower list of  11403052\n",
            "Getting Follower list of  11403462\n",
            "Getting Follower list of  11410012\n",
            "Getting Follower list of  11410412\n",
            "Getting Follower list of  11422132\n",
            "Getting Follower list of  11488822\n",
            "Getting Follower list of  11525652\n",
            "Getting Follower list of  11547732\n",
            "Getting Follower list of  11605832\n",
            "Getting Follower list of  11637322\n",
            "Getting Follower list of  11662532\n",
            "Getting Follower list of  11721472\n"
          ],
          "name": "stdout"
        },
        {
          "output_type": "stream",
          "text": [
            "Rate limit reached. Sleeping for: 895\n"
          ],
          "name": "stderr"
        },
        {
          "output_type": "stream",
          "text": [
            "Getting Follower list of  11749762\n",
            "Getting Follower list of  11756702\n",
            "Getting Follower list of  11778632\n",
            "Getting Follower list of  11786162\n",
            "Getting Follower list of  11862162\n",
            "Getting Follower list of  11879272\n",
            "Getting Follower list of  11908322\n",
            "Getting Follower list of  11920772\n",
            "Getting Follower list of  11929882\n",
            "Getting Follower list of  11996952\n",
            "Getting Follower list of  12022042\n",
            "Getting Follower list of  12031352\n",
            "Getting Follower list of  12037882\n",
            "Getting Follower list of  12085042\n",
            "Getting Follower list of  12198062\n",
            "Getting Follower list of  12317562\n"
          ],
          "name": "stdout"
        },
        {
          "output_type": "stream",
          "text": [
            "Rate limit reached. Sleeping for: 896\n"
          ],
          "name": "stderr"
        },
        {
          "output_type": "stream",
          "text": [
            "Getting Follower list of  12357122\n",
            "Getting Follower list of  12441712\n",
            "Getting Follower list of  12447572\n",
            "Getting Follower list of  12449542\n",
            "Getting Follower list of  12465192\n",
            "Getting Follower list of  12470242\n",
            "Getting Follower list of  12511062\n",
            "Getting Follower list of  12516722\n",
            "Getting Follower list of  12524522\n",
            "Getting Follower list of  12552662\n",
            "Getting Follower list of  12570402\n",
            "Getting Follower list of  12604592\n",
            "Getting Follower list of  12611082\n",
            "Getting Follower list of  12614402\n",
            "Getting Follower list of  12691382\n",
            "Getting Follower list of  12720232\n"
          ],
          "name": "stdout"
        },
        {
          "output_type": "stream",
          "text": [
            "Rate limit reached. Sleeping for: 895\n"
          ],
          "name": "stderr"
        },
        {
          "output_type": "stream",
          "text": [
            "Getting Follower list of  12728672\n",
            "Getting Follower list of  12738932\n",
            "Getting Follower list of  12755642\n",
            "Getting Follower list of  12757982\n",
            "Getting Follower list of  12767492\n",
            "Getting Follower list of  12811112\n",
            "Getting Follower list of  12822322\n",
            "Getting Follower list of  12891732\n",
            "Getting Follower list of  12930392\n",
            "Getting Follower list of  12992802\n",
            "Getting Follower list of  12993022\n",
            "Getting Follower list of  13027572\n",
            "Getting Follower list of  13076522\n",
            "Getting Follower list of  13117172\n",
            "Getting Follower list of  13122832\n",
            "Getting Follower list of  13203082\n"
          ],
          "name": "stdout"
        },
        {
          "output_type": "stream",
          "text": [
            "Rate limit reached. Sleeping for: 895\n"
          ],
          "name": "stderr"
        },
        {
          "output_type": "stream",
          "text": [
            "Getting Follower list of  13225732\n",
            "Getting Follower list of  13247052\n",
            "Getting Follower list of  13267042\n",
            "Getting Follower list of  13372502\n",
            "Getting Follower list of  13372592\n",
            "Getting Follower list of  13421862\n",
            "Getting Follower list of  13430962\n",
            "Getting Follower list of  13458112\n",
            "Getting Follower list of  13492762\n",
            "Getting Follower list of  13545202\n",
            "Getting Follower list of  13571462\n",
            "Getting Follower list of  13593132\n",
            "Getting Follower list of  13596992\n",
            "Getting Follower list of  13601052\n",
            "Getting Follower list of  13639262\n",
            "Getting Follower list of  13642652\n"
          ],
          "name": "stdout"
        },
        {
          "output_type": "stream",
          "text": [
            "Rate limit reached. Sleeping for: 895\n"
          ],
          "name": "stderr"
        },
        {
          "output_type": "stream",
          "text": [
            "Getting Follower list of  13688802\n",
            "Getting Follower list of  13694202\n",
            "Getting Follower list of  13728412\n",
            "Getting Follower list of  13788342\n",
            "Getting Follower list of  13796572\n",
            "Getting Follower list of  13808342\n",
            "Getting Follower list of  13831152\n",
            "Getting Follower list of  13852942\n",
            "Getting Follower list of  13893342\n",
            "Getting Follower list of  13898062\n",
            "Getting Follower list of  14024532\n",
            "Getting Follower list of  14025402\n",
            "Getting Follower list of  14057903\n",
            "Getting Follower list of  14065888\n",
            "Getting Follower list of  14079004\n",
            "Getting Follower list of  14087461\n"
          ],
          "name": "stdout"
        },
        {
          "output_type": "stream",
          "text": [
            "Rate limit reached. Sleeping for: 895\n"
          ],
          "name": "stderr"
        },
        {
          "output_type": "stream",
          "text": [
            "Getting Follower list of  14088485\n",
            "Getting Follower list of  14095473\n",
            "Getting Follower list of  14099861\n",
            "Getting Follower list of  14100363\n",
            "Getting Follower list of  14106080\n",
            "Getting Follower list of  14106277\n",
            "Getting Follower list of  14117843\n",
            "Getting Follower list of  14118173\n",
            "Getting Follower list of  14118517\n",
            "Getting Follower list of  14119845\n",
            "Getting Follower list of  14121525\n",
            "Getting Follower list of  14131099\n",
            "Getting Follower list of  14133288\n",
            "Getting Follower list of  14134831\n",
            "Getting Follower list of  14138443\n",
            "Getting Follower list of  14138657\n"
          ],
          "name": "stdout"
        },
        {
          "output_type": "stream",
          "text": [
            "Rate limit reached. Sleeping for: 895\n"
          ],
          "name": "stderr"
        },
        {
          "output_type": "stream",
          "text": [
            "Getting Follower list of  14146618\n",
            "Getting Follower list of  14151220\n",
            "Getting Follower list of  14155663\n",
            "Getting Follower list of  14158133\n",
            "Getting Follower list of  14167013\n",
            "Getting Follower list of  14169174\n",
            "Getting Follower list of  14170609\n",
            "Getting Follower list of  14177844\n",
            "Getting Follower list of  14178758\n",
            "Getting Follower list of  14185487\n",
            "Getting Follower list of  14185827\n",
            "Getting Follower list of  14195582\n",
            "Getting Follower list of  14196378\n",
            "Getting Follower list of  14200437\n",
            "Getting Follower list of  14206085\n",
            "Getting Follower list of  14212278\n"
          ],
          "name": "stdout"
        },
        {
          "output_type": "stream",
          "text": [
            "Rate limit reached. Sleeping for: 895\n"
          ],
          "name": "stderr"
        },
        {
          "output_type": "stream",
          "text": [
            "Getting Follower list of  14213042\n",
            "Getting Follower list of  14213969\n",
            "Getting Follower list of  14216821\n",
            "Getting Follower list of  14221134\n",
            "Getting Follower list of  14235401\n",
            "Getting Follower list of  14236327\n",
            "Getting Follower list of  14239363\n",
            "Getting Follower list of  14240899\n",
            "Getting Follower list of  14248266\n",
            "Getting Follower list of  14249388\n",
            "Getting Follower list of  14249798\n",
            "Getting Follower list of  14251168\n",
            "Getting Follower list of  14252975\n",
            "Getting Follower list of  14253343\n",
            "Getting Follower list of  14255846\n",
            "Getting Follower list of  14257808\n"
          ],
          "name": "stdout"
        },
        {
          "output_type": "stream",
          "text": [
            "Rate limit reached. Sleeping for: 895\n"
          ],
          "name": "stderr"
        },
        {
          "output_type": "stream",
          "text": [
            "Getting Follower list of  14275501\n",
            "Getting Follower list of  14278708\n",
            "Getting Follower list of  14278915\n",
            "Getting Follower list of  14286401\n",
            "Getting Follower list of  14306558\n",
            "Getting Follower list of  14310835\n",
            "Getting Follower list of  14313986\n",
            "Getting Follower list of  14317166\n",
            "Getting Follower list of  14317480\n",
            "Getting Follower list of  14323467\n",
            "Getting Follower list of  14335577\n",
            "Getting Follower list of  14338005\n",
            "Getting Follower list of  14339170\n",
            "Getting Follower list of  14348419\n",
            "Getting Follower list of  14351877\n",
            "Getting Follower list of  14358053\n"
          ],
          "name": "stdout"
        },
        {
          "output_type": "stream",
          "text": [
            "Rate limit reached. Sleeping for: 895\n"
          ],
          "name": "stderr"
        },
        {
          "output_type": "stream",
          "text": [
            "Getting Follower list of  14364397\n",
            "Getting Follower list of  14365084\n",
            "Getting Follower list of  14365379\n",
            "Getting Follower list of  14367635\n",
            "Getting Follower list of  14368027\n",
            "Getting Follower list of  14371266\n",
            "Getting Follower list of  14372559\n",
            "Getting Follower list of  14373091\n",
            "Getting Follower list of  14378272\n",
            "Getting Follower list of  14379113\n",
            "Getting Follower list of  14387385\n",
            "Getting Follower list of  14388366\n",
            "Getting Follower list of  14391473\n",
            "Getting Follower list of  14392094\n",
            "Getting Follower list of  14394428\n",
            "Getting Follower list of  14401806\n"
          ],
          "name": "stdout"
        },
        {
          "output_type": "stream",
          "text": [
            "Rate limit reached. Sleeping for: 895\n"
          ],
          "name": "stderr"
        },
        {
          "output_type": "stream",
          "text": [
            "Getting Follower list of  14404371\n",
            "Getting Follower list of  14405120\n",
            "Getting Follower list of  14405773\n",
            "Getting Follower list of  14417392\n",
            "Getting Follower list of  14426942\n",
            "Getting Follower list of  14429823\n",
            "Getting Follower list of  14433036\n",
            "Getting Follower list of  14435478\n",
            "Getting Follower list of  14439302\n",
            "Getting Follower list of  14444226\n",
            "Getting Follower list of  14449469\n",
            "Getting Follower list of  14449487\n",
            "Getting Follower list of  14451294\n",
            "Getting Follower list of  14451520\n",
            "Getting Follower list of  14453409\n",
            "Getting Follower list of  14453620\n"
          ],
          "name": "stdout"
        },
        {
          "output_type": "stream",
          "text": [
            "Rate limit reached. Sleeping for: 895\n"
          ],
          "name": "stderr"
        },
        {
          "output_type": "stream",
          "text": [
            "Getting Follower list of  14453833\n",
            "Getting Follower list of  14457457\n",
            "Getting Follower list of  14463523\n",
            "Getting Follower list of  14463537\n",
            "Getting Follower list of  14464835\n",
            "Getting Follower list of  14466304\n",
            "Getting Follower list of  14466733\n",
            "Getting Follower list of  14468043\n",
            "Getting Follower list of  14470037\n",
            "Getting Follower list of  14478399\n",
            "Getting Follower list of  14485062\n",
            "Getting Follower list of  14486811\n",
            "Getting Follower list of  14501811\n",
            "Getting Follower list of  14505596\n",
            "Getting Follower list of  14507201\n",
            "Getting Follower list of  14511995\n"
          ],
          "name": "stdout"
        },
        {
          "output_type": "stream",
          "text": [
            "Rate limit reached. Sleeping for: 895\n"
          ],
          "name": "stderr"
        },
        {
          "output_type": "stream",
          "text": [
            "Getting Follower list of  14515351\n",
            "Getting Follower list of  14516920\n",
            "Getting Follower list of  14517930\n",
            "Getting Follower list of  14518714\n",
            "Getting Follower list of  14522944\n",
            "Getting Follower list of  14536664\n",
            "Getting Follower list of  14536884\n",
            "Getting Follower list of  14538308\n",
            "Getting Follower list of  14542251\n",
            "Getting Follower list of  14546963\n",
            "Getting Follower list of  14548188\n",
            "Getting Follower list of  14548883\n",
            "Getting Follower list of  14562016\n",
            "Getting Follower list of  14563984\n",
            "Getting Follower list of  14564148\n",
            "Getting Follower list of  14565842\n"
          ],
          "name": "stdout"
        },
        {
          "output_type": "stream",
          "text": [
            "Rate limit reached. Sleeping for: 895\n"
          ],
          "name": "stderr"
        },
        {
          "output_type": "stream",
          "text": [
            "Getting Follower list of  14573272\n",
            "Getting Follower list of  14574552\n",
            "Getting Follower list of  14588236\n",
            "Getting Follower list of  14609388\n",
            "Getting Follower list of  14624975\n",
            "Getting Follower list of  14627467\n",
            "Getting Follower list of  14631818\n",
            "Getting Follower list of  14634648\n",
            "Getting Follower list of  14635511\n",
            "Getting Follower list of  14660169\n",
            "Getting Follower list of  14660807\n",
            "Getting Follower list of  14664352\n",
            "Getting Follower list of  14665515\n",
            "Getting Follower list of  14669269\n",
            "Getting Follower list of  14675924\n",
            "Getting Follower list of  14680117\n"
          ],
          "name": "stdout"
        },
        {
          "output_type": "stream",
          "text": [
            "Rate limit reached. Sleeping for: 895\n"
          ],
          "name": "stderr"
        },
        {
          "output_type": "error",
          "ename": "KeyboardInterrupt",
          "evalue": "ignored",
          "traceback": [
            "\u001b[0;31m---------------------------------------------------------------------------\u001b[0m",
            "\u001b[0;31mKeyboardInterrupt\u001b[0m                         Traceback (most recent call last)",
            "\u001b[0;32m<ipython-input-54-16c44010bdf9>\u001b[0m in \u001b[0;36m<module>\u001b[0;34m()\u001b[0m\n\u001b[1;32m      1\u001b[0m \u001b[0mfinal_edges\u001b[0m\u001b[0;34m=\u001b[0m\u001b[0;34m[\u001b[0m\u001b[0;34m]\u001b[0m\u001b[0;34m\u001b[0m\u001b[0;34m\u001b[0m\u001b[0m\n\u001b[1;32m      2\u001b[0m \u001b[0;32mfor\u001b[0m \u001b[0mnode\u001b[0m \u001b[0;32min\u001b[0m \u001b[0mnodes\u001b[0m\u001b[0;34m[\u001b[0m\u001b[0;34m:\u001b[0m\u001b[0;36m1000\u001b[0m\u001b[0;34m]\u001b[0m\u001b[0;34m:\u001b[0m\u001b[0;34m\u001b[0m\u001b[0;34m\u001b[0m\u001b[0m\n\u001b[0;32m----> 3\u001b[0;31m   \u001b[0mfollowers\u001b[0m \u001b[0;34m=\u001b[0m \u001b[0mget_followers\u001b[0m\u001b[0;34m(\u001b[0m\u001b[0mint\u001b[0m\u001b[0;34m(\u001b[0m\u001b[0mnode\u001b[0m\u001b[0;34m)\u001b[0m\u001b[0;34m)\u001b[0m\u001b[0;34m\u001b[0m\u001b[0;34m\u001b[0m\u001b[0m\n\u001b[0m\u001b[1;32m      4\u001b[0m   \u001b[0;32mfor\u001b[0m \u001b[0mfollower\u001b[0m \u001b[0;32min\u001b[0m \u001b[0mfollowers\u001b[0m\u001b[0;34m:\u001b[0m\u001b[0;34m\u001b[0m\u001b[0;34m\u001b[0m\u001b[0m\n\u001b[1;32m      5\u001b[0m     \u001b[0;32mif\u001b[0m \u001b[0mfollower\u001b[0m \u001b[0;32min\u001b[0m \u001b[0mhash\u001b[0m\u001b[0;34m:\u001b[0m\u001b[0;34m\u001b[0m\u001b[0;34m\u001b[0m\u001b[0m\n",
            "\u001b[0;32m<ipython-input-51-b1f0d6d53091>\u001b[0m in \u001b[0;36mget_followers\u001b[0;34m(id)\u001b[0m\n\u001b[1;32m     12\u001b[0m       \u001b[0;31m#         print(\"Going to sleep:\", e)\u001b[0m\u001b[0;34m\u001b[0m\u001b[0;34m\u001b[0m\u001b[0;34m\u001b[0m\u001b[0m\n\u001b[1;32m     13\u001b[0m       \u001b[0;31m#         time.sleep(60)\u001b[0m\u001b[0;34m\u001b[0m\u001b[0;34m\u001b[0m\u001b[0;34m\u001b[0m\u001b[0m\n\u001b[0;32m---> 14\u001b[0;31m       \u001b[0mfollowers\u001b[0m \u001b[0;34m=\u001b[0m \u001b[0mapi\u001b[0m\u001b[0;34m.\u001b[0m\u001b[0mfollowers_ids\u001b[0m\u001b[0;34m(\u001b[0m\u001b[0mid\u001b[0m\u001b[0;34m)\u001b[0m\u001b[0;34m\u001b[0m\u001b[0;34m\u001b[0m\u001b[0m\n\u001b[0m\u001b[1;32m     15\u001b[0m       \u001b[0;32mreturn\u001b[0m \u001b[0mfollowers\u001b[0m\u001b[0;34m\u001b[0m\u001b[0;34m\u001b[0m\u001b[0m\n\u001b[1;32m     16\u001b[0m     \u001b[0;32mexcept\u001b[0m \u001b[0mtweepy\u001b[0m\u001b[0;34m.\u001b[0m\u001b[0mTweepError\u001b[0m\u001b[0;34m:\u001b[0m\u001b[0;34m\u001b[0m\u001b[0;34m\u001b[0m\u001b[0m\n",
            "\u001b[0;32m/usr/local/lib/python3.7/dist-packages/tweepy/binder.py\u001b[0m in \u001b[0;36m_call\u001b[0;34m(*args, **kwargs)\u001b[0m\n\u001b[1;32m    251\u001b[0m                 \u001b[0;32mreturn\u001b[0m \u001b[0mmethod\u001b[0m\u001b[0;34m\u001b[0m\u001b[0;34m\u001b[0m\u001b[0m\n\u001b[1;32m    252\u001b[0m             \u001b[0;32melse\u001b[0m\u001b[0;34m:\u001b[0m\u001b[0;34m\u001b[0m\u001b[0;34m\u001b[0m\u001b[0m\n\u001b[0;32m--> 253\u001b[0;31m                 \u001b[0;32mreturn\u001b[0m \u001b[0mmethod\u001b[0m\u001b[0;34m.\u001b[0m\u001b[0mexecute\u001b[0m\u001b[0;34m(\u001b[0m\u001b[0;34m)\u001b[0m\u001b[0;34m\u001b[0m\u001b[0;34m\u001b[0m\u001b[0m\n\u001b[0m\u001b[1;32m    254\u001b[0m         \u001b[0;32mfinally\u001b[0m\u001b[0;34m:\u001b[0m\u001b[0;34m\u001b[0m\u001b[0;34m\u001b[0m\u001b[0m\n\u001b[1;32m    255\u001b[0m             \u001b[0mmethod\u001b[0m\u001b[0;34m.\u001b[0m\u001b[0msession\u001b[0m\u001b[0;34m.\u001b[0m\u001b[0mclose\u001b[0m\u001b[0;34m(\u001b[0m\u001b[0;34m)\u001b[0m\u001b[0;34m\u001b[0m\u001b[0;34m\u001b[0m\u001b[0m\n",
            "\u001b[0;32m/usr/local/lib/python3.7/dist-packages/tweepy/binder.py\u001b[0m in \u001b[0;36mexecute\u001b[0;34m(self)\u001b[0m\n\u001b[1;32m    161\u001b[0m                                     \u001b[0;32mif\u001b[0m \u001b[0mself\u001b[0m\u001b[0;34m.\u001b[0m\u001b[0mwait_on_rate_limit_notify\u001b[0m\u001b[0;34m:\u001b[0m\u001b[0;34m\u001b[0m\u001b[0;34m\u001b[0m\u001b[0m\n\u001b[1;32m    162\u001b[0m                                         \u001b[0mlog\u001b[0m\u001b[0;34m.\u001b[0m\u001b[0mwarning\u001b[0m\u001b[0;34m(\u001b[0m\u001b[0;34m\"Rate limit reached. Sleeping for: %d\"\u001b[0m \u001b[0;34m%\u001b[0m \u001b[0msleep_time\u001b[0m\u001b[0;34m)\u001b[0m\u001b[0;34m\u001b[0m\u001b[0;34m\u001b[0m\u001b[0m\n\u001b[0;32m--> 163\u001b[0;31m                                     \u001b[0mtime\u001b[0m\u001b[0;34m.\u001b[0m\u001b[0msleep\u001b[0m\u001b[0;34m(\u001b[0m\u001b[0msleep_time\u001b[0m \u001b[0;34m+\u001b[0m \u001b[0;36m5\u001b[0m\u001b[0;34m)\u001b[0m  \u001b[0;31m# sleep for few extra sec\u001b[0m\u001b[0;34m\u001b[0m\u001b[0;34m\u001b[0m\u001b[0m\n\u001b[0m\u001b[1;32m    164\u001b[0m \u001b[0;34m\u001b[0m\u001b[0m\n\u001b[1;32m    165\u001b[0m                 \u001b[0;31m# if self.wait_on_rate_limit and self._reset_time is not None and \\\u001b[0m\u001b[0;34m\u001b[0m\u001b[0;34m\u001b[0m\u001b[0;34m\u001b[0m\u001b[0m\n",
            "\u001b[0;31mKeyboardInterrupt\u001b[0m: "
          ]
        }
      ]
    },
    {
      "cell_type": "code",
      "metadata": {
        "colab": {
          "base_uri": "https://localhost:8080/"
        },
        "id": "c13--uJO1EL8",
        "outputId": "cf851109-bb08-46b8-f0b1-a3b4132f1e5f"
      },
      "source": [
        "len(follower_edges), len(following_edges)"
      ],
      "execution_count": null,
      "outputs": [
        {
          "output_type": "execute_result",
          "data": {
            "text/plain": [
              "(2197, 2341)"
            ]
          },
          "metadata": {
            "tags": []
          },
          "execution_count": 40
        }
      ]
    },
    {
      "cell_type": "code",
      "metadata": {
        "id": "564VrVLQ1Pvf"
      },
      "source": [
        "count=0\n",
        "for edge in follower_edges:\n",
        "  if edge[0] in hash:\n",
        "    if edge[1] in hash:\n",
        "      count=count+1"
      ],
      "execution_count": null,
      "outputs": []
    },
    {
      "cell_type": "code",
      "metadata": {
        "colab": {
          "base_uri": "https://localhost:8080/"
        },
        "id": "eqxuy3uz1mUi",
        "outputId": "01b65086-c719-4d54-ecea-604ef82e2ba8"
      },
      "source": [
        "count"
      ],
      "execution_count": null,
      "outputs": [
        {
          "output_type": "execute_result",
          "data": {
            "text/plain": [
              "2197"
            ]
          },
          "metadata": {
            "tags": []
          },
          "execution_count": 42
        }
      ]
    },
    {
      "cell_type": "code",
      "metadata": {
        "colab": {
          "base_uri": "https://localhost:8080/"
        },
        "id": "Hx49L8Nnshg0",
        "outputId": "6e3538f5-8e88-4908-9dc9-5b25dd24f612"
      },
      "source": [
        "count=0\n",
        "for edge in following_edges:\n",
        "  if edge[0] in hash:\n",
        "    if edge[1] in hash:\n",
        "      count=count+1\n",
        "count"
      ],
      "execution_count": null,
      "outputs": [
        {
          "output_type": "execute_result",
          "data": {
            "text/plain": [
              "2341"
            ]
          },
          "metadata": {
            "tags": []
          },
          "execution_count": 43
        }
      ]
    },
    {
      "cell_type": "code",
      "metadata": {
        "id": "jFvoZrzF3_7V"
      },
      "source": [
        "bot_nodes_dict = {int(r[0]):1 for r in polluters}"
      ],
      "execution_count": 18,
      "outputs": []
    },
    {
      "cell_type": "code",
      "metadata": {
        "id": "hRwnzHvm20gk"
      },
      "source": [
        "bot_count=0\n",
        "legit_nodes=[]\n",
        "bot_nodes=[]\n",
        "for edge in follower_edges:\n",
        "  if edge[0] in bot_nodes_dict:\n",
        "    bot_count=bot_count+1\n",
        "    bot_nodes.append(edge[0])\n",
        "    if edge[1] in bot_nodes_dict:\n",
        "      bot_nodes.append(edge[1])\n",
        "      bot_count=bot_count+1\n",
        "    else:\n",
        "      legit_nodes.append(edge[1])\n",
        "  else:\n",
        "    legit_nodes.append(edge[0])"
      ],
      "execution_count": null,
      "outputs": []
    },
    {
      "cell_type": "code",
      "metadata": {
        "colab": {
          "base_uri": "https://localhost:8080/"
        },
        "id": "63xYIHFK5f2g",
        "outputId": "5db84db0-9f09-414b-92b6-0e84bdf4fc23"
      },
      "source": [
        "bot_count"
      ],
      "execution_count": null,
      "outputs": [
        {
          "output_type": "execute_result",
          "data": {
            "text/plain": [
              "4273"
            ]
          },
          "metadata": {
            "tags": []
          },
          "execution_count": 46
        }
      ]
    },
    {
      "cell_type": "code",
      "metadata": {
        "id": "hR3ttand_Vw5"
      },
      "source": [
        "legit_nodes=list(set(legit_nodes))"
      ],
      "execution_count": null,
      "outputs": []
    },
    {
      "cell_type": "code",
      "metadata": {
        "id": "GfJ0MN-7__3y"
      },
      "source": [
        "bot_nodes=list(set(bot_nodes))"
      ],
      "execution_count": null,
      "outputs": []
    },
    {
      "cell_type": "code",
      "metadata": {
        "colab": {
          "base_uri": "https://localhost:8080/"
        },
        "id": "bu7_0FYdAEGi",
        "outputId": "fcf74e4e-af18-4969-84fa-d6e196d7fba3"
      },
      "source": [
        "len(bot_nodes),len(legit_nodes)"
      ],
      "execution_count": null,
      "outputs": [
        {
          "output_type": "execute_result",
          "data": {
            "text/plain": [
              "(1663, 92)"
            ]
          },
          "metadata": {
            "tags": []
          },
          "execution_count": 49
        }
      ]
    },
    {
      "cell_type": "code",
      "metadata": {
        "id": "FOGmdXc1Anv_"
      },
      "source": [
        "legit_nodes_dict = {int(r[0]):1 for r in legitimate_users}"
      ],
      "execution_count": 19,
      "outputs": []
    },
    {
      "cell_type": "code",
      "metadata": {
        "id": "RXVogv79BSEx"
      },
      "source": [
        "cnt=0\n",
        "for node in legit_nodes:\n",
        "  if node in legit_nodes_dict:\n",
        "    cnt=cnt+1"
      ],
      "execution_count": null,
      "outputs": []
    },
    {
      "cell_type": "code",
      "metadata": {
        "colab": {
          "base_uri": "https://localhost:8080/"
        },
        "id": "ki3NjQzwBbIG",
        "outputId": "7b907742-0578-4943-d91c-3a03824216f6"
      },
      "source": [
        "cnt"
      ],
      "execution_count": null,
      "outputs": [
        {
          "output_type": "execute_result",
          "data": {
            "text/plain": [
              "586"
            ]
          },
          "metadata": {
            "tags": []
          },
          "execution_count": 91
        }
      ]
    },
    {
      "cell_type": "code",
      "metadata": {
        "colab": {
          "base_uri": "https://localhost:8080/"
        },
        "id": "lTpCAaBtBwR5",
        "outputId": "a7989385-70d3-43b9-e964-f622a031faa1"
      },
      "source": [
        "for node in legit_nodes:\n",
        "  followers = get_followers(int(node))\n",
        "  followings = get_followings(int(node))\n",
        "  for follower in followers:\n",
        "    if follower in hash:\n",
        "      follower_edges.append((node,follower))\n",
        "  for following in followings:\n",
        "    if following in hash:\n",
        "      following_edges.append((node,following))"
      ],
      "execution_count": null,
      "outputs": [
        {
          "output_type": "stream",
          "text": [
            "Getting Follower list of  14497300\n"
          ],
          "name": "stdout"
        },
        {
          "output_type": "stream",
          "text": [
            "Rate limit reached. Sleeping for: 526\n"
          ],
          "name": "stderr"
        },
        {
          "output_type": "stream",
          "text": [
            "Getting Following list of  14497300\n",
            "Getting Follower list of  22135849\n",
            "Getting Following list of  22135849\n",
            "Getting Follower list of  83428907\n",
            "Getting Following list of  83428907\n",
            "Getting Follower list of  26658350\n",
            "Getting Following list of  26658350\n",
            "Getting Follower list of  77762110\n",
            "Getting Following list of  77762110\n",
            "Getting Follower list of  19566658\n",
            "Getting Following list of  19566658\n",
            "Getting Follower list of  26374737\n",
            "Getting Following list of  26374737\n",
            "Getting Follower list of  27884629\n",
            "Getting Following list of  27884629\n",
            "Getting Follower list of  8548952\n",
            "Getting Following list of  8548952\n",
            "Getting Follower list of  18035802\n",
            "Getting Following list of  18035802\n",
            "Getting Follower list of  40851547\n",
            "Getting Following list of  40851547\n",
            "Getting Follower list of  19673697\n",
            "Getting Following list of  19673697\n",
            "Getting Follower list of  24618090\n",
            "Getting Following list of  24618090\n",
            "Getting Follower list of  16956020\n",
            "Getting Following list of  16956020\n",
            "Getting Follower list of  67227772\n",
            "Getting Following list of  67227772\n",
            "Getting Follower list of  89982079\n"
          ],
          "name": "stdout"
        },
        {
          "output_type": "stream",
          "text": [
            "Rate limit reached. Sleeping for: 890\n"
          ],
          "name": "stderr"
        },
        {
          "output_type": "stream",
          "text": [
            "Getting Following list of  89982079\n",
            "Getting Follower list of  76446336\n",
            "Getting Following list of  76446336\n",
            "Getting Follower list of  77018247\n",
            "Getting Following list of  77018247\n",
            "Getting Follower list of  15066760\n",
            "Getting Following list of  15066760\n",
            "Getting Follower list of  15502486\n",
            "Getting Following list of  15502486\n",
            "Getting Follower list of  22767263\n",
            "Getting Following list of  22767263\n",
            "Getting Follower list of  89209508\n",
            "Getting Following list of  89209508\n",
            "Getting Follower list of  14076588\n",
            "Getting Following list of  14076588\n",
            "Getting Follower list of  14080704\n",
            "Getting Following list of  14080704\n",
            "Getting Follower list of  40286926\n",
            "Getting Following list of  40286926\n",
            "Getting Follower list of  78073551\n",
            "Getting Following list of  78073551\n",
            "Getting Follower list of  67689179\n",
            "Getting Following list of  67689179\n",
            "Getting Follower list of  3366641\n",
            "Getting Following list of  3366641\n",
            "Getting Follower list of  20007155\n",
            "Getting Following list of  20007155\n",
            "Getting Follower list of  19242232\n",
            "Getting Following list of  19242232\n",
            "Getting Follower list of  90444025\n"
          ],
          "name": "stdout"
        },
        {
          "output_type": "stream",
          "text": [
            "Rate limit reached. Sleeping for: 890\n"
          ],
          "name": "stderr"
        },
        {
          "output_type": "stream",
          "text": [
            "Getting Following list of  90444025\n",
            "Getting Follower list of  88428288\n",
            "Getting Following list of  88428288\n",
            "Getting Follower list of  91909378\n",
            "Getting Following list of  91909378\n",
            "Getting Follower list of  58292998\n",
            "Getting Following list of  58292998\n",
            "Getting Follower list of  46243590\n",
            "Getting Following list of  46243590\n",
            "Getting Follower list of  81580808\n",
            "Getting Following list of  81580808\n",
            "Getting Follower list of  50551561\n",
            "Getting Following list of  50551561\n",
            "Getting Follower list of  29103884\n",
            "Getting Following list of  29103884\n",
            "Getting Follower list of  73507088\n",
            "Getting Following list of  73507088\n",
            "Getting Follower list of  42373905\n",
            "Getting Following list of  42373905\n",
            "Getting Follower list of  21116178\n",
            "Getting Following list of  21116178\n",
            "Getting Follower list of  19062548\n",
            "Getting Following list of  19062548\n",
            "Getting Follower list of  70839579\n",
            "Getting Following list of  70839579\n",
            "Getting Follower list of  53258013\n",
            "Getting Following list of  53258013\n",
            "Getting Follower list of  70501151\n",
            "Getting Following list of  70501151\n",
            "Getting Follower list of  7490342\n"
          ],
          "name": "stdout"
        },
        {
          "output_type": "stream",
          "text": [
            "Rate limit reached. Sleeping for: 890\n"
          ],
          "name": "stderr"
        },
        {
          "output_type": "stream",
          "text": [
            "Getting Following list of  7490342\n",
            "Getting Follower list of  62253864\n",
            "Getting Following list of  62253864\n",
            "Getting Follower list of  26951466\n",
            "Getting Following list of  26951466\n",
            "Getting Follower list of  81879851\n",
            "Getting Following list of  81879851\n",
            "Getting Follower list of  70714671\n",
            "Getting Following list of  70714671\n",
            "Getting Follower list of  56166712\n",
            "Getting Following list of  56166712\n",
            "Getting Follower list of  91333442\n",
            "Getting Following list of  91333442\n",
            "Getting Follower list of  15783240\n",
            "Getting Following list of  15783240\n",
            "Getting Follower list of  72550737\n",
            "Getting Following list of  72550737\n",
            "Getting Follower list of  16824146\n",
            "Getting Following list of  16824146\n",
            "Getting Follower list of  82724693\n",
            "Getting Following list of  82724693\n",
            "Getting Follower list of  71490397\n",
            "Getting Following list of  71490397\n",
            "Getting Follower list of  58981222\n",
            "Getting Following list of  58981222\n",
            "Getting Follower list of  90991975\n",
            "Getting Following list of  90991975\n",
            "Getting Follower list of  15928168\n",
            "Getting Following list of  15928168\n",
            "Getting Follower list of  61359976\n"
          ],
          "name": "stdout"
        },
        {
          "output_type": "stream",
          "text": [
            "Rate limit reached. Sleeping for: 889\n"
          ],
          "name": "stderr"
        },
        {
          "output_type": "stream",
          "text": [
            "Getting Following list of  61359976\n",
            "Getting Follower list of  54456684\n",
            "Getting Following list of  54456684\n",
            "Getting Follower list of  71015277\n",
            "Getting Following list of  71015277\n",
            "Getting Follower list of  48660845\n",
            "Getting Following list of  48660845\n",
            "Getting Follower list of  18244473\n",
            "Getting Following list of  18244473\n",
            "Getting Follower list of  24906622\n",
            "Getting Following list of  24906622\n",
            "Getting Follower list of  68740996\n",
            "Getting Following list of  68740996\n",
            "Getting Follower list of  20678540\n",
            "Getting Following list of  20678540\n",
            "Getting Follower list of  92364172\n",
            "Getting Following list of  92364172\n",
            "Getting Follower list of  34397068\n",
            "Getting Following list of  34397068\n",
            "Getting Follower list of  27094415\n",
            "Getting Following list of  27094415\n",
            "Getting Follower list of  81825679\n",
            "Getting Following list of  81825679\n",
            "Getting Follower list of  48141717\n",
            "Getting Following list of  48141717\n",
            "Getting Follower list of  86877590\n",
            "Getting Following list of  86877590\n",
            "Getting Follower list of  15471509\n",
            "Getting Following list of  15471509\n",
            "Getting Follower list of  24626089\n"
          ],
          "name": "stdout"
        },
        {
          "output_type": "stream",
          "text": [
            "Rate limit reached. Sleeping for: 890\n"
          ],
          "name": "stderr"
        },
        {
          "output_type": "stream",
          "text": [
            "Getting Following list of  24626089\n",
            "Getting Follower list of  84746156\n",
            "Getting Following list of  84746156\n",
            "Getting Follower list of  82037168\n",
            "Getting Following list of  82037168\n",
            "Getting Follower list of  14905780\n",
            "Getting Following list of  14905780\n",
            "Getting Follower list of  14180279\n",
            "Getting Following list of  14180279\n",
            "Getting Follower list of  35728314\n",
            "Getting Following list of  35728314\n",
            "Getting Follower list of  20691901\n",
            "Getting Following list of  20691901\n",
            "Getting Follower list of  70807489\n",
            "Getting Following list of  70807489\n",
            "Getting Follower list of  89132486\n",
            "Getting Following list of  89132486\n",
            "Getting Follower list of  15039436\n",
            "Getting Following list of  15039436\n",
            "Getting Follower list of  19498445\n",
            "Getting Following list of  19498445\n",
            "Getting Follower list of  44872143\n",
            "Getting Following list of  44872143\n",
            "Getting Follower list of  51224018\n",
            "Getting Following list of  51224018\n",
            "Getting Follower list of  50008018\n",
            "Getting Following list of  50008018\n",
            "Getting Follower list of  46384092\n",
            "Getting Following list of  46384092\n",
            "Getting Follower list of  16425451\n"
          ],
          "name": "stdout"
        },
        {
          "output_type": "stream",
          "text": [
            "Rate limit reached. Sleeping for: 889\n"
          ],
          "name": "stderr"
        },
        {
          "output_type": "stream",
          "text": [
            "Getting Following list of  16425451\n",
            "Getting Follower list of  18295287\n",
            "Getting Following list of  18295287\n"
          ],
          "name": "stdout"
        }
      ]
    },
    {
      "cell_type": "code",
      "metadata": {
        "id": "3BiXB1-1AFR_"
      },
      "source": [
        "for edge in follower_edges:\n",
        "  if edge[1] in bot_nodes_dict:\n",
        "    bot_nodes.append(edge[1])\n",
        "    bot_count=bot_count+1\n",
        "  else:\n",
        "    legit_nodes.append(edge[1])"
      ],
      "execution_count": null,
      "outputs": []
    },
    {
      "cell_type": "code",
      "metadata": {
        "id": "xkSImVRU1uhd"
      },
      "source": [
        "# hash"
      ],
      "execution_count": null,
      "outputs": []
    },
    {
      "cell_type": "code",
      "metadata": {
        "id": "I21g_jBuCeRs"
      },
      "source": [
        "# all_edges = []\n",
        "# with open('/content/gdrive/MyDrive/BTP/social_honeypot_icwsm_2011/content_polluters_followings.txt', 'r') as f:\n",
        "#         i = 0\n",
        "#         for line in f:\n",
        "#             tokens = [int(r) for r in re.split(\"[\\D]\", line) if r != \"\"][0:]\n",
        "#             for t in tokens[1:]:\n",
        "#               all_edges.append((tokens[0], t))\n",
        "\n",
        "# with open('/content/gdrive/MyDrive/BTP/social_honeypot_icwsm_2011/legitimate_users_followings.txt', 'r') as f:\n",
        "#         i = 0\n",
        "#         for line in f:\n",
        "#             tokens = [int(r) for r in re.split(\"[\\D]\", line) if r != \"\"][0:]\n",
        "#             for t in tokens[1:]:\n",
        "#               all_edges.append((tokens[0], t))"
      ],
      "execution_count": null,
      "outputs": []
    },
    {
      "cell_type": "code",
      "metadata": {
        "id": "uOQyOy2atZyS"
      },
      "source": [
        "# print(all_edges[10])"
      ],
      "execution_count": null,
      "outputs": []
    },
    {
      "cell_type": "code",
      "metadata": {
        "id": "Jzr0YBwQ-104"
      },
      "source": [
        "follower_edges = list(set(follower_edges))"
      ],
      "execution_count": null,
      "outputs": []
    },
    {
      "cell_type": "code",
      "metadata": {
        "colab": {
          "base_uri": "https://localhost:8080/"
        },
        "id": "PqtE5yIS5B37",
        "outputId": "e23cef51-26e2-4e02-b4bf-6ac36828b052"
      },
      "source": [
        "len(follower_edges)"
      ],
      "execution_count": null,
      "outputs": [
        {
          "output_type": "execute_result",
          "data": {
            "text/plain": [
              "19101"
            ]
          },
          "metadata": {
            "tags": []
          },
          "execution_count": 70
        }
      ]
    },
    {
      "cell_type": "code",
      "metadata": {
        "id": "_wR5lSBUJpHN"
      },
      "source": [
        "# legit_nodes_dict={node:1 for node in legit_nodes}"
      ],
      "execution_count": 20,
      "outputs": []
    },
    {
      "cell_type": "code",
      "metadata": {
        "id": "jrh7naeXJ8Up"
      },
      "source": [
        "final_follower_edges=[]\n",
        "for edge in follower_edges:\n",
        "  if edge[0] in legit_nodes_dict:\n",
        "    final_follower_edges.append(edge)\n",
        "  elif edge[1] in legit_nodes_dict:\n",
        "    final_follower_edges.append(edge)"
      ],
      "execution_count": null,
      "outputs": []
    },
    {
      "cell_type": "code",
      "metadata": {
        "colab": {
          "base_uri": "https://localhost:8080/"
        },
        "id": "Nq4-XfdqKNxH",
        "outputId": "ac9c33fa-602c-4e44-a9d2-2cf40579ad7e"
      },
      "source": [
        "len(final_follower_edges)"
      ],
      "execution_count": null,
      "outputs": [
        {
          "output_type": "execute_result",
          "data": {
            "text/plain": [
              "17025"
            ]
          },
          "metadata": {
            "tags": []
          },
          "execution_count": 75
        }
      ]
    },
    {
      "cell_type": "code",
      "metadata": {
        "id": "XK5RrSXCKjzN"
      },
      "source": [
        "follower_bots=[]\n",
        "for edge in final_follower_edges:\n",
        "  if edge[0] in bot_nodes_dict:\n",
        "    follower_bots.append(edge[0])\n",
        "  elif edge[1] in bot_nodes_dict:\n",
        "    follower_bots.append(edge[1])"
      ],
      "execution_count": null,
      "outputs": []
    },
    {
      "cell_type": "code",
      "metadata": {
        "id": "Nu1aw9lELFQY"
      },
      "source": [
        "follower_bots=list(set(follower_bots))"
      ],
      "execution_count": null,
      "outputs": []
    },
    {
      "cell_type": "code",
      "metadata": {
        "colab": {
          "base_uri": "https://localhost:8080/"
        },
        "id": "zuUtZfr1LI--",
        "outputId": "6fd37854-8fe2-4860-ed0f-6610dbf1efa0"
      },
      "source": [
        "len(follower_bots)"
      ],
      "execution_count": null,
      "outputs": [
        {
          "output_type": "execute_result",
          "data": {
            "text/plain": [
              "5368"
            ]
          },
          "metadata": {
            "tags": []
          },
          "execution_count": 79
        }
      ]
    },
    {
      "cell_type": "code",
      "metadata": {
        "id": "9ZqY_0gb-GRx"
      },
      "source": [
        "# np.max(nodes)"
      ],
      "execution_count": null,
      "outputs": []
    },
    {
      "cell_type": "code",
      "metadata": {
        "id": "r2q-eAG68OBx"
      },
      "source": [
        ""
      ],
      "execution_count": null,
      "outputs": []
    },
    {
      "cell_type": "code",
      "metadata": {
        "colab": {
          "base_uri": "https://localhost:8080/"
        },
        "id": "8ydkH7b0Cqsg",
        "outputId": "e90c7e18-0974-45ad-f9a0-8145e59838ea"
      },
      "source": [
        "hash[6301]"
      ],
      "execution_count": null,
      "outputs": [
        {
          "output_type": "execute_result",
          "data": {
            "text/plain": [
              "1"
            ]
          },
          "metadata": {
            "tags": []
          },
          "execution_count": 37
        }
      ]
    },
    {
      "cell_type": "code",
      "metadata": {
        "id": "A_ho5o5XEY9p"
      },
      "source": [
        "legit_nodes=list(set(legit_nodes))"
      ],
      "execution_count": null,
      "outputs": []
    },
    {
      "cell_type": "code",
      "metadata": {
        "id": "wkMiMjOVEfaa"
      },
      "source": [
        "bot_nodes=list(set(bot_nodes))"
      ],
      "execution_count": null,
      "outputs": []
    },
    {
      "cell_type": "code",
      "metadata": {
        "colab": {
          "base_uri": "https://localhost:8080/"
        },
        "id": "fZ23sZ5IEixK",
        "outputId": "a203fade-a3a1-4a0d-fbbe-d75c8754ea74"
      },
      "source": [
        "len(follower_edges),len(following_edges)"
      ],
      "execution_count": null,
      "outputs": [
        {
          "output_type": "execute_result",
          "data": {
            "text/plain": [
              "(19101, 23614)"
            ]
          },
          "metadata": {
            "tags": []
          },
          "execution_count": 60
        }
      ]
    },
    {
      "cell_type": "code",
      "metadata": {
        "colab": {
          "base_uri": "https://localhost:8080/"
        },
        "id": "rhpsQRhYEpo8",
        "outputId": "f93e4289-0470-4475-ecf4-9a57996f122b"
      },
      "source": [
        "len(legit_nodes)"
      ],
      "execution_count": null,
      "outputs": [
        {
          "output_type": "execute_result",
          "data": {
            "text/plain": [
              "290"
            ]
          },
          "metadata": {
            "tags": []
          },
          "execution_count": 61
        }
      ]
    },
    {
      "cell_type": "code",
      "metadata": {
        "colab": {
          "base_uri": "https://localhost:8080/"
        },
        "id": "PxGCe9p9Er1e",
        "outputId": "2cae0c57-e992-452c-fd31-a5612e582413"
      },
      "source": [
        "len(bot_nodes)"
      ],
      "execution_count": null,
      "outputs": [
        {
          "output_type": "execute_result",
          "data": {
            "text/plain": [
              "5731"
            ]
          },
          "metadata": {
            "tags": []
          },
          "execution_count": 62
        }
      ]
    },
    {
      "cell_type": "code",
      "metadata": {
        "id": "HQiGorn7E--O"
      },
      "source": [
        "with open('follower_edges.txt', 'w') as f:\n",
        "    for edge in follower_edges:\n",
        "        f.write('%s %s\\n' % edge)"
      ],
      "execution_count": null,
      "outputs": []
    },
    {
      "cell_type": "code",
      "metadata": {
        "colab": {
          "base_uri": "https://localhost:8080/"
        },
        "id": "1SfvVU3iWxcj",
        "outputId": "d2734346-3ac4-4b71-fce7-94bd2110fdb4"
      },
      "source": [
        "len(bot_nodes_dict)"
      ],
      "execution_count": null,
      "outputs": [
        {
          "output_type": "execute_result",
          "data": {
            "text/plain": [
              "22179"
            ]
          },
          "metadata": {
            "tags": []
          },
          "execution_count": 154
        }
      ]
    },
    {
      "cell_type": "markdown",
      "metadata": {
        "id": "6sAgESVIaXxW"
      },
      "source": [
        "## Reading from File"
      ]
    },
    {
      "cell_type": "code",
      "metadata": {
        "colab": {
          "base_uri": "https://localhost:8080/",
          "height": 229
        },
        "id": "0c6JFEyohAH0",
        "outputId": "fb8759db-6604-4a0e-bcc0-b7c46dc6317c"
      },
      "source": [
        "follower_edges = []\n",
        "with open('/content/gdrive/MyDrive/BTP/social_honeypot_icwsm_2011/follower_edges.txt', 'r') as f:\n",
        "    for line in f:\n",
        "        tokens = re.split(\"[ \\n]\", line)\n",
        "        #Parse strings to numbers, take out the dates\n",
        "        l1 = int(tokens[0])\n",
        "        l2 = int(tokens[1])\n",
        "        follower_edges.append((l1, l2))"
      ],
      "execution_count": 74,
      "outputs": [
        {
          "output_type": "error",
          "ename": "ValueError",
          "evalue": "ignored",
          "traceback": [
            "\u001b[0;31m---------------------------------------------------------------------------\u001b[0m",
            "\u001b[0;31mValueError\u001b[0m                                Traceback (most recent call last)",
            "\u001b[0;32m<ipython-input-74-b0a00878cfeb>\u001b[0m in \u001b[0;36m<module>\u001b[0;34m()\u001b[0m\n\u001b[1;32m      4\u001b[0m         \u001b[0mtokens\u001b[0m \u001b[0;34m=\u001b[0m \u001b[0mre\u001b[0m\u001b[0;34m.\u001b[0m\u001b[0msplit\u001b[0m\u001b[0;34m(\u001b[0m\u001b[0;34m\"[ \\n]\"\u001b[0m\u001b[0;34m,\u001b[0m \u001b[0mline\u001b[0m\u001b[0;34m)\u001b[0m\u001b[0;34m\u001b[0m\u001b[0;34m\u001b[0m\u001b[0m\n\u001b[1;32m      5\u001b[0m         \u001b[0;31m#Parse strings to numbers, take out the dates\u001b[0m\u001b[0;34m\u001b[0m\u001b[0;34m\u001b[0m\u001b[0;34m\u001b[0m\u001b[0m\n\u001b[0;32m----> 6\u001b[0;31m         \u001b[0ml1\u001b[0m \u001b[0;34m=\u001b[0m \u001b[0mint\u001b[0m\u001b[0;34m(\u001b[0m\u001b[0mtokens\u001b[0m\u001b[0;34m[\u001b[0m\u001b[0;36m0\u001b[0m\u001b[0;34m]\u001b[0m\u001b[0;34m)\u001b[0m\u001b[0;34m\u001b[0m\u001b[0;34m\u001b[0m\u001b[0m\n\u001b[0m\u001b[1;32m      7\u001b[0m         \u001b[0ml2\u001b[0m \u001b[0;34m=\u001b[0m \u001b[0mint\u001b[0m\u001b[0;34m(\u001b[0m\u001b[0mtokens\u001b[0m\u001b[0;34m[\u001b[0m\u001b[0;36m1\u001b[0m\u001b[0;34m]\u001b[0m\u001b[0;34m)\u001b[0m\u001b[0;34m\u001b[0m\u001b[0;34m\u001b[0m\u001b[0m\n\u001b[1;32m      8\u001b[0m         \u001b[0mfollower_edges\u001b[0m\u001b[0;34m.\u001b[0m\u001b[0mappend\u001b[0m\u001b[0;34m(\u001b[0m\u001b[0;34m(\u001b[0m\u001b[0ml1\u001b[0m\u001b[0;34m,\u001b[0m \u001b[0ml2\u001b[0m\u001b[0;34m)\u001b[0m\u001b[0;34m)\u001b[0m\u001b[0;34m\u001b[0m\u001b[0;34m\u001b[0m\u001b[0m\n",
            "\u001b[0;31mValueError\u001b[0m: invalid literal for int() with base 10: '8773632.0'"
          ]
        }
      ]
    },
    {
      "cell_type": "markdown",
      "metadata": {
        "id": "NaystkElhBUV"
      },
      "source": [
        "### Following Edges"
      ]
    },
    {
      "cell_type": "code",
      "metadata": {
        "id": "IT7VTKEZaaXD"
      },
      "source": [
        "following_edges = []\n",
        "with open('/content/gdrive/MyDrive/BTP/social_honeypot_icwsm_2011/following_edges.txt', 'r') as f:\n",
        "    for line in f:\n",
        "        tokens = re.split(\"[ \\n]\", line)\n",
        "        #Parse strings to numbers, take out the dates\n",
        "        l1 = float(tokens[0])\n",
        "        l2 = float(tokens[1])\n",
        "        following_edges.append((l1, l2))"
      ],
      "execution_count": 15,
      "outputs": []
    },
    {
      "cell_type": "code",
      "metadata": {
        "colab": {
          "base_uri": "https://localhost:8080/"
        },
        "id": "XnfoTHITW0VV",
        "outputId": "636ea356-2811-4944-e497-dbaa26194c18"
      },
      "source": [
        "len([r[0] for r in polluters])"
      ],
      "execution_count": null,
      "outputs": [
        {
          "output_type": "execute_result",
          "data": {
            "text/plain": [
              "22179"
            ]
          },
          "metadata": {
            "tags": []
          },
          "execution_count": 156
        }
      ]
    },
    {
      "cell_type": "code",
      "metadata": {
        "id": "m0gfZfEsbJPI"
      },
      "source": [
        "following_edges_2 = [(int(a), int(b)) for a,b in following_edges]"
      ],
      "execution_count": 22,
      "outputs": []
    },
    {
      "cell_type": "code",
      "metadata": {
        "id": "_arlDeFFGb1h"
      },
      "source": [
        "following_bot_count=0\n",
        "following_legit_nodes=[]\n",
        "following_bot_nodes=[]\n",
        "for edge in following_edges_2:\n",
        "  if int(edge[0]) in bot_nodes_dict:\n",
        "    following_bot_count=following_bot_count+1\n",
        "    following_bot_nodes.append(int(edge[0]))\n",
        "    if int(edge[1]) in bot_nodes_dict:\n",
        "      following_bot_nodes.append(int(edge[1]))\n",
        "      following_bot_count=following_bot_count+1\n",
        "    else:\n",
        "      following_legit_nodes.append(int(edge[1]))\n",
        "  else:\n",
        "    following_legit_nodes.append(int(edge[0]))"
      ],
      "execution_count": 23,
      "outputs": []
    },
    {
      "cell_type": "code",
      "metadata": {
        "colab": {
          "base_uri": "https://localhost:8080/"
        },
        "id": "FbJpiMnQReVQ",
        "outputId": "51d81138-8c27-47c6-e392-30e069192912"
      },
      "source": [
        "len(following_bot_nodes), len(following_legit_nodes)"
      ],
      "execution_count": 24,
      "outputs": [
        {
          "output_type": "execute_result",
          "data": {
            "text/plain": [
              "(4485, 21470)"
            ]
          },
          "metadata": {
            "tags": []
          },
          "execution_count": 24
        }
      ]
    },
    {
      "cell_type": "code",
      "metadata": {
        "id": "GJnW8LNhGytH"
      },
      "source": [
        "following_bot_nodes=list(set(following_bot_nodes))"
      ],
      "execution_count": 25,
      "outputs": []
    },
    {
      "cell_type": "code",
      "metadata": {
        "colab": {
          "base_uri": "https://localhost:8080/"
        },
        "id": "COsmoZN_Rkpd",
        "outputId": "36d6211f-0926-47c6-bd89-3ede65234606"
      },
      "source": [
        "len(following_bot_nodes), len(following_legit_nodes)"
      ],
      "execution_count": 26,
      "outputs": [
        {
          "output_type": "execute_result",
          "data": {
            "text/plain": [
              "(1775, 21470)"
            ]
          },
          "metadata": {
            "tags": []
          },
          "execution_count": 26
        }
      ]
    },
    {
      "cell_type": "code",
      "metadata": {
        "id": "PcmDP5U4G2TE"
      },
      "source": [
        "following_legit_nodes=list(set(following_legit_nodes))"
      ],
      "execution_count": 27,
      "outputs": []
    },
    {
      "cell_type": "code",
      "metadata": {
        "colab": {
          "base_uri": "https://localhost:8080/"
        },
        "id": "Zr-uk8PnLWLK",
        "outputId": "b07f78ea-c73c-4232-a48a-13589baf3b9a"
      },
      "source": [
        "len(following_bot_nodes), len(following_legit_nodes)"
      ],
      "execution_count": 28,
      "outputs": [
        {
          "output_type": "execute_result",
          "data": {
            "text/plain": [
              "(1775, 199)"
            ]
          },
          "metadata": {
            "tags": []
          },
          "execution_count": 28
        }
      ]
    },
    {
      "cell_type": "code",
      "metadata": {
        "id": "N9Z4t193LkTD"
      },
      "source": [
        "final_following_edges=[]\n",
        "for edge in following_edges:\n",
        "  if edge[0] in legit_nodes_dict:\n",
        "    final_following_edges.append(edge)\n",
        "  elif edge[1] in legit_nodes_dict:\n",
        "    final_following_edges.append(edge)"
      ],
      "execution_count": 29,
      "outputs": []
    },
    {
      "cell_type": "code",
      "metadata": {
        "colab": {
          "base_uri": "https://localhost:8080/"
        },
        "id": "2JfVUYKPLq28",
        "outputId": "ac9daffc-432e-4aeb-dc23-81f9bb4f7128"
      },
      "source": [
        "len(final_following_edges)"
      ],
      "execution_count": 30,
      "outputs": [
        {
          "output_type": "execute_result",
          "data": {
            "text/plain": [
              "21470"
            ]
          },
          "metadata": {
            "tags": []
          },
          "execution_count": 30
        }
      ]
    },
    {
      "cell_type": "code",
      "metadata": {
        "id": "xC4S2sWmLttl"
      },
      "source": [
        "following_bots=[]\n",
        "for edge in final_following_edges:\n",
        "  if edge[0] in bot_nodes_dict:\n",
        "    following_bots.append(edge[0])\n",
        "  elif edge[1] in bot_nodes_dict:\n",
        "    following_bots.append(edge[1])"
      ],
      "execution_count": 31,
      "outputs": []
    },
    {
      "cell_type": "code",
      "metadata": {
        "id": "LVgbjgkQL5wf"
      },
      "source": [
        "following_bots=list(set(following_bots))"
      ],
      "execution_count": 32,
      "outputs": []
    },
    {
      "cell_type": "code",
      "metadata": {
        "id": "MaSfNIGyG-UE"
      },
      "source": [
        "with open('following_edges.txt', 'w') as f:\n",
        "    for edge in following_edges:\n",
        "        f.write('%s %s\\n' % edge)"
      ],
      "execution_count": null,
      "outputs": []
    },
    {
      "cell_type": "code",
      "metadata": {
        "id": "pz0SUOuR9HIN"
      },
      "source": [
        "# new_edges = []\n",
        "# for edge in all_edges:\n",
        "#   if edge[0] in hash:\n",
        "#     if edge[1] in hash:\n",
        "#       new_edges.append(edge)"
      ],
      "execution_count": null,
      "outputs": []
    },
    {
      "cell_type": "code",
      "metadata": {
        "id": "Y9wBJxBa_x0J"
      },
      "source": [
        "# len(new_edges)"
      ],
      "execution_count": null,
      "outputs": []
    },
    {
      "cell_type": "code",
      "metadata": {
        "colab": {
          "base_uri": "https://localhost:8080/"
        },
        "id": "v0YLAE3kMhB-",
        "outputId": "a87adaf7-502e-483e-c160-ee1dd5b4a0eb"
      },
      "source": [
        "len(nodes), len(dataset_X)"
      ],
      "execution_count": 75,
      "outputs": [
        {
          "output_type": "execute_result",
          "data": {
            "text/plain": [
              "(41411, 41411)"
            ]
          },
          "metadata": {
            "tags": []
          },
          "execution_count": 75
        }
      ]
    },
    {
      "cell_type": "code",
      "metadata": {
        "colab": {
          "base_uri": "https://localhost:8080/"
        },
        "id": "Csceif4qjbHV",
        "outputId": "9ff3f2b1-f745-4133-d1e6-ab72b13f41b6"
      },
      "source": [
        "nodes_list=list(set(nodes))\n",
        "len(nodes_list)"
      ],
      "execution_count": 76,
      "outputs": [
        {
          "output_type": "execute_result",
          "data": {
            "text/plain": [
              "41411"
            ]
          },
          "metadata": {
            "tags": []
          },
          "execution_count": 76
        }
      ]
    },
    {
      "cell_type": "code",
      "metadata": {
        "id": "3GP4NblwM1F5"
      },
      "source": [
        "hash_pos={}\n",
        "i=0\n",
        "for node in nodes:\n",
        "  hash_pos[node]=i\n",
        "  i=i+1"
      ],
      "execution_count": 34,
      "outputs": []
    },
    {
      "cell_type": "code",
      "metadata": {
        "id": "s1kPmr0DNdMZ"
      },
      "source": [
        "# dataset_X[0]"
      ],
      "execution_count": null,
      "outputs": []
    },
    {
      "cell_type": "code",
      "metadata": {
        "id": "Sn2GxmL0NLW7"
      },
      "source": [
        "X_graph=[]\n",
        "Y_graph=[]\n",
        "for node in following_bot_nodes:\n",
        "  X_graph.append(dataset_X[hash_pos[node]]) \n",
        "  Y_graph.append(0)"
      ],
      "execution_count": 35,
      "outputs": []
    },
    {
      "cell_type": "code",
      "metadata": {
        "id": "Wr8nn4haNmFq"
      },
      "source": [
        "for node in following_legit_nodes:\n",
        "  X_graph.append(dataset_X[hash_pos[node]])\n",
        "  Y_graph.append(1)"
      ],
      "execution_count": 36,
      "outputs": []
    },
    {
      "cell_type": "code",
      "metadata": {
        "colab": {
          "base_uri": "https://localhost:8080/"
        },
        "id": "k4E5VbzfN2Tl",
        "outputId": "df58a54c-ed1c-46de-9813-da87013dc927"
      },
      "source": [
        "len(dataset_X[0]) , len(dataset_Y)"
      ],
      "execution_count": 37,
      "outputs": [
        {
          "output_type": "execute_result",
          "data": {
            "text/plain": [
              "(28, 41411)"
            ]
          },
          "metadata": {
            "tags": []
          },
          "execution_count": 37
        }
      ]
    },
    {
      "cell_type": "code",
      "metadata": {
        "colab": {
          "base_uri": "https://localhost:8080/"
        },
        "id": "Jfrq0P29Nssd",
        "outputId": "73be4dc6-53a5-43ec-b1ff-d668f5d9268e"
      },
      "source": [
        "len(X_graph[0]), len(Y_graph)"
      ],
      "execution_count": 38,
      "outputs": [
        {
          "output_type": "execute_result",
          "data": {
            "text/plain": [
              "(28, 1974)"
            ]
          },
          "metadata": {
            "tags": []
          },
          "execution_count": 38
        }
      ]
    },
    {
      "cell_type": "code",
      "metadata": {
        "colab": {
          "base_uri": "https://localhost:8080/"
        },
        "id": "GWG2jzKsQhsi",
        "outputId": "f85072c8-c17c-4601-d6c9-3eac4b2fb350"
      },
      "source": [
        "len(X_graph)"
      ],
      "execution_count": 39,
      "outputs": [
        {
          "output_type": "execute_result",
          "data": {
            "text/plain": [
              "1974"
            ]
          },
          "metadata": {
            "tags": []
          },
          "execution_count": 39
        }
      ]
    },
    {
      "cell_type": "code",
      "metadata": {
        "id": "s4GAgTC9tyCA"
      },
      "source": [
        "def limit_data(labels,limit=20,val_num=500,test_num=1000):\n",
        "    '''\n",
        "    Get the index of train, validation, and test data\n",
        "    '''\n",
        "    label_counter = dict((l, 0) for l in labels)\n",
        "    train_idx = []\n",
        "\n",
        "    for i in range(len(labels)):\n",
        "        label = labels[i]\n",
        "        if label_counter[label]<limit:\n",
        "            #add the example to the training data\n",
        "            train_idx.append(i)\n",
        "            label_counter[label]+=1\n",
        "        \n",
        "        #exit the loop once we found 20 examples for each class\n",
        "        if all(count == limit for count in label_counter.values()):\n",
        "            break\n",
        "    \n",
        "    #get the indices that do not go to traning data\n",
        "    rest_idx = [x for x in range(len(labels)) if x not in train_idx]\n",
        "    val_idx = rest_idx[:val_num]\n",
        "    test_idx = rest_idx[val_num:(val_num+test_num)]\n",
        "    return train_idx, val_idx,test_idx\n",
        "\n",
        "\n",
        "# train_idx,val_idx,test_idx = limit_data(dataset_Y)\n",
        "train_idx,val_idx,test_idx = limit_data(Y_graph_2,3000,1000)\n",
        "# N = len(nodes)\n",
        "N=len(Y_graph_2)\n",
        "#set the mask\n",
        "train_mask = np.zeros((N,),dtype=bool)\n",
        "train_mask[train_idx] = True\n",
        "\n",
        "val_mask = np.zeros((N,),dtype=bool)\n",
        "val_mask[val_idx] = True\n",
        "\n",
        "test_mask = np.zeros((N,),dtype=bool)\n",
        "test_mask[test_idx] = True"
      ],
      "execution_count": null,
      "outputs": []
    },
    {
      "cell_type": "code",
      "metadata": {
        "id": "KtU4DMd_u8u5"
      },
      "source": [
        "from sklearn.preprocessing import LabelEncoder\n",
        "from keras.utils import to_categorical\n",
        "def encode_label(labels):\n",
        "    label_encoder = LabelEncoder()\n",
        "    labels = label_encoder.fit_transform(labels)\n",
        "    labels = to_categorical(labels)\n",
        "    return labels, label_encoder.classes_\n",
        "\n",
        "# labels_encoded, classes = encode_label(dataset_Y)\n",
        "labels_encoded, classes = encode_label(Y_graph_2)"
      ],
      "execution_count": 92,
      "outputs": []
    },
    {
      "cell_type": "code",
      "metadata": {
        "colab": {
          "base_uri": "https://localhost:8080/"
        },
        "id": "n6hKag53uCtM",
        "outputId": "2882ed38-940d-4914-bc5c-5a15190083c9"
      },
      "source": [
        ""
      ],
      "execution_count": 93,
      "outputs": [
        {
          "output_type": "execute_result",
          "data": {
            "text/plain": [
              "array([[1., 0.],\n",
              "       [1., 0.],\n",
              "       [1., 0.],\n",
              "       ...,\n",
              "       [1., 0.],\n",
              "       [1., 0.],\n",
              "       [1., 0.]], dtype=float32)"
            ]
          },
          "metadata": {
            "tags": []
          },
          "execution_count": 93
        }
      ]
    },
    {
      "cell_type": "code",
      "metadata": {
        "id": "95z0ij3svnGS"
      },
      "source": [
        "!pip install spektral"
      ],
      "execution_count": null,
      "outputs": []
    },
    {
      "cell_type": "code",
      "metadata": {
        "id": "TiCd3Us4-3P7"
      },
      "source": [
        "# len(dataset_X)"
      ],
      "execution_count": null,
      "outputs": []
    },
    {
      "cell_type": "code",
      "metadata": {
        "id": "RFcOS3b8PL4S"
      },
      "source": [
        "nodes_in_X=[]\n",
        "for node in following_bot_nodes:\n",
        "  nodes_in_X.append(node)\n",
        "for node in following_legit_nodes:\n",
        "  nodes_in_X.append(node)"
      ],
      "execution_count": 40,
      "outputs": []
    },
    {
      "cell_type": "code",
      "metadata": {
        "colab": {
          "base_uri": "https://localhost:8080/"
        },
        "id": "hWxAM_IIPmFi",
        "outputId": "3b743e2f-9fc0-4930-aa80-8be92daf54b2"
      },
      "source": [
        "len(nodes_in_X), (len(following_bot_nodes)+len(following_legit_nodes))"
      ],
      "execution_count": 41,
      "outputs": [
        {
          "output_type": "execute_result",
          "data": {
            "text/plain": [
              "(1974, 1974)"
            ]
          },
          "metadata": {
            "tags": []
          },
          "execution_count": 41
        }
      ]
    },
    {
      "cell_type": "code",
      "metadata": {
        "colab": {
          "base_uri": "https://localhost:8080/"
        },
        "id": "rTEpnEgzPxjE",
        "outputId": "c36c1c15-cc09-47e6-a4e7-f626d4a09177"
      },
      "source": [
        "len(following_edges)"
      ],
      "execution_count": 42,
      "outputs": [
        {
          "output_type": "execute_result",
          "data": {
            "text/plain": [
              "23614"
            ]
          },
          "metadata": {
            "tags": []
          },
          "execution_count": 42
        }
      ]
    },
    {
      "cell_type": "code",
      "metadata": {
        "id": "piV_tRR2QN8A"
      },
      "source": [
        "node_count = {}\n",
        "for edge in following_edges_2:\n",
        "  if edge[0] not in node_count:\n",
        "    node_count[edge[0]]=1\n",
        "  if edge[1] not in node_count:\n",
        "    node_count[edge[1]]=1"
      ],
      "execution_count": 43,
      "outputs": []
    },
    {
      "cell_type": "code",
      "metadata": {
        "colab": {
          "base_uri": "https://localhost:8080/"
        },
        "id": "dcaF0mSpRJuy",
        "outputId": "26624f4b-5595-4b7e-8d96-f01ddd216c9e"
      },
      "source": [
        "len(node_count)"
      ],
      "execution_count": 44,
      "outputs": [
        {
          "output_type": "execute_result",
          "data": {
            "text/plain": [
              "7547"
            ]
          },
          "metadata": {
            "tags": []
          },
          "execution_count": 44
        }
      ]
    },
    {
      "cell_type": "code",
      "metadata": {
        "id": "ISqBAA3oUgmc"
      },
      "source": [
        "key_list = [key for key in node_count.keys()]"
      ],
      "execution_count": 45,
      "outputs": []
    },
    {
      "cell_type": "code",
      "metadata": {
        "colab": {
          "base_uri": "https://localhost:8080/"
        },
        "id": "L4AkumLSXNLx",
        "outputId": "f9bf8e3c-9722-450c-dd9a-7a392b4c6262"
      },
      "source": [
        "len(key_list)"
      ],
      "execution_count": 46,
      "outputs": [
        {
          "output_type": "execute_result",
          "data": {
            "text/plain": [
              "7547"
            ]
          },
          "metadata": {
            "tags": []
          },
          "execution_count": 46
        }
      ]
    },
    {
      "cell_type": "code",
      "metadata": {
        "id": "FpT6cHP_XT2f"
      },
      "source": [
        "key_list=list(set(key_list))"
      ],
      "execution_count": 47,
      "outputs": []
    },
    {
      "cell_type": "code",
      "metadata": {
        "id": "O98fTdMucNvB"
      },
      "source": [
        "X_graph_2=[]\n",
        "Y_graph_2=[]\n",
        "for key in key_list:\n",
        "  pos = hash_pos[key]\n",
        "  X_graph_2.append(dataset_X[pos])\n",
        "  Y_graph_2.append(dataset_Y[pos])"
      ],
      "execution_count": 48,
      "outputs": []
    },
    {
      "cell_type": "code",
      "metadata": {
        "colab": {
          "base_uri": "https://localhost:8080/"
        },
        "id": "7eBreV8dXYB6",
        "outputId": "bba7a1ca-71b2-403f-ba9d-38aba44f11fc"
      },
      "source": [
        "len(key_list), len(X_graph_2), len(Y_graph_2)"
      ],
      "execution_count": 49,
      "outputs": [
        {
          "output_type": "execute_result",
          "data": {
            "text/plain": [
              "(7547, 7547, 7547)"
            ]
          },
          "metadata": {
            "tags": []
          },
          "execution_count": 49
        }
      ]
    },
    {
      "cell_type": "code",
      "metadata": {
        "colab": {
          "base_uri": "https://localhost:8080/"
        },
        "id": "Z_-8gX75cluR",
        "outputId": "52023cb3-11e7-4873-ea84-12abd6401dc4"
      },
      "source": [
        "len(hashed)"
      ],
      "execution_count": 54,
      "outputs": [
        {
          "output_type": "execute_result",
          "data": {
            "text/plain": [
              "41411"
            ]
          },
          "metadata": {
            "tags": []
          },
          "execution_count": 54
        }
      ]
    },
    {
      "cell_type": "code",
      "metadata": {
        "id": "V9YkeHpcY0MG"
      },
      "source": [
        "cnt=0\n",
        "for key in key_list:\n",
        "  if key not in hashed:\n",
        "    cnt=cnt+1\n",
        "    # print(key)"
      ],
      "execution_count": 55,
      "outputs": []
    },
    {
      "cell_type": "code",
      "metadata": {
        "id": "Ps2m1Pa9YJCv"
      },
      "source": [
        "cnt=0\n",
        "for key in key_list:\n",
        "  if key not in following_bot_nodes:\n",
        "    cnt=cnt+1\n",
        "    # print(key)"
      ],
      "execution_count": 56,
      "outputs": []
    },
    {
      "cell_type": "code",
      "metadata": {
        "colab": {
          "base_uri": "https://localhost:8080/"
        },
        "id": "aQPKeQnVYSab",
        "outputId": "fc8a084d-cee8-4728-e722-1be4f1bca019"
      },
      "source": [
        "cnt"
      ],
      "execution_count": 57,
      "outputs": [
        {
          "output_type": "execute_result",
          "data": {
            "text/plain": [
              "5772"
            ]
          },
          "metadata": {
            "tags": []
          },
          "execution_count": 57
        }
      ]
    },
    {
      "cell_type": "code",
      "metadata": {
        "colab": {
          "base_uri": "https://localhost:8080/"
        },
        "id": "0tHSUz_Ea7Ha",
        "outputId": "a6770357-ba05-4533-e9e7-fa2b04c713b3"
      },
      "source": [
        "bot_nodes_dict[22642225]"
      ],
      "execution_count": 58,
      "outputs": [
        {
          "output_type": "execute_result",
          "data": {
            "text/plain": [
              "1"
            ]
          },
          "metadata": {
            "tags": []
          },
          "execution_count": 58
        }
      ]
    },
    {
      "cell_type": "code",
      "metadata": {
        "colab": {
          "base_uri": "https://localhost:8080/"
        },
        "id": "vQNLUl5Ybkyb",
        "outputId": "c795e817-c478-4077-96f9-b8c7b0cf7608"
      },
      "source": [
        "hashed[22642225]"
      ],
      "execution_count": 60,
      "outputs": [
        {
          "output_type": "execute_result",
          "data": {
            "text/plain": [
              "1"
            ]
          },
          "metadata": {
            "tags": []
          },
          "execution_count": 60
        }
      ]
    },
    {
      "cell_type": "code",
      "metadata": {
        "id": "euYZo56aZ0HX"
      },
      "source": [
        "cnt=0\n",
        "for key in key_list:\n",
        "  if key not in following_legit_nodes:\n",
        "    if key not in following_bot_nodes:\n",
        "      cnt=cnt+1\n",
        "      # print(key)"
      ],
      "execution_count": 61,
      "outputs": []
    },
    {
      "cell_type": "code",
      "metadata": {
        "colab": {
          "base_uri": "https://localhost:8080/"
        },
        "id": "bXVHeqiuZ_jr",
        "outputId": "2c773171-60b9-4823-ab7f-1b538ee652e8"
      },
      "source": [
        "cnt"
      ],
      "execution_count": 62,
      "outputs": [
        {
          "output_type": "execute_result",
          "data": {
            "text/plain": [
              "5573"
            ]
          },
          "metadata": {
            "tags": []
          },
          "execution_count": 62
        }
      ]
    },
    {
      "cell_type": "code",
      "metadata": {
        "id": "8uNw0CjxXaYC"
      },
      "source": [
        "cnt=0\n",
        "for key in key_list:\n",
        "  if key not in following_legit_nodes:\n",
        "    cnt=cnt+1\n",
        "    # print(key)"
      ],
      "execution_count": 63,
      "outputs": []
    },
    {
      "cell_type": "code",
      "metadata": {
        "colab": {
          "base_uri": "https://localhost:8080/"
        },
        "id": "fdIxvTn3X-2N",
        "outputId": "0dc9ab8f-1452-47c0-9778-4fc4e91807ff"
      },
      "source": [
        "cnt"
      ],
      "execution_count": 64,
      "outputs": [
        {
          "output_type": "execute_result",
          "data": {
            "text/plain": [
              "7348"
            ]
          },
          "metadata": {
            "tags": []
          },
          "execution_count": 64
        }
      ]
    },
    {
      "cell_type": "code",
      "metadata": {
        "colab": {
          "base_uri": "https://localhost:8080/",
          "height": 35
        },
        "id": "4jcoyGJKTKA5",
        "outputId": "81f83d3d-5b41-4064-f19e-aac4a5cd2216"
      },
      "source": [
        "G1 = nx.Graph()\n",
        "G1.add_nodes_from(nodes_in_X)\n",
        "nx.info(G1)"
      ],
      "execution_count": null,
      "outputs": [
        {
          "output_type": "execute_result",
          "data": {
            "application/vnd.google.colaboratory.intrinsic+json": {
              "type": "string"
            },
            "text/plain": [
              "'Name: \\nType: Graph\\nNumber of nodes: 1974\\nNumber of edges: 0\\nAverage degree:   0.0000'"
            ]
          },
          "metadata": {
            "tags": []
          },
          "execution_count": 131
        }
      ]
    },
    {
      "cell_type": "code",
      "metadata": {
        "id": "kTcLsCWxTTlT"
      },
      "source": [
        "# for edge in following_edges:\n",
        "#   edge = (int(edge[0]),int(edge[1]))\n",
        "following_edges_2 = [(int(a), int(b)) for a,b in following_edges]"
      ],
      "execution_count": null,
      "outputs": []
    },
    {
      "cell_type": "code",
      "metadata": {
        "colab": {
          "base_uri": "https://localhost:8080/"
        },
        "id": "nLavNXdFTr5i",
        "outputId": "40e32bb1-bafe-427f-c63a-3053a3f89562"
      },
      "source": [
        "following_edges_2"
      ],
      "execution_count": null,
      "outputs": [
        {
          "output_type": "execute_result",
          "data": {
            "text/plain": [
              "[(81825679, 67941063),\n",
              " (16956020, 43871439),\n",
              " (97263446, 94321077),\n",
              " (73507088, 88124039),\n",
              " (81825679, 93833100),\n",
              " (24618090, 92930094),\n",
              " (91333442, 24461721),\n",
              " (68740996, 111422421),\n",
              " (91333442, 49015544),\n",
              " (70839579, 132095145),\n",
              " (58292998, 16275559),\n",
              " (71490397, 81265165),\n",
              " (44872143, 52753358),\n",
              " (16425451, 111276953),\n",
              " (26374737, 18651977),\n",
              " (16425451, 16878850),\n",
              " (81825679, 38310347),\n",
              " (81825679, 26262001),\n",
              " (62253864, 16559320),\n",
              " (150036669, 16824146),\n",
              " (19498445, 105381400),\n",
              " (24618090, 85067609),\n",
              " (24618090, 90197654),\n",
              " (24618090, 31583113),\n",
              " (22135849, 77047093),\n",
              " (26374737, 86098891),\n",
              " (89209508, 16319771),\n",
              " (29103884, 27503114),\n",
              " (24618090, 45716258),\n",
              " (20678540, 16345634),\n",
              " (90991975, 14609388),\n",
              " (89209508, 110696017),\n",
              " (14905780, 115164958),\n",
              " (81879851, 22847312),\n",
              " (21116178, 79609632),\n",
              " (38644052, 17115607),\n",
              " (84746156, 17165447),\n",
              " (49447461, 120097977),\n",
              " (24618090, 26541144),\n",
              " (156001364, 136006607),\n",
              " (49447461, 23245220),\n",
              " (29103884, 40056495),\n",
              " (61353193, 122528156),\n",
              " (24906622, 48632502),\n",
              " (62253864, 44503678),\n",
              " (73507088, 73835281),\n",
              " (49447461, 62343666),\n",
              " (29103884, 20329264),\n",
              " (24618090, 18318176),\n",
              " (73542070, 73470305),\n",
              " (68740996, 15826025),\n",
              " (81825679, 122850722),\n",
              " (29103884, 20007155),\n",
              " (46243590, 51139742),\n",
              " (54456684, 78359915),\n",
              " (81879851, 32596467),\n",
              " (89209508, 95840619),\n",
              " (48660845, 48052259),\n",
              " (81879851, 15141923),\n",
              " (77762110, 97147249),\n",
              " (48141717, 21504906),\n",
              " (15471509, 40218214),\n",
              " (48141717, 85668146),\n",
              " (70839579, 14278915),\n",
              " (14905780, 19681873),\n",
              " (46384092, 43060862),\n",
              " (68740996, 98667154),\n",
              " (16425451, 106428585),\n",
              " (14080704, 19960972),\n",
              " (90991975, 69150222),\n",
              " (68740996, 36372028),\n",
              " (29103884, 98234560),\n",
              " (73507088, 68988222),\n",
              " (78073551, 112148586),\n",
              " (61353193, 120716267),\n",
              " (38644052, 19487375),\n",
              " (53541502, 19487375),\n",
              " (84746156, 122931096),\n",
              " (73507088, 76926881),\n",
              " (84746156, 52117188),\n",
              " (8773632, 17436475),\n",
              " (77762110, 1322691),\n",
              " (29103884, 18850586),\n",
              " (19242232, 20522531),\n",
              " (42373905, 20319730),\n",
              " (56166712, 18680442),\n",
              " (81879851, 49036268),\n",
              " (68740996, 105612586),\n",
              " (29103884, 103901089),\n",
              " (53258013, 77679562),\n",
              " (81879851, 22118295),\n",
              " (71490397, 50290561),\n",
              " (46243590, 115556794),\n",
              " (89132486, 21160051),\n",
              " (7490342, 45325444),\n",
              " (129247112, 127839863),\n",
              " (82037168, 26025988),\n",
              " (90991975, 101424888),\n",
              " (7490342, 8773632),\n",
              " (77762110, 96766749),\n",
              " (89982079, 110003230),\n",
              " (49447461, 114472322),\n",
              " (46243590, 67389637),\n",
              " (49447461, 18590111),\n",
              " (68740996, 17527642),\n",
              " (78073551, 31753350),\n",
              " (92364172, 86273041),\n",
              " (48141717, 54368334),\n",
              " (53258013, 96310973),\n",
              " (24906622, 74852117),\n",
              " (24906622, 20832867),\n",
              " (83428907, 46940959),\n",
              " (89132486, 41727201),\n",
              " (24618090, 93519418),\n",
              " (24618090, 97559024),\n",
              " (16425451, 70825654),\n",
              " (68740996, 137027610),\n",
              " (70839579, 126361777),\n",
              " (91333442, 100790307),\n",
              " (16425451, 64487713),\n",
              " (81879851, 17076497),\n",
              " (91333442, 97179947),\n",
              " (46243590, 43619444),\n",
              " (68740996, 83898234),\n",
              " (16425451, 110708185),\n",
              " (72550737, 17783366),\n",
              " (29103884, 98913518),\n",
              " (68740996, 28044179),\n",
              " (22135849, 59082722),\n",
              " (44872143, 101850723),\n",
              " (70501151, 23605553),\n",
              " (90991975, 53202788),\n",
              " (56166712, 111724972),\n",
              " (38526437, 18091420),\n",
              " (24626089, 90514736),\n",
              " (22135849, 109533406),\n",
              " (20678540, 31895345),\n",
              " (54456684, 118006581),\n",
              " (68740996, 97147249),\n",
              " (16425451, 74204739),\n",
              " (24906622, 18341430),\n",
              " (49447461, 133008053),\n",
              " (68740996, 160744632),\n",
              " (44872143, 90413737),\n",
              " (21116178, 144117066),\n",
              " (14076588, 21449985),\n",
              " (53258013, 127080285),\n",
              " (14180279, 29846140),\n",
              " (22767263, 18742643),\n",
              " (54456684, 125257018),\n",
              " (77762110, 19483682),\n",
              " (19498445, 18454286),\n",
              " (19498445, 35301105),\n",
              " (70839579, 14723947),\n",
              " (70501151, 102908926),\n",
              " (68740996, 156609409),\n",
              " (83428907, 7350652),\n",
              " (89982079, 49743632),\n",
              " (22135849, 17271511),\n",
              " (73507088, 13492762),\n",
              " (78073551, 15742514),\n",
              " (29103884, 78967210),\n",
              " (68740996, 19124961),\n",
              " (58981222, 107377936),\n",
              " (82037168, 16556652),\n",
              " (24618090, 19405407),\n",
              " (18244473, 106571741),\n",
              " (81825679, 126442828),\n",
              " (21116178, 48632502),\n",
              " (81825679, 71350684),\n",
              " (58292998, 46719826),\n",
              " (15471509, 20554517),\n",
              " (77762110, 43950382),\n",
              " (83428907, 23085704),\n",
              " (29103884, 108479418),\n",
              " (95486674, 94408933),\n",
              " (24626089, 109287907),\n",
              " (51224018, 84489306),\n",
              " (68740996, 58381434),\n",
              " (58981222, 16404059),\n",
              " (68740996, 18680607),\n",
              " (83428907, 77674896),\n",
              " (70807489, 84179491),\n",
              " (29103884, 20369825),\n",
              " (15471509, 16346973),\n",
              " (24618090, 19755416),\n",
              " (70839579, 36800235),\n",
              " (29103884, 95515261),\n",
              " (77018247, 17137510),\n",
              " (83428907, 97767328),\n",
              " (21116178, 29146941),\n",
              " (95486674, 62951977),\n",
              " (70839579, 73796957),\n",
              " (24906622, 18318176),\n",
              " (81825679, 100139169),\n",
              " (81879851, 18139731),\n",
              " (51224018, 71876588),\n",
              " (54456684, 95706078),\n",
              " (67227772, 79151259),\n",
              " (77762110, 26499870),\n",
              " (71015277, 83472285),\n",
              " (68740996, 66133308),\n",
              " (95486674, 17583875),\n",
              " (97263446, 113366584),\n",
              " (48660845, 103679746),\n",
              " (73507088, 85690532),\n",
              " (70839579, 108562549),\n",
              " (54456684, 97638509),\n",
              " (24626089, 86308201),\n",
              " (22135849, 115436234),\n",
              " (81879851, 43619444),\n",
              " (58981222, 24844525),\n",
              " (90991975, 56127079),\n",
              " (29103884, 115290739),\n",
              " (8548952, 105388438),\n",
              " (77762110, 112285490),\n",
              " (81879851, 25805648),\n",
              " (20678540, 15433037),\n",
              " (91333442, 96007360),\n",
              " (78073551, 90216936),\n",
              " (34397068, 48090173),\n",
              " (24906622, 79199829),\n",
              " (81825679, 20866964),\n",
              " (95486674, 18285464),\n",
              " (91333442, 98436021),\n",
              " (83428907, 90188009),\n",
              " (81825679, 74204739),\n",
              " (70839579, 57711975),\n",
              " (70501151, 101787552),\n",
              " (81879851, 121809317),\n",
              " (22135849, 110049762),\n",
              " (91333442, 95706078),\n",
              " (53541502, 20418902),\n",
              " (71490397, 14688076),\n",
              " (71490397, 15288974),\n",
              " (90991975, 103285910),\n",
              " (44872143, 36849573),\n",
              " (77762110, 85703238),\n",
              " (117895087, 78837527),\n",
              " (46243590, 20887841),\n",
              " (90991975, 14278915),\n",
              " (90991975, 9814222),\n",
              " (81825679, 42623021),\n",
              " (15471509, 7721172),\n",
              " (56166712, 15734380),\n",
              " (46243590, 16689819),\n",
              " (90991975, 49903005),\n",
              " (46243590, 65150082),\n",
              " (67227772, 18721088),\n",
              " (54456684, 101856829),\n",
              " (58292998, 40218214),\n",
              " (14905780, 136392927),\n",
              " (24618090, 103735320),\n",
              " (29103884, 104843662),\n",
              " (70839579, 32862830),\n",
              " (88089155, 77063895),\n",
              " (7490342, 21660353),\n",
              " (22767263, 17436475),\n",
              " (90991975, 90117611),\n",
              " (70839579, 91086336),\n",
              " (77762110, 147214624),\n",
              " (22767263, 93675689),\n",
              " (77762110, 30705208),\n",
              " (19498445, 106494199),\n",
              " (77018247, 100980673),\n",
              " (77762110, 85384941),\n",
              " (22767263, 117449418),\n",
              " (82724693, 147317225),\n",
              " (14905780, 132524783),\n",
              " (95486674, 112821731),\n",
              " (70839579, 17783366),\n",
              " (81825679, 42687578),\n",
              " (22135849, 128592519),\n",
              " (90991975, 37449897),\n",
              " (81825679, 18412219),\n",
              " (22135849, 17081275),\n",
              " (19566658, 103845352),\n",
              " (68740996, 75706641),\n",
              " (24618090, 69869868),\n",
              " (81825679, 153411531),\n",
              " (24618090, 61560686),\n",
              " (68740996, 16202612),\n",
              " (68740996, 129586625),\n",
              " (34397068, 98767427),\n",
              " (44872143, 26201722),\n",
              " (24906622, 37504993),\n",
              " (51224018, 23210476),\n",
              " (16425451, 116390533),\n",
              " (14905780, 118804660),\n",
              " (8548952, 16079424),\n",
              " (71015277, 18360309),\n",
              " (58292998, 37361422),\n",
              " (22767263, 86887644),\n",
              " (61359976, 23396761),\n",
              " (77762110, 123035034),\n",
              " (24618090, 89274544),\n",
              " (70501151, 32596467),\n",
              " (7490342, 108570432),\n",
              " (81825679, 17487658),\n",
              " (18244473, 16104623),\n",
              " (91333442, 104907640),\n",
              " (95709243, 45139348),\n",
              " (92364172, 14507201),\n",
              " (97263446, 134321293),\n",
              " (48141717, 70718677),\n",
              " (84746156, 55576282),\n",
              " (61359976, 118819322),\n",
              " (77762110, 15680614),\n",
              " (51224018, 28477299),\n",
              " (81825679, 37532297),\n",
              " (77018247, 119149832),\n",
              " (81879851, 29260997),\n",
              " (77018247, 64640519),\n",
              " (77762110, 83917567),\n",
              " (24618090, 82968788),\n",
              " (83428907, 43994030),\n",
              " (77018247, 45909674),\n",
              " (29103884, 105177865),\n",
              " (44872143, 38222000),\n",
              " (68740996, 21209419),\n",
              " (95486674, 87508904),\n",
              " (48141717, 18412219),\n",
              " (53541502, 54076643),\n",
              " (84746156, 63229852),\n",
              " (15471509, 6356472),\n",
              " (70839579, 92573943),\n",
              " (70501151, 53389291),\n",
              " (61353193, 149778077),\n",
              " (24618090, 99023319),\n",
              " (129468784, 18285464),\n",
              " (27942147, 15014107),\n",
              " (42373905, 76639716),\n",
              " (88428288, 78539068),\n",
              " (27942147, 55111490),\n",
              " (91333442, 111279465),\n",
              " (24626089, 13027572),\n",
              " (24618090, 74444818),\n",
              " (70501151, 100308908),\n",
              " (82724693, 97151748),\n",
              " (77762110, 23965293),\n",
              " (77018247, 101625474),\n",
              " (142297827, 58954420),\n",
              " (48141717, 23085704),\n",
              " (58981222, 132075422),\n",
              " (71015277, 16702055),\n",
              " (29103884, 88846679),\n",
              " (91333442, 46105040),\n",
              " (95486674, 112015821),\n",
              " (91333442, 18274110),\n",
              " (44872143, 120108338),\n",
              " (16425451, 31406325),\n",
              " (90991975, 90347958),\n",
              " (56166712, 74153376),\n",
              " (29103884, 96484169),\n",
              " (29103884, 66869910),\n",
              " (46243590, 67393160),\n",
              " (48660845, 76968686),\n",
              " (70839579, 60835024),\n",
              " (91333442, 23136101),\n",
              " (70839579, 27688800),\n",
              " (97263446, 106182972),\n",
              " (73507088, 95435973),\n",
              " (15471509, 38535159),\n",
              " (58981222, 164606079),\n",
              " (20678540, 27503114),\n",
              " (51224018, 109032437),\n",
              " (21116178, 104284641),\n",
              " (89132486, 15656933),\n",
              " (16425451, 87402534),\n",
              " (21116178, 98573033),\n",
              " (19242232, 113474113),\n",
              " (83428907, 15997453),\n",
              " (70839579, 20570461),\n",
              " (18244473, 91085259),\n",
              " (46243590, 127863816),\n",
              " (8548952, 74591948),\n",
              " (16425451, 111422421),\n",
              " (86877590, 19314133),\n",
              " (81879851, 115847431),\n",
              " (53258013, 136005117),\n",
              " (14905780, 14451294),\n",
              " (48660845, 19273104),\n",
              " (15471509, 14451294),\n",
              " (73507088, 25007926),\n",
              " (77018247, 58399618),\n",
              " (70839579, 109399581),\n",
              " (73507088, 49756426),\n",
              " (16425451, 85388826),\n",
              " (67689179, 108170327),\n",
              " (22767263, 134333981),\n",
              " (24618090, 59850923),\n",
              " (81879851, 64614569),\n",
              " (129247112, 33587508),\n",
              " (70501151, 138712849),\n",
              " (54456684, 113988996),\n",
              " (53541502, 89427269),\n",
              " (34397068, 81030813),\n",
              " (78073551, 51994757),\n",
              " (22135849, 20749408),\n",
              " (61359976, 30060311),\n",
              " (16425451, 73052956),\n",
              " (90991975, 36254418),\n",
              " (70501151, 74591948),\n",
              " (78073551, 41044925),\n",
              " (91333442, 61477868),\n",
              " (90991975, 8066562),\n",
              " (54456684, 160105935),\n",
              " (24618090, 18500743),\n",
              " (91333442, 16551967),\n",
              " (7490342, 37377091),\n",
              " (82037168, 18360309),\n",
              " (142297827, 30537862),\n",
              " (46384092, 21054284),\n",
              " (77762110, 17691143),\n",
              " (51224018, 102627927),\n",
              " (91333442, 10870512),\n",
              " (16425451, 115724420),\n",
              " (18295287, 40822026),\n",
              " (67227772, 21093392),\n",
              " (70839579, 15042759),\n",
              " (70839579, 63949681),\n",
              " (71015277, 21893726),\n",
              " (62253864, 29394778),\n",
              " (95486674, 91418039),\n",
              " (90991975, 14453409),\n",
              " (49447461, 31051633),\n",
              " (70839579, 52682279),\n",
              " (77018247, 88098295),\n",
              " (91333442, 77595802),\n",
              " (62253864, 54223769),\n",
              " (82037168, 16787761),\n",
              " (14905780, 22825485),\n",
              " (34397068, 28230113),\n",
              " (68740996, 72005800),\n",
              " (24618090, 24210848),\n",
              " (61359976, 129389891),\n",
              " (7490342, 96364331),\n",
              " (81825679, 84249759),\n",
              " (22135849, 90673469),\n",
              " (62253864, 72109927),\n",
              " (61353193, 146920559),\n",
              " (70839579, 44021913),\n",
              " (84746156, 108834905),\n",
              " (56166712, 17481017),\n",
              " (53258013, 30160697),\n",
              " (84746156, 52754986),\n",
              " (88428288, 54223769),\n",
              " (70839579, 57117519),\n",
              " (7490342, 77468267),\n",
              " (91333442, 23644106),\n",
              " (8773632, 80634047),\n",
              " (77762110, 18133779),\n",
              " (24618090, 69301950),\n",
              " (81825679, 16257048),\n",
              " (73507088, 14253343),\n",
              " (22767263, 25455332),\n",
              " (61353193, 77679562),\n",
              " (154127930, 22447311),\n",
              " (22767263, 16712700),\n",
              " (22767263, 16275559),\n",
              " (70501151, 101418034),\n",
              " (77762110, 140274178),\n",
              " (29103884, 115658916),\n",
              " (42585064, 30537862),\n",
              " (84746156, 17833436),\n",
              " (29103884, 110072973),\n",
              " (51224018, 15645871),\n",
              " (70839579, 17980871),\n",
              " (83428907, 18774817),\n",
              " (14905780, 82089224),\n",
              " (61359976, 129468784),\n",
              " (90991975, 114169935),\n",
              " (18244473, 61714500),\n",
              " (24626089, 21734671),\n",
              " (68740996, 109664389),\n",
              " (83428907, 20065409),\n",
              " (22135849, 79266148),\n",
              " (142297827, 27094415),\n",
              " (24618090, 95129222),\n",
              " (46243590, 131639415),\n",
              " (14905780, 16827174),\n",
              " (67689179, 65967384),\n",
              " (16425451, 15656933),\n",
              " (16425451, 106695362),\n",
              " (24626089, 31378115),\n",
              " (51224018, 84297018),\n",
              " (16425451, 109755828),\n",
              " (15039436, 24776235),\n",
              " (77018247, 100399970),\n",
              " (68740996, 82405447),\n",
              " (20678540, 18680442),\n",
              " (73507088, 44786275),\n",
              " (46384092, 96347798),\n",
              " (16425451, 37660055),\n",
              " (21116178, 34915196),\n",
              " (19673697, 77888423),\n",
              " (68740996, 88557547),\n",
              " (27942147, 55371458),\n",
              " (26374737, 36731667),\n",
              " (78073551, 106361878),\n",
              " (68740996, 123083177),\n",
              " (77762110, 122125973),\n",
              " (90991975, 106398474),\n",
              " (89209508, 17068947),\n",
              " (53258013, 155033718),\n",
              " (81879851, 16252536),\n",
              " (92364172, 87281322),\n",
              " (53541502, 103874854),\n",
              " (15471509, 52498333),\n",
              " (78073551, 16920490),\n",
              " (53541502, 50188562),\n",
              " (24618090, 110049762),\n",
              " (68740996, 22513226),\n",
              " (44872143, 85234619),\n",
              " (73507088, 49952325),\n",
              " (24618090, 15473972),\n",
              " (90991975, 99500937),\n",
              " (53541502, 19731508),\n",
              " (20007155, 112882490),\n",
              " (89209508, 85517100),\n",
              " (77762110, 57695807),\n",
              " (90991975, 62728849),\n",
              " (46243590, 78359915),\n",
              " (78073551, 46867297),\n",
              " (81825679, 48761924),\n",
              " (51224018, 42001143),\n",
              " (83428907, 102218376),\n",
              " (53258013, 19085281),\n",
              " (70839579, 48541050),\n",
              " (90991975, 15288974),\n",
              " (14076588, 81763066),\n",
              " (14076588, 67288168),\n",
              " (90991975, 94933479),\n",
              " (18244473, 23210476),\n",
              " (27682973, 87027820),\n",
              " (82037168, 16572344),\n",
              " (83428907, 83500712),\n",
              " (53541502, 14850079),\n",
              " (84746156, 66405157),\n",
              " (48141717, 34307967),\n",
              " (97263446, 18264574),\n",
              " (91333442, 10492902),\n",
              " (7490342, 87520637),\n",
              " (71490397, 54245939),\n",
              " (22135849, 68155103),\n",
              " (22767263, 91086336),\n",
              " (90444025, 19345846),\n",
              " (95486674, 106947727),\n",
              " (21116178, 49060292),\n",
              " (77762110, 121646570),\n",
              " (51224018, 15520169),\n",
              " (8548952, 14468043),\n",
              " (42585064, 20611194),\n",
              " (70839579, 19085281),\n",
              " (44872143, 26506733),\n",
              " (81825679, 107041751),\n",
              " (61353193, 131824084),\n",
              " (49447461, 80609041),\n",
              " (46243590, 103368380),\n",
              " (73542070, 30365839),\n",
              " (91333442, 77425410),\n",
              " (90991975, 16513931),\n",
              " (7490342, 99011208),\n",
              " (89982079, 26216210),\n",
              " (15471509, 14313986),\n",
              " (73507088, 16379892),\n",
              " (73507088, 114110905),\n",
              " (70839579, 20853096),\n",
              " (83428907, 50987014),\n",
              " (62253864, 18694223),\n",
              " (84746156, 14151220),\n",
              " (68740996, 86817033),\n",
              " (19498445, 46335511),\n",
              " (73507088, 90314551),\n",
              " (95486674, 18548136),\n",
              " (81879851, 17980871),\n",
              " (91333442, 33420178),\n",
              " (24626089, 105213430),\n",
              " (91333442, 12570402),\n",
              " (84746156, 94931356),\n",
              " (54456684, 65388015),\n",
              " (68740996, 82945765),\n",
              " (49447461, 85517100),\n",
              " (61353193, 144185480),\n",
              " (56166712, 73733859),\n",
              " (89982079, 37660055),\n",
              " (15471509, 15248178),\n",
              " (38644052, 120083514),\n",
              " (95486674, 81095181),\n",
              " (83428907, 44640029),\n",
              " (67689179, 94998245),\n",
              " (61359976, 18753627),\n",
              " (58292998, 42223472),\n",
              " (73507088, 93666150),\n",
              " (18244473, 8833312),\n",
              " (49447461, 65069408),\n",
              " (97263446, 20994080),\n",
              " (77762110, 62339270),\n",
              " (38644052, 12570402),\n",
              " (84746156, 142785220),\n",
              " (19566658, 14464835),\n",
              " (73507088, 89946489),\n",
              " (53258013, 39533977),\n",
              " (19498445, 37313599),\n",
              " (54456684, 70718677),\n",
              " (62253864, 20534861),\n",
              " (71490397, 23890475),\n",
              " (14905780, 124296041),\n",
              " (83428907, 48141717),\n",
              " (51224018, 161484023),\n",
              " (14497300, 85499929),\n",
              " (14905780, 130680587),\n",
              " (14497300, 18810707),\n",
              " (58292998, 85347741),\n",
              " (81879851, 76204351),\n",
              " (81879851, 54456194),\n",
              " (81879851, 14453833),\n",
              " (95486674, 20009640),\n",
              " (67689179, 14278915),\n",
              " (117895087, 20345922),\n",
              " (49447461, 16713963),\n",
              " (22135849, 130984847),\n",
              " (58981222, 24558787),\n",
              " (53541502, 24573047),\n",
              " (53541502, 66869910),\n",
              " (88089155, 64614569),\n",
              " (34397068, 109227062),\n",
              " (19242232, 133858640),\n",
              " (148054649, 113491226),\n",
              " (7490342, 66848269),\n",
              " (46243590, 18855401),\n",
              " (44872143, 21057414),\n",
              " (38644052, 28509363),\n",
              " (82724693, 17137510),\n",
              " (24618090, 83505782),\n",
              " (68740996, 123518251),\n",
              " (90991975, 34022537),\n",
              " (19498445, 112496814),\n",
              " (90991975, 69426279),\n",
              " (22135849, 25599869),\n",
              " (22135849, 34149393),\n",
              " (21116178, 82325697),\n",
              " (81825679, 90190737),\n",
              " (90991975, 54368334),\n",
              " (26658350, 27231397),\n",
              " (71015277, 18206009),\n",
              " (56166712, 121278779),\n",
              " (92364172, 15734380),\n",
              " (54456684, 32596467),\n",
              " (29103884, 16559320),\n",
              " (83428907, 37504993),\n",
              " (26374737, 144009081),\n",
              " (77018247, 93656465),\n",
              " (16425451, 16419705),\n",
              " (90991975, 110597524),\n",
              " (77762110, 16556652),\n",
              " (90991975, 17833536),\n",
              " (48660845, 15181209),\n",
              " (20678540, 135348838),\n",
              " (51224018, 18401458),\n",
              " (68740996, 98711806),\n",
              " (24626089, 26350255),\n",
              " (18244473, 38709939),\n",
              " (61359976, 26342630),\n",
              " (49447461, 14949732),\n",
              " (24618090, 34823789),\n",
              " (24618090, 24722470),\n",
              " (29103884, 85380044),\n",
              " (16425451, 69464966),\n",
              " (90991975, 36650335),\n",
              " (121363994, 90703725),\n",
              " (14905780, 35796049),\n",
              " (91333442, 32596467),\n",
              " (34397068, 21449985),\n",
              " (58292998, 57467672),\n",
              " (95486674, 114734942),\n",
              " (90991975, 80493629),\n",
              " (91333442, 85381511),\n",
              " (19062548, 99022935),\n",
              " (95486674, 24461721),\n",
              " (83428907, 68029897),\n",
              " (18244473, 15846407),\n",
              " (14497300, 56826557),\n",
              " (71015277, 103834215),\n",
              " (14905780, 59497299),\n",
              " (58292998, 116752219),\n",
              " (77762110, 108709465),\n",
              " (97263446, 66840021),\n",
              " (16425451, 103717680),\n",
              " (62253864, 74204739),\n",
              " (77018247, 101298305),\n",
              " (84746156, 138314023),\n",
              " (77762110, 101095390),\n",
              " (48660845, 125726314),\n",
              " (24618090, 86887644),\n",
              " (15502486, 43955735),\n",
              " (84746156, 37491431),\n",
              " (48141717, 17520810),\n",
              " (89132486, 87336408),\n",
              " (34397068, 64989395),\n",
              " (29103884, 17123268),\n",
              " (84746156, 19148560),\n",
              " (16425451, 16543782),\n",
              " (19242232, 107639837),\n",
              " (68740996, 136674376),\n",
              " (68740996, 69488731),\n",
              " (68740996, 16145086),\n",
              " (21116178, 126706647),\n",
              " (46243590, 25455332),\n",
              " (77762110, 55576282),\n",
              " (83428907, 27530199),\n",
              " (56166712, 22753132),\n",
              " (18295287, 18500743),\n",
              " (18244473, 6902602),\n",
              " (84746156, 108562549),\n",
              " (18244473, 95654960),\n",
              " (21116178, 15044502),\n",
              " (27942147, 123686892),\n",
              " (68740996, 95458918),\n",
              " (97263446, 16556652),\n",
              " (53541502, 17790274),\n",
              " (53541502, 16976531),\n",
              " (46243590, 88181580),\n",
              " (72550737, 102891343),\n",
              " (68740996, 88276499),\n",
              " (68740996, 122946243),\n",
              " (44872143, 104089914),\n",
              " (70501151, 82540732),\n",
              " (22767263, 97344139),\n",
              " (78073551, 136349526),\n",
              " (56166712, 37532297),\n",
              " (81825679, 16572344),\n",
              " (84746156, 135002754),\n",
              " (16425451, 122445192),\n",
              " (29103884, 100466973),\n",
              " (84746156, 19263381),\n",
              " (58981222, 22363460),\n",
              " (7490342, 89754977),\n",
              " (77762110, 137048074),\n",
              " (46384092, 25301370),\n",
              " (77762110, 88621368),\n",
              " (19242232, 59523280),\n",
              " (83428907, 29315030),\n",
              " (53258013, 69955915),\n",
              " (14905780, 24733117),\n",
              " (24618090, 48541050),\n",
              " (81825679, 35114020),\n",
              " (7490342, 90285821),\n",
              " (70501151, 18914991),\n",
              " (95486674, 86966246),\n",
              " (21116178, 123305459),\n",
              " (19242232, 56147741),\n",
              " (83428907, 101976555),\n",
              " (71490397, 18879290),\n",
              " (50008018, 18504032),\n",
              " (58981222, 36123084),\n",
              " (121363994, 127629710),\n",
              " (22767263, 66622951),\n",
              " (91333442, 18454286),\n",
              " (54456684, 20371912),\n",
              " (73507088, 130076049),\n",
              " (51224018, 43155565),\n",
              " (14905780, 52487705),\n",
              " (46384092, 56826557),\n",
              " (24618090, 64975792),\n",
              " (24618090, 16602848),\n",
              " (67689179, 16090230),\n",
              " (68740996, 49756426),\n",
              " (91333442, 29685149),\n",
              " (56166712, 40218214),\n",
              " (48660845, 10492902),\n",
              " (48141717, 15052873),\n",
              " (14905780, 17783366),\n",
              " (77018247, 121912625),\n",
              " (54456684, 15163261),\n",
              " (40851547, 18651977),\n",
              " (97263446, 94332608),\n",
              " (46384092, 31462438),\n",
              " (51224018, 90867786),\n",
              " (90991975, 16956916),\n",
              " (83428907, 95754443),\n",
              " (91333442, 100793023),\n",
              " (29103884, 33878810),\n",
              " (46243590, 54079508),\n",
              " (58981222, 14688076),\n",
              " (83428907, 105648396),\n",
              " (14497300, 41373879),\n",
              " (83428907, 88621368),\n",
              " (29103884, 86265986),\n",
              " (95486674, 15146188),\n",
              " (49447461, 30329734),\n",
              " (84746156, 31462438),\n",
              " (40851547, 15846407),\n",
              " (19062548, 35682268),\n",
              " (48660845, 111971091),\n",
              " (78073551, 56583077),\n",
              " (24618090, 111995364),\n",
              " (16425451, 72076552),\n",
              " (22135849, 87976860),\n",
              " (70839579, 24495294),\n",
              " (73507088, 34893016),\n",
              " (68740996, 121410145),\n",
              " (54456684, 53167957),\n",
              " (70501151, 98953735),\n",
              " (70501151, 126656016),\n",
              " (62253864, 52751177),\n",
              " (78073551, 65947531),\n",
              " (81879851, 18302410),\n",
              " (48141717, 87753690),\n",
              " (49447461, 39714514),\n",
              " (70839579, 24650502),\n",
              " (22767263, 22777809),\n",
              " (73507088, 86206305),\n",
              " (14905780, 23136101),\n",
              " (77762110, 92785778),\n",
              " (51224018, 13688802),\n",
              " (20678540, 86562456),\n",
              " (29103884, 21985343),\n",
              " (91333442, 16858050),\n",
              " (24618090, 101434647),\n",
              " (29103884, 95751299),\n",
              " (21116178, 86666626),\n",
              " (81879851, 114878121),\n",
              " (24618090, 61984865),\n",
              " (58292998, 79622156),\n",
              " (89209508, 22269057),\n",
              " (86877590, 78042690),\n",
              " (51224018, 19466508),\n",
              " (91333442, 62343666),\n",
              " (38644052, 20691901),\n",
              " (91333442, 23300815),\n",
              " (70501151, 115432966),\n",
              " (20678540, 24861211),\n",
              " (73507088, 26563593),\n",
              " (20678540, 64036589),\n",
              " (62253864, 34931360),\n",
              " (34397068, 103695833),\n",
              " (70839579, 43165201),\n",
              " (78073551, 94124530),\n",
              " (27094415, 1917731),\n",
              " (90991975, 23507474),\n",
              " (81879851, 85572733),\n",
              " (51224018, 39013606),\n",
              " (20678540, 62336688),\n",
              " (97263446, 1303381),\n",
              " (8548952, 150124148),\n",
              " (77762110, 82019739),\n",
              " (70839579, 54825725),\n",
              " (90991975, 62643584),\n",
              " (51224018, 56310810),\n",
              " (29103884, 49952325),\n",
              " (54456684, 80708338),\n",
              " (83428907, 85316657),\n",
              " (90991975, 16807407),\n",
              " (77762110, 91381913),\n",
              " (51224018, 136235518),\n",
              " (20678540, 144822505),\n",
              " (83428907, 56991121),\n",
              " (81879851, 19824444),\n",
              " (16425451, 110176565),\n",
              " (24618090, 52805219),\n",
              " (24618090, 87776066),\n",
              " (58981222, 9285422),\n",
              " (23957716, 15039436),\n",
              " (46243590, 23932737),\n",
              " (58981222, 49895167),\n",
              " (46243590, 44946691),\n",
              " (90991975, 26262001),\n",
              " (53541502, 15181209),\n",
              " (77762110, 33420178),\n",
              " (83428907, 15146188),\n",
              " (38644052, 56811213),\n",
              " (46243590, 82692531),\n",
              " (26374737, 14117843),\n",
              " (46384092, 18274110),\n",
              " (70839579, 125130862),\n",
              " (88089155, 61984865),\n",
              " (58292998, 22203887),\n",
              " (16425451, 19737457),\n",
              " (22767263, 148539143),\n",
              " (14905780, 98666399),\n",
              " (38644052, 111471073),\n",
              " (24906622, 103695833),\n",
              " (46243590, 66188538),\n",
              " (95486674, 95754443),\n",
              " (16425451, 121725393),\n",
              " (49447461, 17946923),\n",
              " (7490342, 59135745),\n",
              " (83428907, 18855401),\n",
              " (58981222, 147313802),\n",
              " (68740996, 125055087),\n",
              " (95486674, 101856829),\n",
              " (24618090, 64221979),\n",
              " (89132486, 88321965),\n",
              " (78073551, 127662938),\n",
              " (46243590, 23515753),\n",
              " (90991975, 45440992),\n",
              " (46243590, 67868715),\n",
              " (29103884, 15634155),\n",
              " (22767263, 47347971),\n",
              " (84746156, 116850976),\n",
              " (62253864, 53355252),\n",
              " (73507088, 69188225),\n",
              " (46243590, 115729592),\n",
              " (38644052, 132174963),\n",
              " (91333442, 88732012),\n",
              " (19498445, 103137565),\n",
              " (14905780, 41265484),\n",
              " (54456684, 75187967),\n",
              " (34397068, 112969892),\n",
              " (18244473, 56147741),\n",
              " (53258013, 124296041),\n",
              " (90991975, 75358436),\n",
              " (19242232, 124218900),\n",
              " (90991975, 116018432),\n",
              " (72550737, 22931079),\n",
              " (19242232, 20901251),\n",
              " (24618090, 66881940),\n",
              " (62253864, 101290364),\n",
              " (8548952, 33848404),\n",
              " (58981222, 17726055),\n",
              " (22135849, 113229633),\n",
              " (90991975, 27059567),\n",
              " (77762110, 132095145),\n",
              " (68740996, 119638477),\n",
              " (18244473, 14151220),\n",
              " (29103884, 95558589),\n",
              " (54456684, 20866964),\n",
              " (34397068, 34931360),\n",
              " (71490397, 51139742),\n",
              " (46243590, 120568593),\n",
              " (70839579, 18680442),\n",
              " (34397068, 81095181),\n",
              " (129247112, 97893514),\n",
              " (90991975, 14180279),\n",
              " (73507088, 16702055),\n",
              " (95486674, 93622378),\n",
              " (89209508, 46308074),\n",
              " (16425451, 117876196),\n",
              " (15471509, 51461888),\n",
              " (58981222, 22132732),\n",
              " (51224018, 131859259),\n",
              " (21116178, 72293188),\n",
              " (68740996, 159720941),\n",
              " (16425451, 95938972),\n",
              " (21116178, 61597370),\n",
              " (21116178, 99237427),\n",
              " (54456684, 117918667),\n",
              " (81825679, 16746862),\n",
              " (90991975, 59114280),\n",
              " (71015277, 104817226),\n",
              " (70839579, 108170327),\n",
              " (29103884, 92964993),\n",
              " (70501151, 34582340),\n",
              " (42373905, 103928235),\n",
              " (15471509, 52117188),\n",
              " (61353193, 134238706),\n",
              " (70501151, 18318324),\n",
              " (91333442, 81004079),\n",
              " (78073551, 44764976),\n",
              " (73507088, 81751007),\n",
              " (20678540, 16275559),\n",
              " (70501151, 50282543),\n",
              " (61353193, 49756426),\n",
              " (95486674, 52751177),\n",
              " (16425451, 125685039),\n",
              " (84746156, 105635491),\n",
              " (71490397, 74758087),\n",
              " (14905780, 48632502),\n",
              " (14076588, 16196157),\n",
              " (54456684, 109427011),\n",
              " (51224018, 49634378),\n",
              " (91333442, 58571975),\n",
              " (24906622, 81464169),\n",
              " (91333442, 15202752),\n",
              " (67689179, 13688802),\n",
              " (71015277, 15473972),\n",
              " (22135849, 102955194),\n",
              " (46243590, 73470305),\n",
              " (21116178, 141480708),\n",
              " (90991975, 99211890),\n",
              " (20678540, 104200938),\n",
              " (46243590, 19282899),\n",
              " (22767263, 32596467),\n",
              " (77762110, 49404066),\n",
              " (88089155, 81879851),\n",
              " (78073551, 115442332),\n",
              " (90991975, 99237427),\n",
              " (24618090, 14823092),\n",
              " (49447461, 55978431),\n",
              " (54456684, 105530836),\n",
              " (27094415, 27660244),\n",
              " (22767263, 100581739),\n",
              " (61353193, 8833312),\n",
              " (139699063, 28770512),\n",
              " (77762110, 75087327),\n",
              " (81879851, 91489358),\n",
              " (78073551, 96871753),\n",
              " (82037168, 37332302),\n",
              " (46384092, 71428624),\n",
              " ...]"
            ]
          },
          "metadata": {
            "tags": []
          },
          "execution_count": 141
        }
      ]
    },
    {
      "cell_type": "code",
      "metadata": {
        "colab": {
          "base_uri": "https://localhost:8080/"
        },
        "id": "yYNUTQdmeiKs",
        "outputId": "e9b01367-beff-4d5a-ce2e-bf967095c4f7"
      },
      "source": [
        "cnt=0\n",
        "for y in Y_graph_2:\n",
        "  if y==1:\n",
        "    cnt=cnt+1\n",
        "print(cnt)\n",
        "print(len(Y_graph_2)-cnt)"
      ],
      "execution_count": 72,
      "outputs": [
        {
          "output_type": "stream",
          "text": [
            "517\n",
            "7030\n"
          ],
          "name": "stdout"
        }
      ]
    },
    {
      "cell_type": "code",
      "metadata": {
        "colab": {
          "base_uri": "https://localhost:8080/"
        },
        "id": "aJxH0CpawCXR",
        "outputId": "50d491b6-4460-47a4-b01a-1ccc5327f818"
      },
      "source": [
        "import networkx as nx\n",
        "\n",
        "# following_edges = list(set(following_edges))\n",
        "#build the graph\n",
        "\n",
        "G = nx.Graph()\n",
        "G.add_nodes_from(key_list)\n",
        "# G.add_edges_from(all_edges)\n",
        "G.add_edges_from(following_edges_2)\n",
        "\n",
        "#obtain the adjacency matrix (A)\n",
        "A = nx.adjacency_matrix(G)\n",
        "print('Graph info: ', nx.info(G))"
      ],
      "execution_count": 77,
      "outputs": [
        {
          "output_type": "stream",
          "text": [
            "Graph info:  Name: \n",
            "Type: Graph\n",
            "Number of nodes: 7547\n",
            "Number of edges: 23533\n",
            "Average degree:   6.2364\n"
          ],
          "name": "stdout"
        }
      ]
    },
    {
      "cell_type": "code",
      "metadata": {
        "colab": {
          "base_uri": "https://localhost:8080/"
        },
        "id": "L_Q0wqy-E0Fm",
        "outputId": "773cd92b-8293-47b1-f308-855b2a7e9da2"
      },
      "source": [
        "A.shape"
      ],
      "execution_count": 78,
      "outputs": [
        {
          "output_type": "execute_result",
          "data": {
            "text/plain": [
              "(7547, 7547)"
            ]
          },
          "metadata": {
            "tags": []
          },
          "execution_count": 78
        }
      ]
    },
    {
      "cell_type": "code",
      "metadata": {
        "id": "foB4MAvAn8Cf"
      },
      "source": [
        "import pandas as pd\n",
        "df=pd.DataFrame(data=X_graph_2)"
      ],
      "execution_count": 79,
      "outputs": []
    },
    {
      "cell_type": "code",
      "metadata": {
        "colab": {
          "base_uri": "https://localhost:8080/",
          "height": 215
        },
        "id": "jGhrQl3Vvk0q",
        "outputId": "b4c6077c-b681-47f2-860c-312a17c560b6"
      },
      "source": [
        "df.tail()"
      ],
      "execution_count": 100,
      "outputs": [
        {
          "output_type": "execute_result",
          "data": {
            "text/html": [
              "<div>\n",
              "<style scoped>\n",
              "    .dataframe tbody tr th:only-of-type {\n",
              "        vertical-align: middle;\n",
              "    }\n",
              "\n",
              "    .dataframe tbody tr th {\n",
              "        vertical-align: top;\n",
              "    }\n",
              "\n",
              "    .dataframe thead th {\n",
              "        text-align: right;\n",
              "    }\n",
              "</style>\n",
              "<table border=\"1\" class=\"dataframe\">\n",
              "  <thead>\n",
              "    <tr style=\"text-align: right;\">\n",
              "      <th></th>\n",
              "      <th>0</th>\n",
              "      <th>1</th>\n",
              "      <th>2</th>\n",
              "      <th>3</th>\n",
              "      <th>4</th>\n",
              "      <th>5</th>\n",
              "      <th>6</th>\n",
              "      <th>7</th>\n",
              "      <th>8</th>\n",
              "      <th>9</th>\n",
              "      <th>10</th>\n",
              "      <th>11</th>\n",
              "      <th>12</th>\n",
              "      <th>13</th>\n",
              "      <th>14</th>\n",
              "      <th>15</th>\n",
              "      <th>16</th>\n",
              "      <th>17</th>\n",
              "      <th>18</th>\n",
              "      <th>19</th>\n",
              "      <th>20</th>\n",
              "      <th>21</th>\n",
              "      <th>22</th>\n",
              "      <th>23</th>\n",
              "      <th>24</th>\n",
              "      <th>25</th>\n",
              "      <th>26</th>\n",
              "      <th>27</th>\n",
              "      <th>class</th>\n",
              "    </tr>\n",
              "  </thead>\n",
              "  <tbody>\n",
              "    <tr>\n",
              "      <th>7542</th>\n",
              "      <td>2311.0</td>\n",
              "      <td>2286.0</td>\n",
              "      <td>10.0</td>\n",
              "      <td>118.0</td>\n",
              "      <td>1.0109</td>\n",
              "      <td>5.709391e+06</td>\n",
              "      <td>5.721753e+06</td>\n",
              "      <td>-0.0</td>\n",
              "      <td>37.0</td>\n",
              "      <td>46.0</td>\n",
              "      <td>23.0</td>\n",
              "      <td>23.0</td>\n",
              "      <td>23.0</td>\n",
              "      <td>23.0</td>\n",
              "      <td>25.0</td>\n",
              "      <td>0.1850</td>\n",
              "      <td>0.2300</td>\n",
              "      <td>0.1150</td>\n",
              "      <td>0.1150</td>\n",
              "      <td>0.1150</td>\n",
              "      <td>0.1150</td>\n",
              "      <td>0.1250</td>\n",
              "      <td>1.0000</td>\n",
              "      <td>0.0100</td>\n",
              "      <td>0.0000</td>\n",
              "      <td>0.0000</td>\n",
              "      <td>0.0000</td>\n",
              "      <td>0.0000</td>\n",
              "      <td>0</td>\n",
              "    </tr>\n",
              "    <tr>\n",
              "      <th>7543</th>\n",
              "      <td>2021.0</td>\n",
              "      <td>535.0</td>\n",
              "      <td>12.0</td>\n",
              "      <td>111.0</td>\n",
              "      <td>3.7776</td>\n",
              "      <td>6.348370e+06</td>\n",
              "      <td>6.362091e+06</td>\n",
              "      <td>-0.0</td>\n",
              "      <td>2.0</td>\n",
              "      <td>0.0</td>\n",
              "      <td>0.0</td>\n",
              "      <td>0.0</td>\n",
              "      <td>0.0</td>\n",
              "      <td>6.0</td>\n",
              "      <td>0.0</td>\n",
              "      <td>0.2500</td>\n",
              "      <td>0.0000</td>\n",
              "      <td>0.0000</td>\n",
              "      <td>0.0000</td>\n",
              "      <td>0.0000</td>\n",
              "      <td>0.7500</td>\n",
              "      <td>0.0000</td>\n",
              "      <td>1.0000</td>\n",
              "      <td>0.8750</td>\n",
              "      <td>0.0000</td>\n",
              "      <td>0.0000</td>\n",
              "      <td>0.2500</td>\n",
              "      <td>0.2500</td>\n",
              "      <td>0</td>\n",
              "    </tr>\n",
              "    <tr>\n",
              "      <th>7544</th>\n",
              "      <td>1128.0</td>\n",
              "      <td>1076.0</td>\n",
              "      <td>8.0</td>\n",
              "      <td>109.0</td>\n",
              "      <td>1.0483</td>\n",
              "      <td>5.416907e+06</td>\n",
              "      <td>5.428622e+06</td>\n",
              "      <td>-0.0</td>\n",
              "      <td>3.0</td>\n",
              "      <td>5.0</td>\n",
              "      <td>8.0</td>\n",
              "      <td>3.0</td>\n",
              "      <td>9.0</td>\n",
              "      <td>4.0</td>\n",
              "      <td>4.0</td>\n",
              "      <td>0.0833</td>\n",
              "      <td>0.1389</td>\n",
              "      <td>0.2222</td>\n",
              "      <td>0.0833</td>\n",
              "      <td>0.2500</td>\n",
              "      <td>0.1111</td>\n",
              "      <td>0.1111</td>\n",
              "      <td>0.0833</td>\n",
              "      <td>0.0278</td>\n",
              "      <td>0.5556</td>\n",
              "      <td>0.4444</td>\n",
              "      <td>0.0556</td>\n",
              "      <td>0.0278</td>\n",
              "      <td>0</td>\n",
              "    </tr>\n",
              "    <tr>\n",
              "      <th>7545</th>\n",
              "      <td>5863.0</td>\n",
              "      <td>5439.0</td>\n",
              "      <td>9.0</td>\n",
              "      <td>31.0</td>\n",
              "      <td>1.0780</td>\n",
              "      <td>5.100322e+06</td>\n",
              "      <td>5.111385e+06</td>\n",
              "      <td>-0.0</td>\n",
              "      <td>31.0</td>\n",
              "      <td>33.0</td>\n",
              "      <td>23.0</td>\n",
              "      <td>25.0</td>\n",
              "      <td>21.0</td>\n",
              "      <td>33.0</td>\n",
              "      <td>34.0</td>\n",
              "      <td>0.1550</td>\n",
              "      <td>0.1650</td>\n",
              "      <td>0.1150</td>\n",
              "      <td>0.1250</td>\n",
              "      <td>0.1050</td>\n",
              "      <td>0.1650</td>\n",
              "      <td>0.1700</td>\n",
              "      <td>1.9700</td>\n",
              "      <td>0.4150</td>\n",
              "      <td>0.0000</td>\n",
              "      <td>0.0000</td>\n",
              "      <td>0.0000</td>\n",
              "      <td>0.0000</td>\n",
              "      <td>0</td>\n",
              "    </tr>\n",
              "    <tr>\n",
              "      <th>7546</th>\n",
              "      <td>6154.0</td>\n",
              "      <td>5960.0</td>\n",
              "      <td>14.0</td>\n",
              "      <td>47.0</td>\n",
              "      <td>1.0326</td>\n",
              "      <td>2.529484e+06</td>\n",
              "      <td>2.534999e+06</td>\n",
              "      <td>-0.0</td>\n",
              "      <td>25.0</td>\n",
              "      <td>18.0</td>\n",
              "      <td>20.0</td>\n",
              "      <td>21.0</td>\n",
              "      <td>45.0</td>\n",
              "      <td>34.0</td>\n",
              "      <td>35.0</td>\n",
              "      <td>0.1263</td>\n",
              "      <td>0.0909</td>\n",
              "      <td>0.1010</td>\n",
              "      <td>0.1061</td>\n",
              "      <td>0.2273</td>\n",
              "      <td>0.1717</td>\n",
              "      <td>0.1768</td>\n",
              "      <td>0.0909</td>\n",
              "      <td>0.0808</td>\n",
              "      <td>1.3788</td>\n",
              "      <td>0.7778</td>\n",
              "      <td>0.1010</td>\n",
              "      <td>0.0808</td>\n",
              "      <td>0</td>\n",
              "    </tr>\n",
              "  </tbody>\n",
              "</table>\n",
              "</div>"
            ],
            "text/plain": [
              "           0       1     2      3  ...      25      26      27  class\n",
              "7542  2311.0  2286.0  10.0  118.0  ...  0.0000  0.0000  0.0000      0\n",
              "7543  2021.0   535.0  12.0  111.0  ...  0.0000  0.2500  0.2500      0\n",
              "7544  1128.0  1076.0   8.0  109.0  ...  0.4444  0.0556  0.0278      0\n",
              "7545  5863.0  5439.0   9.0   31.0  ...  0.0000  0.0000  0.0000      0\n",
              "7546  6154.0  5960.0  14.0   47.0  ...  0.7778  0.1010  0.0808      0\n",
              "\n",
              "[5 rows x 29 columns]"
            ]
          },
          "metadata": {
            "tags": []
          },
          "execution_count": 100
        }
      ]
    },
    {
      "cell_type": "code",
      "metadata": {
        "colab": {
          "base_uri": "https://localhost:8080/",
          "height": 215
        },
        "id": "gM2Cz5PGojh5",
        "outputId": "ec4bc5e0-5129-41ba-f33d-3a1af7dc54c2"
      },
      "source": [
        "df.head()"
      ],
      "execution_count": 80,
      "outputs": [
        {
          "output_type": "execute_result",
          "data": {
            "text/html": [
              "<div>\n",
              "<style scoped>\n",
              "    .dataframe tbody tr th:only-of-type {\n",
              "        vertical-align: middle;\n",
              "    }\n",
              "\n",
              "    .dataframe tbody tr th {\n",
              "        vertical-align: top;\n",
              "    }\n",
              "\n",
              "    .dataframe thead th {\n",
              "        text-align: right;\n",
              "    }\n",
              "</style>\n",
              "<table border=\"1\" class=\"dataframe\">\n",
              "  <thead>\n",
              "    <tr style=\"text-align: right;\">\n",
              "      <th></th>\n",
              "      <th>0</th>\n",
              "      <th>1</th>\n",
              "      <th>2</th>\n",
              "      <th>3</th>\n",
              "      <th>4</th>\n",
              "      <th>5</th>\n",
              "      <th>6</th>\n",
              "      <th>7</th>\n",
              "      <th>8</th>\n",
              "      <th>9</th>\n",
              "      <th>10</th>\n",
              "      <th>11</th>\n",
              "      <th>12</th>\n",
              "      <th>13</th>\n",
              "      <th>14</th>\n",
              "      <th>15</th>\n",
              "      <th>16</th>\n",
              "      <th>17</th>\n",
              "      <th>18</th>\n",
              "      <th>19</th>\n",
              "      <th>20</th>\n",
              "      <th>21</th>\n",
              "      <th>22</th>\n",
              "      <th>23</th>\n",
              "      <th>24</th>\n",
              "      <th>25</th>\n",
              "      <th>26</th>\n",
              "      <th>27</th>\n",
              "    </tr>\n",
              "  </thead>\n",
              "  <tbody>\n",
              "    <tr>\n",
              "      <th>0</th>\n",
              "      <td>977.0</td>\n",
              "      <td>134.0</td>\n",
              "      <td>12.0</td>\n",
              "      <td>59.0</td>\n",
              "      <td>7.2910</td>\n",
              "      <td>6.634527e+06</td>\n",
              "      <td>6.648904e+06</td>\n",
              "      <td>-0.0</td>\n",
              "      <td>19.0</td>\n",
              "      <td>12.0</td>\n",
              "      <td>11.0</td>\n",
              "      <td>1.0</td>\n",
              "      <td>11.0</td>\n",
              "      <td>17.0</td>\n",
              "      <td>18.0</td>\n",
              "      <td>0.2135</td>\n",
              "      <td>0.1348</td>\n",
              "      <td>0.1236</td>\n",
              "      <td>0.0112</td>\n",
              "      <td>0.1236</td>\n",
              "      <td>0.1910</td>\n",
              "      <td>0.2022</td>\n",
              "      <td>0.9663</td>\n",
              "      <td>0.9663</td>\n",
              "      <td>0.0000</td>\n",
              "      <td>0.0000</td>\n",
              "      <td>0.0000</td>\n",
              "      <td>0.0000</td>\n",
              "    </tr>\n",
              "    <tr>\n",
              "      <th>1</th>\n",
              "      <td>4718.0</td>\n",
              "      <td>4504.0</td>\n",
              "      <td>13.0</td>\n",
              "      <td>76.0</td>\n",
              "      <td>1.0475</td>\n",
              "      <td>3.919338e+06</td>\n",
              "      <td>3.927841e+06</td>\n",
              "      <td>-0.0</td>\n",
              "      <td>41.0</td>\n",
              "      <td>40.0</td>\n",
              "      <td>36.0</td>\n",
              "      <td>19.0</td>\n",
              "      <td>26.0</td>\n",
              "      <td>20.0</td>\n",
              "      <td>18.0</td>\n",
              "      <td>0.2050</td>\n",
              "      <td>0.2000</td>\n",
              "      <td>0.1800</td>\n",
              "      <td>0.0950</td>\n",
              "      <td>0.1300</td>\n",
              "      <td>0.1000</td>\n",
              "      <td>0.0900</td>\n",
              "      <td>1.0000</td>\n",
              "      <td>0.9950</td>\n",
              "      <td>0.0400</td>\n",
              "      <td>0.0150</td>\n",
              "      <td>0.0300</td>\n",
              "      <td>0.0150</td>\n",
              "    </tr>\n",
              "    <tr>\n",
              "      <th>2</th>\n",
              "      <td>1637.0</td>\n",
              "      <td>728.0</td>\n",
              "      <td>11.0</td>\n",
              "      <td>127.0</td>\n",
              "      <td>2.2486</td>\n",
              "      <td>3.347300e+06</td>\n",
              "      <td>3.354560e+06</td>\n",
              "      <td>-0.0</td>\n",
              "      <td>9.0</td>\n",
              "      <td>5.0</td>\n",
              "      <td>7.0</td>\n",
              "      <td>8.0</td>\n",
              "      <td>3.0</td>\n",
              "      <td>2.0</td>\n",
              "      <td>0.0</td>\n",
              "      <td>0.2647</td>\n",
              "      <td>0.1471</td>\n",
              "      <td>0.2059</td>\n",
              "      <td>0.2353</td>\n",
              "      <td>0.0882</td>\n",
              "      <td>0.0588</td>\n",
              "      <td>0.0000</td>\n",
              "      <td>0.1471</td>\n",
              "      <td>0.1471</td>\n",
              "      <td>0.0294</td>\n",
              "      <td>0.0294</td>\n",
              "      <td>0.0000</td>\n",
              "      <td>0.0000</td>\n",
              "    </tr>\n",
              "    <tr>\n",
              "      <th>3</th>\n",
              "      <td>1433.0</td>\n",
              "      <td>509.0</td>\n",
              "      <td>12.0</td>\n",
              "      <td>150.0</td>\n",
              "      <td>2.8153</td>\n",
              "      <td>1.007235e+07</td>\n",
              "      <td>1.009409e+07</td>\n",
              "      <td>-0.0</td>\n",
              "      <td>0.0</td>\n",
              "      <td>0.0</td>\n",
              "      <td>0.0</td>\n",
              "      <td>0.0</td>\n",
              "      <td>0.0</td>\n",
              "      <td>2.0</td>\n",
              "      <td>0.0</td>\n",
              "      <td>0.0000</td>\n",
              "      <td>0.0000</td>\n",
              "      <td>0.0000</td>\n",
              "      <td>0.0000</td>\n",
              "      <td>0.0000</td>\n",
              "      <td>1.0000</td>\n",
              "      <td>0.0000</td>\n",
              "      <td>1.0000</td>\n",
              "      <td>1.0000</td>\n",
              "      <td>0.0000</td>\n",
              "      <td>0.0000</td>\n",
              "      <td>0.0000</td>\n",
              "      <td>0.0000</td>\n",
              "    </tr>\n",
              "    <tr>\n",
              "      <th>4</th>\n",
              "      <td>497.0</td>\n",
              "      <td>350.0</td>\n",
              "      <td>9.0</td>\n",
              "      <td>34.0</td>\n",
              "      <td>1.4200</td>\n",
              "      <td>6.137583e+06</td>\n",
              "      <td>6.150910e+06</td>\n",
              "      <td>-0.0</td>\n",
              "      <td>18.0</td>\n",
              "      <td>22.0</td>\n",
              "      <td>30.0</td>\n",
              "      <td>24.0</td>\n",
              "      <td>5.0</td>\n",
              "      <td>43.0</td>\n",
              "      <td>30.0</td>\n",
              "      <td>0.1047</td>\n",
              "      <td>0.1279</td>\n",
              "      <td>0.1744</td>\n",
              "      <td>0.1395</td>\n",
              "      <td>0.0291</td>\n",
              "      <td>0.2500</td>\n",
              "      <td>0.1744</td>\n",
              "      <td>0.4942</td>\n",
              "      <td>0.4302</td>\n",
              "      <td>0.4593</td>\n",
              "      <td>0.2791</td>\n",
              "      <td>0.1279</td>\n",
              "      <td>0.0349</td>\n",
              "    </tr>\n",
              "  </tbody>\n",
              "</table>\n",
              "</div>"
            ],
            "text/plain": [
              "       0       1     2      3       4   ...      23      24      25      26      27\n",
              "0   977.0   134.0  12.0   59.0  7.2910  ...  0.9663  0.0000  0.0000  0.0000  0.0000\n",
              "1  4718.0  4504.0  13.0   76.0  1.0475  ...  0.9950  0.0400  0.0150  0.0300  0.0150\n",
              "2  1637.0   728.0  11.0  127.0  2.2486  ...  0.1471  0.0294  0.0294  0.0000  0.0000\n",
              "3  1433.0   509.0  12.0  150.0  2.8153  ...  1.0000  0.0000  0.0000  0.0000  0.0000\n",
              "4   497.0   350.0   9.0   34.0  1.4200  ...  0.4302  0.4593  0.2791  0.1279  0.0349\n",
              "\n",
              "[5 rows x 28 columns]"
            ]
          },
          "metadata": {
            "tags": []
          },
          "execution_count": 80
        }
      ]
    },
    {
      "cell_type": "code",
      "metadata": {
        "id": "_U0GH76roq7x"
      },
      "source": [
        "df['class']=Y_graph_2"
      ],
      "execution_count": 81,
      "outputs": []
    },
    {
      "cell_type": "code",
      "metadata": {
        "colab": {
          "base_uri": "https://localhost:8080/"
        },
        "id": "BKWK9eqXozxE",
        "outputId": "0aee28bd-2ec3-4c01-f772-4df692a29179"
      },
      "source": [
        "df['class'].value_counts()"
      ],
      "execution_count": 83,
      "outputs": [
        {
          "output_type": "execute_result",
          "data": {
            "text/plain": [
              "0    7030\n",
              "1     517\n",
              "Name: class, dtype: int64"
            ]
          },
          "metadata": {
            "tags": []
          },
          "execution_count": 83
        }
      ]
    },
    {
      "cell_type": "code",
      "metadata": {
        "id": "V5G5oCq6o6eK"
      },
      "source": [
        "X_train,X_test,y_train,y_test=train_test_split(df.drop(columns=['class']),df['class'],test_size=0.2,stratify=df['class'])"
      ],
      "execution_count": 84,
      "outputs": []
    },
    {
      "cell_type": "code",
      "metadata": {
        "colab": {
          "base_uri": "https://localhost:8080/"
        },
        "id": "r1BZSA1QqNaa",
        "outputId": "16b3f92b-56c5-4fc0-fcd3-448fcdff2a1c"
      },
      "source": [
        "y_train.value_counts()"
      ],
      "execution_count": 87,
      "outputs": [
        {
          "output_type": "execute_result",
          "data": {
            "text/plain": [
              "0    5623\n",
              "1     414\n",
              "Name: class, dtype: int64"
            ]
          },
          "metadata": {
            "tags": []
          },
          "execution_count": 87
        }
      ]
    },
    {
      "cell_type": "code",
      "metadata": {
        "id": "uaOHf14Xp-Qb"
      },
      "source": [
        "X_train,X_val,y_train,y_val=train_test_split(X_train,y_train,stratify=y_train,test_size=0.2)"
      ],
      "execution_count": 88,
      "outputs": []
    },
    {
      "cell_type": "code",
      "metadata": {
        "colab": {
          "base_uri": "https://localhost:8080/"
        },
        "id": "XdBoLCSvqx_-",
        "outputId": "b1a71319-8d46-43d2-a1b2-50cf95259990"
      },
      "source": [
        "X_train.shape"
      ],
      "execution_count": 89,
      "outputs": [
        {
          "output_type": "execute_result",
          "data": {
            "text/plain": [
              "(4829, 28)"
            ]
          },
          "metadata": {
            "tags": []
          },
          "execution_count": 89
        }
      ]
    },
    {
      "cell_type": "code",
      "metadata": {
        "id": "6ybBtEfxuqMP"
      },
      "source": [
        "train_idx = X_train.index\n",
        "val_idx = X_val.index\n",
        "test_idx = X_test.index"
      ],
      "execution_count": 98,
      "outputs": []
    },
    {
      "cell_type": "code",
      "metadata": {
        "colab": {
          "base_uri": "https://localhost:8080/"
        },
        "id": "3EMXKc0-vthh",
        "outputId": "17b7422a-91d0-4ea5-fea8-6862988250b0"
      },
      "source": [
        "len(Y_graph_2)"
      ],
      "execution_count": 101,
      "outputs": [
        {
          "output_type": "execute_result",
          "data": {
            "text/plain": [
              "7547"
            ]
          },
          "metadata": {
            "tags": []
          },
          "execution_count": 101
        }
      ]
    },
    {
      "cell_type": "code",
      "metadata": {
        "id": "u-MM8yxtuQ0m"
      },
      "source": [
        "N=len(Y_graph_2)\n",
        "#set the mask\n",
        "train_mask = np.zeros((N,),dtype=bool)\n",
        "train_mask[train_idx] = True\n",
        "\n",
        "val_mask = np.zeros((N,),dtype=bool)\n",
        "val_mask[val_idx] = True\n",
        "\n",
        "test_mask = np.zeros((N,),dtype=bool)\n",
        "test_mask[test_idx] = True"
      ],
      "execution_count": 102,
      "outputs": []
    },
    {
      "cell_type": "code",
      "metadata": {
        "colab": {
          "base_uri": "https://localhost:8080/"
        },
        "id": "vCDX8YjqvUED",
        "outputId": "a04e8164-320f-469f-f17e-7393b872f285"
      },
      "source": [
        "import tensorflow as tf\n",
        "from tensorflow.keras.callbacks import EarlyStopping\n",
        "from tensorflow.keras.layers import Input\n",
        "from tensorflow.keras.models import Model\n",
        "from tensorflow.keras.optimizers import Adam\n",
        "from tensorflow.keras.regularizers import l2\n",
        "from keras.layers import Dropout\n",
        "\n",
        "from spektral.data.loaders import SingleLoader\n",
        "from spektral.datasets.citation import Citation\n",
        "from spektral.layers import GCNConv as GraphConv\n",
        "from spektral.models.gcn import GCN\n",
        "from spektral.transforms import AdjToSpTensor, LayerPreprocess\n",
        "\n",
        "# Parameters\n",
        "channels = 16           # Number of channels in the first layer\n",
        "dropout = 0.3           # Dropout rate for the features\n",
        "l2_reg = 5e-4           # L2 regularization rate\n",
        "learning_rate = 1e-3    # Learning rate\n",
        "epochs = 400            # Number of training epochs\n",
        "es_patience = 10        # Patience for early stopping\n",
        "\n",
        "# Preprocessing operations\n",
        "A = GraphConv.preprocess(A).astype('f4')\n",
        " \n",
        "F = len(X_graph_2[0])\n",
        "num_classes = len(set(Y_graph_2))\n",
        "# Model definition\n",
        "X_in = Input(shape=(F, ))\n",
        "fltr_in = Input((None, ), sparse=True)\n",
        "\n",
        "dropout_1 = Dropout(dropout)(X_in)\n",
        "graph_conv_1 = GraphConv(channels,\n",
        "                         activation='relu',\n",
        "                         kernel_regularizer=l2(l2_reg),\n",
        "                         use_bias=False)([dropout_1, fltr_in])\n",
        "\n",
        "dropout_2 = Dropout(dropout)(graph_conv_1)\n",
        "graph_conv_2 = GraphConv(num_classes,\n",
        "                         activation='softmax',\n",
        "                         use_bias=False)([dropout_2, fltr_in])\n",
        "\n",
        "# Build model\n",
        "model = Model(inputs=[X_in, fltr_in], outputs=graph_conv_2)\n",
        "optimizer = Adam(lr=learning_rate)\n",
        "model.compile(optimizer=optimizer,\n",
        "              loss='categorical_crossentropy',\n",
        "              weighted_metrics=['acc'])\n",
        "model.summary()\n",
        "\n",
        "# tbCallBack_GCN = tf.keras.callbacks.TensorBoard(\n",
        "#     log_dir='./Tensorboard_GCN_cora',\n",
        "# )\n",
        "# callback_GCN = [tbCallBack_GCN]"
      ],
      "execution_count": 103,
      "outputs": [
        {
          "output_type": "stream",
          "text": [
            "Model: \"model_1\"\n",
            "__________________________________________________________________________________________________\n",
            "Layer (type)                    Output Shape         Param #     Connected to                     \n",
            "==================================================================================================\n",
            "input_3 (InputLayer)            [(None, 28)]         0                                            \n",
            "__________________________________________________________________________________________________\n",
            "dropout_2 (Dropout)             (None, 28)           0           input_3[0][0]                    \n",
            "__________________________________________________________________________________________________\n",
            "input_4 (InputLayer)            [(None, None)]       0                                            \n",
            "__________________________________________________________________________________________________\n",
            "gcn_conv_2 (GCNConv)            (None, 16)           448         dropout_2[0][0]                  \n",
            "                                                                 input_4[0][0]                    \n",
            "__________________________________________________________________________________________________\n",
            "dropout_3 (Dropout)             (None, 16)           0           gcn_conv_2[0][0]                 \n",
            "__________________________________________________________________________________________________\n",
            "gcn_conv_3 (GCNConv)            (None, 2)            32          dropout_3[0][0]                  \n",
            "                                                                 input_4[0][0]                    \n",
            "==================================================================================================\n",
            "Total params: 480\n",
            "Trainable params: 480\n",
            "Non-trainable params: 0\n",
            "__________________________________________________________________________________________________\n"
          ],
          "name": "stdout"
        }
      ]
    },
    {
      "cell_type": "code",
      "metadata": {
        "id": "14j3b3UUSmK1"
      },
      "source": [
        "N=len(Y_graph_2)"
      ],
      "execution_count": null,
      "outputs": []
    },
    {
      "cell_type": "code",
      "metadata": {
        "colab": {
          "base_uri": "https://localhost:8080/"
        },
        "id": "Ofe8HygZeOuX",
        "outputId": "8aef9741-322d-4ba2-fd80-609c68d75475"
      },
      "source": [
        "X_array_3 = np.array(X_graph_2,dtype=float)\n",
        "X_array_3.shape"
      ],
      "execution_count": null,
      "outputs": [
        {
          "output_type": "execute_result",
          "data": {
            "text/plain": [
              "(7547, 28)"
            ]
          },
          "metadata": {
            "tags": []
          },
          "execution_count": 201
        }
      ]
    },
    {
      "cell_type": "code",
      "metadata": {
        "colab": {
          "base_uri": "https://localhost:8080/"
        },
        "id": "XtjVvOL_epXl",
        "outputId": "4ddac203-cddb-4b02-a6ed-23c5565bd546"
      },
      "source": [
        "A.shape"
      ],
      "execution_count": null,
      "outputs": [
        {
          "output_type": "execute_result",
          "data": {
            "text/plain": [
              "(7547, 7547)"
            ]
          },
          "metadata": {
            "tags": []
          },
          "execution_count": 205
        }
      ]
    },
    {
      "cell_type": "code",
      "metadata": {
        "colab": {
          "base_uri": "https://localhost:8080/"
        },
        "id": "lATlFvYyeuRO",
        "outputId": "09726832-1fd6-47fc-84e5-486fc741a0a2"
      },
      "source": [
        "len(validation_data[1])"
      ],
      "execution_count": null,
      "outputs": [
        {
          "output_type": "execute_result",
          "data": {
            "text/plain": [
              "1974"
            ]
          },
          "metadata": {
            "tags": []
          },
          "execution_count": 212
        }
      ]
    },
    {
      "cell_type": "code",
      "metadata": {
        "colab": {
          "base_uri": "https://localhost:8080/"
        },
        "id": "bnpDhJSZgIBq",
        "outputId": "f7e42beb-5c1b-4b66-994e-04cca0a7ceec"
      },
      "source": [
        "len(test_mask)"
      ],
      "execution_count": null,
      "outputs": [
        {
          "output_type": "execute_result",
          "data": {
            "text/plain": [
              "7547"
            ]
          },
          "metadata": {
            "tags": []
          },
          "execution_count": 219
        }
      ]
    },
    {
      "cell_type": "code",
      "metadata": {
        "colab": {
          "base_uri": "https://localhost:8080/"
        },
        "id": "XZKtAQKugYRq",
        "outputId": "787fdd87-4fe8-45f3-a817-40825aa48886"
      },
      "source": [
        "cnt=0\n",
        "for x in Y_graph_2:\n",
        "  if x == 1:\n",
        "    cnt=cnt+1\n",
        "cnt"
      ],
      "execution_count": null,
      "outputs": [
        {
          "output_type": "execute_result",
          "data": {
            "text/plain": [
              "3492"
            ]
          },
          "metadata": {
            "tags": []
          },
          "execution_count": 223
        }
      ]
    },
    {
      "cell_type": "code",
      "metadata": {
        "colab": {
          "base_uri": "https://localhost:8080/"
        },
        "id": "ubxN5fzU4cmq",
        "outputId": "4341993d-6b25-4132-c993-650d9330ed38"
      },
      "source": [
        "# Train model\n",
        "X_array_2 = np.array(X_graph_2,dtype=float)\n",
        "validation_data = ([X_array_2, A], labels_encoded, val_mask)\n",
        "history = model.fit([X_array_2, A],\n",
        "          labels_encoded,\n",
        "          sample_weight=train_mask,\n",
        "          epochs=epochs,\n",
        "          batch_size=N,\n",
        "          validation_data=validation_data,\n",
        "          shuffle=False,\n",
        "          # callbacks=[\n",
        "          #     # EarlyStopping(patience=es_patience,  restore_best_weights=True),\n",
        "          #     tbCallBack_GCN\n",
        "          # ]\n",
        "          )\n",
        "\n",
        "# Evaluate model\n",
        "X_te = X_array_2[test_mask]\n",
        "A_te = A[test_mask,:][:,test_mask]\n",
        "y_te = labels_encoded[test_mask]\n",
        "\n",
        "# y_pred = model.predict([X_te, A_te], batch_size=N)\n",
        "# report = classification_report(np.argmax(y_te,axis=1), np.argmax(y_pred,axis=1), target_names=classes)\n",
        "# print('GCN Classification Report: \\n {}'.format(report))"
      ],
      "execution_count": 104,
      "outputs": [
        {
          "output_type": "stream",
          "text": [
            "Epoch 1/400\n",
            "1/1 [==============================] - 2s 2s/step - loss: 117210.7344 - acc: 0.9267 - val_loss: 24741.2168 - val_acc: 0.9313\n",
            "Epoch 2/400\n",
            "1/1 [==============================] - 0s 90ms/step - loss: 120732.3438 - acc: 0.9273 - val_loss: 24174.6055 - val_acc: 0.9313\n",
            "Epoch 3/400\n",
            "1/1 [==============================] - 0s 103ms/step - loss: 111444.7344 - acc: 0.9263 - val_loss: 23611.3516 - val_acc: 0.9313\n",
            "Epoch 4/400\n",
            "1/1 [==============================] - 0s 98ms/step - loss: 111682.8672 - acc: 0.9281 - val_loss: 23049.9492 - val_acc: 0.9313\n",
            "Epoch 5/400\n",
            "1/1 [==============================] - 0s 110ms/step - loss: 107544.0156 - acc: 0.9255 - val_loss: 22491.3477 - val_acc: 0.9313\n",
            "Epoch 6/400\n",
            "1/1 [==============================] - 0s 114ms/step - loss: 112176.3438 - acc: 0.9257 - val_loss: 21933.9844 - val_acc: 0.9313\n",
            "Epoch 7/400\n",
            "1/1 [==============================] - 0s 107ms/step - loss: 111365.8984 - acc: 0.9257 - val_loss: 21379.0918 - val_acc: 0.9313\n",
            "Epoch 8/400\n",
            "1/1 [==============================] - 0s 118ms/step - loss: 106360.6328 - acc: 0.9242 - val_loss: 20826.7441 - val_acc: 0.9313\n",
            "Epoch 9/400\n",
            "1/1 [==============================] - 0s 103ms/step - loss: 105867.3359 - acc: 0.9244 - val_loss: 20275.1152 - val_acc: 0.9313\n",
            "Epoch 10/400\n",
            "1/1 [==============================] - 0s 104ms/step - loss: 103928.8359 - acc: 0.9215 - val_loss: 19728.6309 - val_acc: 0.9313\n",
            "Epoch 11/400\n",
            "1/1 [==============================] - 0s 104ms/step - loss: 98759.3438 - acc: 0.9232 - val_loss: 19185.0430 - val_acc: 0.9313\n",
            "Epoch 12/400\n",
            "1/1 [==============================] - 0s 110ms/step - loss: 99778.8438 - acc: 0.9226 - val_loss: 18644.6152 - val_acc: 0.9313\n",
            "Epoch 13/400\n",
            "1/1 [==============================] - 0s 107ms/step - loss: 90292.2578 - acc: 0.9203 - val_loss: 18109.9766 - val_acc: 0.9313\n",
            "Epoch 14/400\n",
            "1/1 [==============================] - 0s 110ms/step - loss: 91173.9609 - acc: 0.9236 - val_loss: 17575.6719 - val_acc: 0.9313\n",
            "Epoch 15/400\n",
            "1/1 [==============================] - 0s 105ms/step - loss: 105345.6953 - acc: 0.9149 - val_loss: 17047.4883 - val_acc: 0.9313\n",
            "Epoch 16/400\n",
            "1/1 [==============================] - 0s 110ms/step - loss: 93594.3047 - acc: 0.9145 - val_loss: 16542.3301 - val_acc: 0.9313\n",
            "Epoch 17/400\n",
            "1/1 [==============================] - 0s 114ms/step - loss: 91051.6797 - acc: 0.9168 - val_loss: 16040.3926 - val_acc: 0.9313\n",
            "Epoch 18/400\n",
            "1/1 [==============================] - 0s 109ms/step - loss: 88394.8047 - acc: 0.9161 - val_loss: 15546.9346 - val_acc: 0.9313\n",
            "Epoch 19/400\n",
            "1/1 [==============================] - 0s 114ms/step - loss: 87654.6875 - acc: 0.9128 - val_loss: 15063.2773 - val_acc: 0.9313\n",
            "Epoch 20/400\n",
            "1/1 [==============================] - 0s 105ms/step - loss: 85525.3750 - acc: 0.9139 - val_loss: 14592.3447 - val_acc: 0.9313\n",
            "Epoch 21/400\n",
            "1/1 [==============================] - 0s 109ms/step - loss: 85353.9297 - acc: 0.9093 - val_loss: 14141.4053 - val_acc: 0.9313\n",
            "Epoch 22/400\n",
            "1/1 [==============================] - 0s 112ms/step - loss: 82247.2422 - acc: 0.9097 - val_loss: 13698.2188 - val_acc: 0.9313\n",
            "Epoch 23/400\n",
            "1/1 [==============================] - 0s 107ms/step - loss: 79820.9531 - acc: 0.9087 - val_loss: 13266.4482 - val_acc: 0.9313\n",
            "Epoch 24/400\n",
            "1/1 [==============================] - 0s 110ms/step - loss: 82138.1172 - acc: 0.9093 - val_loss: 12841.1670 - val_acc: 0.9313\n",
            "Epoch 25/400\n",
            "1/1 [==============================] - 0s 112ms/step - loss: 78270.4922 - acc: 0.9014 - val_loss: 12435.6611 - val_acc: 0.9313\n",
            "Epoch 26/400\n",
            "1/1 [==============================] - 0s 107ms/step - loss: 81401.6953 - acc: 0.9041 - val_loss: 12051.2812 - val_acc: 0.9313\n",
            "Epoch 27/400\n",
            "1/1 [==============================] - 0s 106ms/step - loss: 75737.1484 - acc: 0.9039 - val_loss: 11680.9443 - val_acc: 0.9313\n",
            "Epoch 28/400\n",
            "1/1 [==============================] - 0s 109ms/step - loss: 79952.2500 - acc: 0.9000 - val_loss: 11332.2158 - val_acc: 0.9313\n",
            "Epoch 29/400\n",
            "1/1 [==============================] - 0s 111ms/step - loss: 79680.0703 - acc: 0.8905 - val_loss: 11014.1406 - val_acc: 0.9313\n",
            "Epoch 30/400\n",
            "1/1 [==============================] - 0s 108ms/step - loss: 79605.8359 - acc: 0.8960 - val_loss: 10717.8428 - val_acc: 0.9313\n",
            "Epoch 31/400\n",
            "1/1 [==============================] - 0s 117ms/step - loss: 82779.9375 - acc: 0.8905 - val_loss: 10456.0957 - val_acc: 0.9313\n",
            "Epoch 32/400\n",
            "1/1 [==============================] - 0s 114ms/step - loss: 77620.3672 - acc: 0.8896 - val_loss: 10223.9033 - val_acc: 0.9313\n",
            "Epoch 33/400\n",
            "1/1 [==============================] - 0s 113ms/step - loss: 74523.4766 - acc: 0.8834 - val_loss: 10020.7217 - val_acc: 0.9313\n",
            "Epoch 34/400\n",
            "1/1 [==============================] - 0s 123ms/step - loss: 77151.0000 - acc: 0.8855 - val_loss: 9837.9893 - val_acc: 0.9313\n",
            "Epoch 35/400\n",
            "1/1 [==============================] - 0s 108ms/step - loss: 76927.3672 - acc: 0.8789 - val_loss: 9683.3936 - val_acc: 0.9313\n",
            "Epoch 36/400\n",
            "1/1 [==============================] - 0s 104ms/step - loss: 71564.8828 - acc: 0.8867 - val_loss: 9555.9160 - val_acc: 0.9313\n",
            "Epoch 37/400\n",
            "1/1 [==============================] - 0s 107ms/step - loss: 77459.4609 - acc: 0.8743 - val_loss: 9456.3174 - val_acc: 0.9313\n",
            "Epoch 38/400\n",
            "1/1 [==============================] - 0s 112ms/step - loss: 75839.4766 - acc: 0.8851 - val_loss: 9370.3887 - val_acc: 0.9313\n",
            "Epoch 39/400\n",
            "1/1 [==============================] - 0s 110ms/step - loss: 70177.9219 - acc: 0.8780 - val_loss: 9297.9922 - val_acc: 0.9313\n",
            "Epoch 40/400\n",
            "1/1 [==============================] - 0s 113ms/step - loss: 71175.2188 - acc: 0.8786 - val_loss: 9253.2314 - val_acc: 0.9313\n",
            "Epoch 41/400\n",
            "1/1 [==============================] - 0s 110ms/step - loss: 71070.6328 - acc: 0.8809 - val_loss: 9219.6855 - val_acc: 0.9313\n",
            "Epoch 42/400\n",
            "1/1 [==============================] - 0s 113ms/step - loss: 70632.2109 - acc: 0.8820 - val_loss: 9205.4346 - val_acc: 0.9313\n",
            "Epoch 43/400\n",
            "1/1 [==============================] - 0s 109ms/step - loss: 72724.4141 - acc: 0.8892 - val_loss: 9189.0605 - val_acc: 0.9313\n",
            "Epoch 44/400\n",
            "1/1 [==============================] - 0s 105ms/step - loss: 68051.6953 - acc: 0.8892 - val_loss: 9170.3984 - val_acc: 0.9313\n",
            "Epoch 45/400\n",
            "1/1 [==============================] - 0s 103ms/step - loss: 69398.3984 - acc: 0.8925 - val_loss: 9155.2021 - val_acc: 0.9313\n",
            "Epoch 46/400\n",
            "1/1 [==============================] - 0s 109ms/step - loss: 66474.1016 - acc: 0.8917 - val_loss: 9138.9443 - val_acc: 0.9313\n",
            "Epoch 47/400\n",
            "1/1 [==============================] - 0s 113ms/step - loss: 63022.2109 - acc: 0.8983 - val_loss: 9113.1152 - val_acc: 0.9313\n",
            "Epoch 48/400\n",
            "1/1 [==============================] - 0s 113ms/step - loss: 69411.3359 - acc: 0.8940 - val_loss: 9086.6533 - val_acc: 0.9313\n",
            "Epoch 49/400\n",
            "1/1 [==============================] - 0s 115ms/step - loss: 68076.9688 - acc: 0.8965 - val_loss: 9053.3154 - val_acc: 0.9313\n",
            "Epoch 50/400\n",
            "1/1 [==============================] - 0s 121ms/step - loss: 64906.2422 - acc: 0.8942 - val_loss: 9014.8135 - val_acc: 0.9313\n",
            "Epoch 51/400\n",
            "1/1 [==============================] - 0s 110ms/step - loss: 60503.1836 - acc: 0.8952 - val_loss: 8970.0215 - val_acc: 0.9313\n",
            "Epoch 52/400\n",
            "1/1 [==============================] - 0s 114ms/step - loss: 62317.0625 - acc: 0.8927 - val_loss: 8915.2852 - val_acc: 0.9313\n",
            "Epoch 53/400\n",
            "1/1 [==============================] - 0s 111ms/step - loss: 69781.4844 - acc: 0.8963 - val_loss: 8860.0615 - val_acc: 0.9313\n",
            "Epoch 54/400\n",
            "1/1 [==============================] - 0s 114ms/step - loss: 61818.3242 - acc: 0.8987 - val_loss: 8802.1318 - val_acc: 0.9313\n",
            "Epoch 55/400\n",
            "1/1 [==============================] - 0s 111ms/step - loss: 62261.3945 - acc: 0.8944 - val_loss: 8736.3076 - val_acc: 0.9313\n",
            "Epoch 56/400\n",
            "1/1 [==============================] - 0s 112ms/step - loss: 62000.1836 - acc: 0.8973 - val_loss: 8657.5605 - val_acc: 0.9313\n",
            "Epoch 57/400\n",
            "1/1 [==============================] - 0s 110ms/step - loss: 60881.1172 - acc: 0.9010 - val_loss: 8562.7559 - val_acc: 0.9313\n",
            "Epoch 58/400\n",
            "1/1 [==============================] - 0s 113ms/step - loss: 66325.2656 - acc: 0.9010 - val_loss: 8456.7773 - val_acc: 0.9313\n",
            "Epoch 59/400\n",
            "1/1 [==============================] - 0s 100ms/step - loss: 61582.1406 - acc: 0.8977 - val_loss: 8348.2012 - val_acc: 0.9313\n",
            "Epoch 60/400\n",
            "1/1 [==============================] - 0s 102ms/step - loss: 58727.3203 - acc: 0.9014 - val_loss: 8237.0977 - val_acc: 0.9313\n",
            "Epoch 61/400\n",
            "1/1 [==============================] - 0s 105ms/step - loss: 61453.0469 - acc: 0.9025 - val_loss: 8110.0747 - val_acc: 0.9313\n",
            "Epoch 62/400\n",
            "1/1 [==============================] - 0s 104ms/step - loss: 57598.0547 - acc: 0.9002 - val_loss: 7979.3252 - val_acc: 0.9313\n",
            "Epoch 63/400\n",
            "1/1 [==============================] - 0s 103ms/step - loss: 57916.6680 - acc: 0.9016 - val_loss: 7850.9595 - val_acc: 0.9313\n",
            "Epoch 64/400\n",
            "1/1 [==============================] - 0s 107ms/step - loss: 58509.5117 - acc: 0.8992 - val_loss: 7716.8647 - val_acc: 0.9313\n",
            "Epoch 65/400\n",
            "1/1 [==============================] - 0s 108ms/step - loss: 58416.2188 - acc: 0.8832 - val_loss: 7582.2607 - val_acc: 0.9313\n",
            "Epoch 66/400\n",
            "1/1 [==============================] - 0s 114ms/step - loss: 53512.9453 - acc: 0.8989 - val_loss: 7446.7817 - val_acc: 0.9313\n",
            "Epoch 67/400\n",
            "1/1 [==============================] - 0s 109ms/step - loss: 54489.2812 - acc: 0.8981 - val_loss: 7312.5625 - val_acc: 0.9313\n",
            "Epoch 68/400\n",
            "1/1 [==============================] - 0s 105ms/step - loss: 53902.6016 - acc: 0.9016 - val_loss: 7175.3857 - val_acc: 0.9313\n",
            "Epoch 69/400\n",
            "1/1 [==============================] - 0s 105ms/step - loss: 56084.8672 - acc: 0.8981 - val_loss: 7043.1284 - val_acc: 0.9313\n",
            "Epoch 70/400\n",
            "1/1 [==============================] - 0s 113ms/step - loss: 54041.8906 - acc: 0.8936 - val_loss: 6913.8037 - val_acc: 0.9313\n",
            "Epoch 71/400\n",
            "1/1 [==============================] - 0s 115ms/step - loss: 55653.8398 - acc: 0.9002 - val_loss: 6787.3726 - val_acc: 0.9313\n",
            "Epoch 72/400\n",
            "1/1 [==============================] - 0s 107ms/step - loss: 55439.8164 - acc: 0.8965 - val_loss: 6658.3594 - val_acc: 0.9313\n",
            "Epoch 73/400\n",
            "1/1 [==============================] - 0s 122ms/step - loss: 49837.8086 - acc: 0.8950 - val_loss: 6536.0786 - val_acc: 0.9313\n",
            "Epoch 74/400\n",
            "1/1 [==============================] - 0s 110ms/step - loss: 55081.2773 - acc: 0.8890 - val_loss: 6420.3555 - val_acc: 0.9313\n",
            "Epoch 75/400\n",
            "1/1 [==============================] - 0s 122ms/step - loss: 49829.1758 - acc: 0.8967 - val_loss: 6307.6704 - val_acc: 0.9313\n",
            "Epoch 76/400\n",
            "1/1 [==============================] - 0s 110ms/step - loss: 51966.4141 - acc: 0.8855 - val_loss: 6205.2812 - val_acc: 0.9313\n",
            "Epoch 77/400\n",
            "1/1 [==============================] - 0s 114ms/step - loss: 50303.2617 - acc: 0.8969 - val_loss: 6100.4907 - val_acc: 0.9313\n",
            "Epoch 78/400\n",
            "1/1 [==============================] - 0s 113ms/step - loss: 48913.6797 - acc: 0.9000 - val_loss: 5994.9839 - val_acc: 0.9313\n",
            "Epoch 79/400\n",
            "1/1 [==============================] - 0s 110ms/step - loss: 52584.2969 - acc: 0.8888 - val_loss: 5898.4663 - val_acc: 0.9313\n",
            "Epoch 80/400\n",
            "1/1 [==============================] - 0s 106ms/step - loss: 51082.0312 - acc: 0.8952 - val_loss: 5807.4341 - val_acc: 0.9313\n",
            "Epoch 81/400\n",
            "1/1 [==============================] - 0s 107ms/step - loss: 48964.2109 - acc: 0.8923 - val_loss: 5725.7036 - val_acc: 0.9313\n",
            "Epoch 82/400\n",
            "1/1 [==============================] - 0s 107ms/step - loss: 45040.3320 - acc: 0.8989 - val_loss: 5640.7222 - val_acc: 0.9313\n",
            "Epoch 83/400\n",
            "1/1 [==============================] - 0s 108ms/step - loss: 46854.8555 - acc: 0.9014 - val_loss: 5546.9360 - val_acc: 0.9313\n",
            "Epoch 84/400\n",
            "1/1 [==============================] - 0s 106ms/step - loss: 50136.5742 - acc: 0.8902 - val_loss: 5459.4746 - val_acc: 0.9313\n",
            "Epoch 85/400\n",
            "1/1 [==============================] - 0s 114ms/step - loss: 44921.1172 - acc: 0.8892 - val_loss: 5379.7832 - val_acc: 0.9313\n",
            "Epoch 86/400\n",
            "1/1 [==============================] - 0s 114ms/step - loss: 47211.7656 - acc: 0.8958 - val_loss: 5301.5166 - val_acc: 0.9313\n",
            "Epoch 87/400\n",
            "1/1 [==============================] - 0s 117ms/step - loss: 44604.7930 - acc: 0.8944 - val_loss: 5225.5327 - val_acc: 0.9313\n",
            "Epoch 88/400\n",
            "1/1 [==============================] - 0s 113ms/step - loss: 43327.3125 - acc: 0.8994 - val_loss: 5147.2271 - val_acc: 0.9313\n",
            "Epoch 89/400\n",
            "1/1 [==============================] - 0s 104ms/step - loss: 44223.7969 - acc: 0.8983 - val_loss: 5067.1724 - val_acc: 0.9313\n",
            "Epoch 90/400\n",
            "1/1 [==============================] - 0s 129ms/step - loss: 48192.9297 - acc: 0.8948 - val_loss: 4988.2578 - val_acc: 0.9313\n",
            "Epoch 91/400\n",
            "1/1 [==============================] - 0s 120ms/step - loss: 42965.9219 - acc: 0.8934 - val_loss: 4923.0801 - val_acc: 0.9313\n",
            "Epoch 92/400\n",
            "1/1 [==============================] - 0s 107ms/step - loss: 46514.5664 - acc: 0.8950 - val_loss: 4855.8794 - val_acc: 0.9313\n",
            "Epoch 93/400\n",
            "1/1 [==============================] - 0s 105ms/step - loss: 43976.6836 - acc: 0.8923 - val_loss: 4796.6646 - val_acc: 0.9313\n",
            "Epoch 94/400\n",
            "1/1 [==============================] - 0s 106ms/step - loss: 40480.0195 - acc: 0.9004 - val_loss: 4729.2520 - val_acc: 0.9313\n",
            "Epoch 95/400\n",
            "1/1 [==============================] - 0s 107ms/step - loss: 45262.1250 - acc: 0.8994 - val_loss: 4656.1289 - val_acc: 0.9313\n",
            "Epoch 96/400\n",
            "1/1 [==============================] - 0s 113ms/step - loss: 43761.2383 - acc: 0.8944 - val_loss: 4589.5024 - val_acc: 0.9313\n",
            "Epoch 97/400\n",
            "1/1 [==============================] - 0s 116ms/step - loss: 38871.2148 - acc: 0.8969 - val_loss: 4528.7261 - val_acc: 0.9313\n",
            "Epoch 98/400\n",
            "1/1 [==============================] - 0s 112ms/step - loss: 42793.9453 - acc: 0.8992 - val_loss: 4463.6445 - val_acc: 0.9313\n",
            "Epoch 99/400\n",
            "1/1 [==============================] - 0s 114ms/step - loss: 39263.0352 - acc: 0.8956 - val_loss: 4402.0996 - val_acc: 0.9313\n",
            "Epoch 100/400\n",
            "1/1 [==============================] - 0s 108ms/step - loss: 38951.7266 - acc: 0.8909 - val_loss: 4340.3364 - val_acc: 0.9313\n",
            "Epoch 101/400\n",
            "1/1 [==============================] - 0s 107ms/step - loss: 39275.1172 - acc: 0.9002 - val_loss: 4272.8179 - val_acc: 0.9313\n",
            "Epoch 102/400\n",
            "1/1 [==============================] - 0s 111ms/step - loss: 39655.9922 - acc: 0.8919 - val_loss: 4218.8447 - val_acc: 0.9313\n",
            "Epoch 103/400\n",
            "1/1 [==============================] - 0s 105ms/step - loss: 41168.2383 - acc: 0.9016 - val_loss: 4155.5840 - val_acc: 0.9313\n",
            "Epoch 104/400\n",
            "1/1 [==============================] - 0s 109ms/step - loss: 38516.1641 - acc: 0.8985 - val_loss: 4083.9653 - val_acc: 0.9313\n",
            "Epoch 105/400\n",
            "1/1 [==============================] - 0s 119ms/step - loss: 38640.5234 - acc: 0.8969 - val_loss: 4001.7205 - val_acc: 0.9313\n",
            "Epoch 106/400\n",
            "1/1 [==============================] - 0s 115ms/step - loss: 40038.9141 - acc: 0.8981 - val_loss: 3922.0920 - val_acc: 0.9313\n",
            "Epoch 107/400\n",
            "1/1 [==============================] - 0s 111ms/step - loss: 37143.5352 - acc: 0.8934 - val_loss: 3855.7261 - val_acc: 0.9313\n",
            "Epoch 108/400\n",
            "1/1 [==============================] - 0s 122ms/step - loss: 38535.0625 - acc: 0.8965 - val_loss: 3779.0498 - val_acc: 0.9313\n",
            "Epoch 109/400\n",
            "1/1 [==============================] - 0s 111ms/step - loss: 38137.3242 - acc: 0.8979 - val_loss: 3700.4023 - val_acc: 0.9313\n",
            "Epoch 110/400\n",
            "1/1 [==============================] - 0s 108ms/step - loss: 36549.5742 - acc: 0.8985 - val_loss: 3625.1250 - val_acc: 0.9313\n",
            "Epoch 111/400\n",
            "1/1 [==============================] - 0s 125ms/step - loss: 38164.2930 - acc: 0.8973 - val_loss: 3548.0593 - val_acc: 0.9313\n",
            "Epoch 112/400\n",
            "1/1 [==============================] - 0s 105ms/step - loss: 35027.4688 - acc: 0.9014 - val_loss: 3461.3235 - val_acc: 0.9313\n",
            "Epoch 113/400\n",
            "1/1 [==============================] - 0s 108ms/step - loss: 34449.0312 - acc: 0.8998 - val_loss: 3379.4712 - val_acc: 0.9313\n",
            "Epoch 114/400\n",
            "1/1 [==============================] - 0s 118ms/step - loss: 34734.4727 - acc: 0.8905 - val_loss: 3299.2332 - val_acc: 0.9313\n",
            "Epoch 115/400\n",
            "1/1 [==============================] - 0s 113ms/step - loss: 34530.1172 - acc: 0.8894 - val_loss: 3237.2209 - val_acc: 0.9313\n",
            "Epoch 116/400\n",
            "1/1 [==============================] - 0s 110ms/step - loss: 35874.2031 - acc: 0.8942 - val_loss: 3183.1172 - val_acc: 0.9313\n",
            "Epoch 117/400\n",
            "1/1 [==============================] - 0s 111ms/step - loss: 32248.6016 - acc: 0.8973 - val_loss: 3129.9849 - val_acc: 0.9313\n",
            "Epoch 118/400\n",
            "1/1 [==============================] - 0s 108ms/step - loss: 34705.6641 - acc: 0.8965 - val_loss: 3086.0383 - val_acc: 0.9313\n",
            "Epoch 119/400\n",
            "1/1 [==============================] - 0s 105ms/step - loss: 35659.7070 - acc: 0.8948 - val_loss: 3049.3240 - val_acc: 0.9313\n",
            "Epoch 120/400\n",
            "1/1 [==============================] - 0s 114ms/step - loss: 30612.5039 - acc: 0.8975 - val_loss: 3014.2087 - val_acc: 0.9313\n",
            "Epoch 121/400\n",
            "1/1 [==============================] - 0s 111ms/step - loss: 31857.6523 - acc: 0.8907 - val_loss: 2988.8052 - val_acc: 0.9313\n",
            "Epoch 122/400\n",
            "1/1 [==============================] - 0s 104ms/step - loss: 33642.6094 - acc: 0.8983 - val_loss: 2955.9639 - val_acc: 0.9313\n",
            "Epoch 123/400\n",
            "1/1 [==============================] - 0s 107ms/step - loss: 34390.8828 - acc: 0.8981 - val_loss: 2923.1487 - val_acc: 0.9313\n",
            "Epoch 124/400\n",
            "1/1 [==============================] - 0s 110ms/step - loss: 30386.3574 - acc: 0.9031 - val_loss: 2875.0530 - val_acc: 0.9313\n",
            "Epoch 125/400\n",
            "1/1 [==============================] - 0s 107ms/step - loss: 30547.3281 - acc: 0.8971 - val_loss: 2824.3594 - val_acc: 0.9313\n",
            "Epoch 126/400\n",
            "1/1 [==============================] - 0s 105ms/step - loss: 33020.8906 - acc: 0.9006 - val_loss: 2763.4192 - val_acc: 0.9313\n",
            "Epoch 127/400\n",
            "1/1 [==============================] - 0s 116ms/step - loss: 28848.7109 - acc: 0.8979 - val_loss: 2703.4421 - val_acc: 0.9313\n",
            "Epoch 128/400\n",
            "1/1 [==============================] - 0s 109ms/step - loss: 33002.2695 - acc: 0.9004 - val_loss: 2640.3386 - val_acc: 0.9313\n",
            "Epoch 129/400\n",
            "1/1 [==============================] - 0s 111ms/step - loss: 31907.6699 - acc: 0.8979 - val_loss: 2573.0833 - val_acc: 0.9313\n",
            "Epoch 130/400\n",
            "1/1 [==============================] - 0s 120ms/step - loss: 32302.0020 - acc: 0.8969 - val_loss: 2503.2390 - val_acc: 0.9313\n",
            "Epoch 131/400\n",
            "1/1 [==============================] - 0s 114ms/step - loss: 27957.2402 - acc: 0.9029 - val_loss: 2433.6951 - val_acc: 0.9313\n",
            "Epoch 132/400\n",
            "1/1 [==============================] - 0s 107ms/step - loss: 31202.3672 - acc: 0.8977 - val_loss: 2365.6973 - val_acc: 0.9313\n",
            "Epoch 133/400\n",
            "1/1 [==============================] - 0s 114ms/step - loss: 30130.3516 - acc: 0.8994 - val_loss: 2300.1567 - val_acc: 0.9313\n",
            "Epoch 134/400\n",
            "1/1 [==============================] - 0s 106ms/step - loss: 29256.2949 - acc: 0.8913 - val_loss: 2248.7039 - val_acc: 0.9313\n",
            "Epoch 135/400\n",
            "1/1 [==============================] - 0s 119ms/step - loss: 26169.3906 - acc: 0.9029 - val_loss: 2193.7173 - val_acc: 0.9313\n",
            "Epoch 136/400\n",
            "1/1 [==============================] - 0s 111ms/step - loss: 27871.0156 - acc: 0.8929 - val_loss: 2145.6199 - val_acc: 0.9313\n",
            "Epoch 137/400\n",
            "1/1 [==============================] - 0s 109ms/step - loss: 27834.5410 - acc: 0.8859 - val_loss: 2116.0127 - val_acc: 0.9313\n",
            "Epoch 138/400\n",
            "1/1 [==============================] - 0s 110ms/step - loss: 29050.5508 - acc: 0.9016 - val_loss: 2082.0715 - val_acc: 0.9313\n",
            "Epoch 139/400\n",
            "1/1 [==============================] - 0s 106ms/step - loss: 26818.1484 - acc: 0.8963 - val_loss: 2041.1852 - val_acc: 0.9313\n",
            "Epoch 140/400\n",
            "1/1 [==============================] - 0s 99ms/step - loss: 32755.3047 - acc: 0.8992 - val_loss: 2005.3422 - val_acc: 0.9313\n",
            "Epoch 141/400\n",
            "1/1 [==============================] - 0s 114ms/step - loss: 28747.7930 - acc: 0.8998 - val_loss: 1973.5836 - val_acc: 0.9313\n",
            "Epoch 142/400\n",
            "1/1 [==============================] - 0s 111ms/step - loss: 27093.4062 - acc: 0.8989 - val_loss: 1943.4221 - val_acc: 0.9313\n",
            "Epoch 143/400\n",
            "1/1 [==============================] - 0s 106ms/step - loss: 25250.9551 - acc: 0.8979 - val_loss: 1913.4991 - val_acc: 0.9313\n",
            "Epoch 144/400\n",
            "1/1 [==============================] - 0s 106ms/step - loss: 24407.8496 - acc: 0.9006 - val_loss: 1882.3286 - val_acc: 0.9313\n",
            "Epoch 145/400\n",
            "1/1 [==============================] - 0s 114ms/step - loss: 25489.1602 - acc: 0.8996 - val_loss: 1849.7582 - val_acc: 0.9313\n",
            "Epoch 146/400\n",
            "1/1 [==============================] - 0s 108ms/step - loss: 26501.2676 - acc: 0.9004 - val_loss: 1814.5902 - val_acc: 0.9313\n",
            "Epoch 147/400\n",
            "1/1 [==============================] - 0s 109ms/step - loss: 24201.0371 - acc: 0.8985 - val_loss: 1780.9347 - val_acc: 0.9313\n",
            "Epoch 148/400\n",
            "1/1 [==============================] - 0s 111ms/step - loss: 23392.8320 - acc: 0.8983 - val_loss: 1751.1898 - val_acc: 0.9313\n",
            "Epoch 149/400\n",
            "1/1 [==============================] - 0s 115ms/step - loss: 23121.7656 - acc: 0.9066 - val_loss: 1723.2180 - val_acc: 0.9313\n",
            "Epoch 150/400\n",
            "1/1 [==============================] - 0s 105ms/step - loss: 26023.4805 - acc: 0.9018 - val_loss: 1692.9130 - val_acc: 0.9313\n",
            "Epoch 151/400\n",
            "1/1 [==============================] - 0s 112ms/step - loss: 24675.2676 - acc: 0.9012 - val_loss: 1660.7437 - val_acc: 0.9313\n",
            "Epoch 152/400\n",
            "1/1 [==============================] - 0s 118ms/step - loss: 23385.0684 - acc: 0.9027 - val_loss: 1628.3845 - val_acc: 0.9313\n",
            "Epoch 153/400\n",
            "1/1 [==============================] - 0s 111ms/step - loss: 21853.7344 - acc: 0.9033 - val_loss: 1592.3489 - val_acc: 0.9313\n",
            "Epoch 154/400\n",
            "1/1 [==============================] - 0s 110ms/step - loss: 22310.1113 - acc: 0.9091 - val_loss: 1553.2026 - val_acc: 0.9313\n",
            "Epoch 155/400\n",
            "1/1 [==============================] - 0s 110ms/step - loss: 22387.3184 - acc: 0.9016 - val_loss: 1511.5211 - val_acc: 0.9313\n",
            "Epoch 156/400\n",
            "1/1 [==============================] - 0s 114ms/step - loss: 26336.9453 - acc: 0.8989 - val_loss: 1472.6368 - val_acc: 0.9313\n",
            "Epoch 157/400\n",
            "1/1 [==============================] - 0s 112ms/step - loss: 24767.0430 - acc: 0.9041 - val_loss: 1432.4626 - val_acc: 0.9313\n",
            "Epoch 158/400\n",
            "1/1 [==============================] - 0s 111ms/step - loss: 22402.9824 - acc: 0.9060 - val_loss: 1388.8198 - val_acc: 0.9313\n",
            "Epoch 159/400\n",
            "1/1 [==============================] - 0s 115ms/step - loss: 22245.2266 - acc: 0.9004 - val_loss: 1344.8483 - val_acc: 0.9313\n",
            "Epoch 160/400\n",
            "1/1 [==============================] - 0s 113ms/step - loss: 24278.3555 - acc: 0.8992 - val_loss: 1303.4480 - val_acc: 0.9313\n",
            "Epoch 161/400\n",
            "1/1 [==============================] - 0s 116ms/step - loss: 23485.7812 - acc: 0.9000 - val_loss: 1265.9327 - val_acc: 0.9313\n",
            "Epoch 162/400\n",
            "1/1 [==============================] - 0s 109ms/step - loss: 22215.6074 - acc: 0.8911 - val_loss: 1236.2367 - val_acc: 0.9313\n",
            "Epoch 163/400\n",
            "1/1 [==============================] - 0s 110ms/step - loss: 20766.9785 - acc: 0.8996 - val_loss: 1210.2139 - val_acc: 0.9313\n",
            "Epoch 164/400\n",
            "1/1 [==============================] - 0s 114ms/step - loss: 22531.2402 - acc: 0.8975 - val_loss: 1186.6910 - val_acc: 0.9313\n",
            "Epoch 165/400\n",
            "1/1 [==============================] - 0s 112ms/step - loss: 21017.7812 - acc: 0.8971 - val_loss: 1163.7161 - val_acc: 0.9313\n",
            "Epoch 166/400\n",
            "1/1 [==============================] - 0s 123ms/step - loss: 21715.5293 - acc: 0.8965 - val_loss: 1143.9801 - val_acc: 0.9313\n",
            "Epoch 167/400\n",
            "1/1 [==============================] - 0s 117ms/step - loss: 22368.4707 - acc: 0.9049 - val_loss: 1120.6090 - val_acc: 0.9313\n",
            "Epoch 168/400\n",
            "1/1 [==============================] - 0s 106ms/step - loss: 20973.5996 - acc: 0.8967 - val_loss: 1097.6927 - val_acc: 0.9313\n",
            "Epoch 169/400\n",
            "1/1 [==============================] - 0s 119ms/step - loss: 19695.6680 - acc: 0.9047 - val_loss: 1073.3259 - val_acc: 0.9313\n",
            "Epoch 170/400\n",
            "1/1 [==============================] - 0s 118ms/step - loss: 20213.0117 - acc: 0.9039 - val_loss: 1045.7571 - val_acc: 0.9313\n",
            "Epoch 171/400\n",
            "1/1 [==============================] - 0s 115ms/step - loss: 20071.0645 - acc: 0.9093 - val_loss: 1014.8261 - val_acc: 0.9313\n",
            "Epoch 172/400\n",
            "1/1 [==============================] - 0s 110ms/step - loss: 20370.5039 - acc: 0.9014 - val_loss: 982.6609 - val_acc: 0.9313\n",
            "Epoch 173/400\n",
            "1/1 [==============================] - 0s 118ms/step - loss: 19868.3301 - acc: 0.8992 - val_loss: 950.6304 - val_acc: 0.9313\n",
            "Epoch 174/400\n",
            "1/1 [==============================] - 0s 114ms/step - loss: 17645.9941 - acc: 0.9000 - val_loss: 920.0386 - val_acc: 0.9313\n",
            "Epoch 175/400\n",
            "1/1 [==============================] - 0s 124ms/step - loss: 19921.9434 - acc: 0.8950 - val_loss: 890.8626 - val_acc: 0.9313\n",
            "Epoch 176/400\n",
            "1/1 [==============================] - 0s 117ms/step - loss: 17626.8008 - acc: 0.8896 - val_loss: 861.7659 - val_acc: 0.9305\n",
            "Epoch 177/400\n",
            "1/1 [==============================] - 0s 107ms/step - loss: 20263.6934 - acc: 0.8902 - val_loss: 834.7356 - val_acc: 0.9305\n",
            "Epoch 178/400\n",
            "1/1 [==============================] - 0s 111ms/step - loss: 20531.1699 - acc: 0.8965 - val_loss: 809.0125 - val_acc: 0.9305\n",
            "Epoch 179/400\n",
            "1/1 [==============================] - 0s 116ms/step - loss: 20563.5371 - acc: 0.8931 - val_loss: 785.1714 - val_acc: 0.9296\n",
            "Epoch 180/400\n",
            "1/1 [==============================] - 0s 111ms/step - loss: 18587.5117 - acc: 0.8983 - val_loss: 759.9753 - val_acc: 0.9296\n",
            "Epoch 181/400\n",
            "1/1 [==============================] - 0s 113ms/step - loss: 17583.6445 - acc: 0.8979 - val_loss: 728.8809 - val_acc: 0.9296\n",
            "Epoch 182/400\n",
            "1/1 [==============================] - 0s 117ms/step - loss: 19718.4570 - acc: 0.8884 - val_loss: 698.4115 - val_acc: 0.9296\n",
            "Epoch 183/400\n",
            "1/1 [==============================] - 0s 118ms/step - loss: 19684.4258 - acc: 0.8842 - val_loss: 670.2939 - val_acc: 0.9296\n",
            "Epoch 184/400\n",
            "1/1 [==============================] - 0s 113ms/step - loss: 17706.9219 - acc: 0.8844 - val_loss: 646.2524 - val_acc: 0.9288\n",
            "Epoch 185/400\n",
            "1/1 [==============================] - 0s 121ms/step - loss: 17727.5078 - acc: 0.8836 - val_loss: 626.1108 - val_acc: 0.9288\n",
            "Epoch 186/400\n",
            "1/1 [==============================] - 0s 107ms/step - loss: 18524.4434 - acc: 0.8842 - val_loss: 606.7548 - val_acc: 0.9288\n",
            "Epoch 187/400\n",
            "1/1 [==============================] - 0s 114ms/step - loss: 17554.3594 - acc: 0.8832 - val_loss: 590.4553 - val_acc: 0.9288\n",
            "Epoch 188/400\n",
            "1/1 [==============================] - 0s 121ms/step - loss: 19697.6133 - acc: 0.8784 - val_loss: 576.4562 - val_acc: 0.9288\n",
            "Epoch 189/400\n",
            "1/1 [==============================] - 0s 117ms/step - loss: 16824.7227 - acc: 0.8859 - val_loss: 564.0010 - val_acc: 0.9288\n",
            "Epoch 190/400\n",
            "1/1 [==============================] - 0s 116ms/step - loss: 17683.8281 - acc: 0.9027 - val_loss: 548.9833 - val_acc: 0.9288\n",
            "Epoch 191/400\n",
            "1/1 [==============================] - 0s 120ms/step - loss: 17529.8555 - acc: 0.9070 - val_loss: 531.0280 - val_acc: 0.9288\n",
            "Epoch 192/400\n",
            "1/1 [==============================] - 0s 117ms/step - loss: 17726.3809 - acc: 0.9027 - val_loss: 510.7159 - val_acc: 0.9288\n",
            "Epoch 193/400\n",
            "1/1 [==============================] - 0s 115ms/step - loss: 15349.7900 - acc: 0.9081 - val_loss: 488.0911 - val_acc: 0.9288\n",
            "Epoch 194/400\n",
            "1/1 [==============================] - 0s 115ms/step - loss: 14361.6045 - acc: 0.9029 - val_loss: 464.8077 - val_acc: 0.9288\n",
            "Epoch 195/400\n",
            "1/1 [==============================] - 0s 108ms/step - loss: 17420.4688 - acc: 0.9076 - val_loss: 444.5210 - val_acc: 0.9288\n",
            "Epoch 196/400\n",
            "1/1 [==============================] - 0s 108ms/step - loss: 15959.1572 - acc: 0.9049 - val_loss: 425.1188 - val_acc: 0.9288\n",
            "Epoch 197/400\n",
            "1/1 [==============================] - 0s 122ms/step - loss: 18920.4395 - acc: 0.8704 - val_loss: 407.6456 - val_acc: 0.9288\n",
            "Epoch 198/400\n",
            "1/1 [==============================] - 0s 107ms/step - loss: 18581.9473 - acc: 0.8542 - val_loss: 396.3235 - val_acc: 0.9288\n",
            "Epoch 199/400\n",
            "1/1 [==============================] - 0s 107ms/step - loss: 17521.6816 - acc: 0.8979 - val_loss: 386.0958 - val_acc: 0.9288\n",
            "Epoch 200/400\n",
            "1/1 [==============================] - 0s 103ms/step - loss: 16785.3398 - acc: 0.8900 - val_loss: 374.7959 - val_acc: 0.9288\n",
            "Epoch 201/400\n",
            "1/1 [==============================] - 0s 111ms/step - loss: 15166.9512 - acc: 0.9058 - val_loss: 360.8956 - val_acc: 0.9288\n",
            "Epoch 202/400\n",
            "1/1 [==============================] - 0s 113ms/step - loss: 15922.4287 - acc: 0.8844 - val_loss: 345.9008 - val_acc: 0.9288\n",
            "Epoch 203/400\n",
            "1/1 [==============================] - 0s 110ms/step - loss: 15898.6895 - acc: 0.8859 - val_loss: 331.4487 - val_acc: 0.9288\n",
            "Epoch 204/400\n",
            "1/1 [==============================] - 0s 105ms/step - loss: 17475.3379 - acc: 0.8567 - val_loss: 320.1143 - val_acc: 0.9280\n",
            "Epoch 205/400\n",
            "1/1 [==============================] - 0s 110ms/step - loss: 16479.9590 - acc: 0.8606 - val_loss: 310.7344 - val_acc: 0.9280\n",
            "Epoch 206/400\n",
            "1/1 [==============================] - 0s 110ms/step - loss: 16326.0498 - acc: 0.8983 - val_loss: 300.0188 - val_acc: 0.9280\n",
            "Epoch 207/400\n",
            "1/1 [==============================] - 0s 116ms/step - loss: 15546.8584 - acc: 0.8983 - val_loss: 287.2960 - val_acc: 0.9280\n",
            "Epoch 208/400\n",
            "1/1 [==============================] - 0s 110ms/step - loss: 15389.4814 - acc: 0.9018 - val_loss: 272.4682 - val_acc: 0.9280\n",
            "Epoch 209/400\n",
            "1/1 [==============================] - 0s 108ms/step - loss: 16653.6836 - acc: 0.8900 - val_loss: 256.6680 - val_acc: 0.9280\n",
            "Epoch 210/400\n",
            "1/1 [==============================] - 0s 112ms/step - loss: 15268.3760 - acc: 0.8550 - val_loss: 242.5735 - val_acc: 0.9280\n",
            "Epoch 211/400\n",
            "1/1 [==============================] - 0s 107ms/step - loss: 14511.7305 - acc: 0.8664 - val_loss: 231.8280 - val_acc: 0.9280\n",
            "Epoch 212/400\n",
            "1/1 [==============================] - 0s 109ms/step - loss: 17165.9531 - acc: 0.8534 - val_loss: 223.3129 - val_acc: 0.9280\n",
            "Epoch 213/400\n",
            "1/1 [==============================] - 0s 105ms/step - loss: 15199.4082 - acc: 0.8965 - val_loss: 212.9830 - val_acc: 0.9272\n",
            "Epoch 214/400\n",
            "1/1 [==============================] - 0s 130ms/step - loss: 13040.3506 - acc: 0.8919 - val_loss: 201.3651 - val_acc: 0.9272\n",
            "Epoch 215/400\n",
            "1/1 [==============================] - 0s 112ms/step - loss: 15167.6396 - acc: 0.8869 - val_loss: 188.4320 - val_acc: 0.9272\n",
            "Epoch 216/400\n",
            "1/1 [==============================] - 0s 106ms/step - loss: 13993.7314 - acc: 0.8985 - val_loss: 173.6025 - val_acc: 0.9280\n",
            "Epoch 217/400\n",
            "1/1 [==============================] - 0s 123ms/step - loss: 15282.5166 - acc: 0.8801 - val_loss: 157.8672 - val_acc: 0.9280\n",
            "Epoch 218/400\n",
            "1/1 [==============================] - 0s 124ms/step - loss: 13289.0898 - acc: 0.8457 - val_loss: 149.5331 - val_acc: 0.9263\n",
            "Epoch 219/400\n",
            "1/1 [==============================] - 0s 114ms/step - loss: 15242.7803 - acc: 0.8952 - val_loss: 139.6289 - val_acc: 0.9263\n",
            "Epoch 220/400\n",
            "1/1 [==============================] - 0s 106ms/step - loss: 15935.7764 - acc: 0.8849 - val_loss: 128.5157 - val_acc: 0.9263\n",
            "Epoch 221/400\n",
            "1/1 [==============================] - 0s 106ms/step - loss: 13584.2119 - acc: 0.8946 - val_loss: 115.8705 - val_acc: 0.9263\n",
            "Epoch 222/400\n",
            "1/1 [==============================] - 0s 114ms/step - loss: 13680.1377 - acc: 0.8782 - val_loss: 102.4231 - val_acc: 0.9255\n",
            "Epoch 223/400\n",
            "1/1 [==============================] - 0s 111ms/step - loss: 14344.1045 - acc: 0.8633 - val_loss: 90.9233 - val_acc: 0.9255\n",
            "Epoch 224/400\n",
            "1/1 [==============================] - 0s 112ms/step - loss: 16333.1094 - acc: 0.8472 - val_loss: 82.5358 - val_acc: 0.9247\n",
            "Epoch 225/400\n",
            "1/1 [==============================] - 0s 113ms/step - loss: 13994.8242 - acc: 0.8706 - val_loss: 73.3947 - val_acc: 0.9255\n",
            "Epoch 226/400\n",
            "1/1 [==============================] - 0s 113ms/step - loss: 12403.7559 - acc: 0.8778 - val_loss: 62.8544 - val_acc: 0.9255\n",
            "Epoch 227/400\n",
            "1/1 [==============================] - 0s 109ms/step - loss: 14691.7334 - acc: 0.8900 - val_loss: 50.5798 - val_acc: 0.9255\n",
            "Epoch 228/400\n",
            "1/1 [==============================] - 0s 116ms/step - loss: 14147.6426 - acc: 0.8764 - val_loss: 37.8649 - val_acc: 0.9255\n",
            "Epoch 229/400\n",
            "1/1 [==============================] - 0s 107ms/step - loss: 14218.5635 - acc: 0.8619 - val_loss: 25.0393 - val_acc: 0.9205\n",
            "Epoch 230/400\n",
            "1/1 [==============================] - 0s 121ms/step - loss: 13378.2402 - acc: 0.7608 - val_loss: 21.2795 - val_acc: 0.9247\n",
            "Epoch 231/400\n",
            "1/1 [==============================] - 0s 106ms/step - loss: 13705.3486 - acc: 0.8648 - val_loss: 16.9251 - val_acc: 0.9247\n",
            "Epoch 232/400\n",
            "1/1 [==============================] - 0s 101ms/step - loss: 12894.7920 - acc: 0.8859 - val_loss: 18.0171 - val_acc: 0.9255\n",
            "Epoch 233/400\n",
            "1/1 [==============================] - 0s 115ms/step - loss: 13816.6650 - acc: 0.8610 - val_loss: 18.9799 - val_acc: 0.9255\n",
            "Epoch 234/400\n",
            "1/1 [==============================] - 0s 108ms/step - loss: 11970.3242 - acc: 0.8633 - val_loss: 18.7400 - val_acc: 0.9255\n",
            "Epoch 235/400\n",
            "1/1 [==============================] - 0s 115ms/step - loss: 12395.7441 - acc: 0.8867 - val_loss: 17.1549 - val_acc: 0.9255\n",
            "Epoch 236/400\n",
            "1/1 [==============================] - 0s 108ms/step - loss: 12385.9170 - acc: 0.8581 - val_loss: 15.0113 - val_acc: 0.9255\n",
            "Epoch 237/400\n",
            "1/1 [==============================] - 0s 112ms/step - loss: 12220.9111 - acc: 0.8424 - val_loss: 12.1797 - val_acc: 0.9255\n",
            "Epoch 238/400\n",
            "1/1 [==============================] - 0s 117ms/step - loss: 12020.3340 - acc: 0.8573 - val_loss: 8.3743 - val_acc: 0.9263\n",
            "Epoch 239/400\n",
            "1/1 [==============================] - 0s 106ms/step - loss: 13917.5225 - acc: 0.8677 - val_loss: 20.8853 - val_acc: 0.0679\n",
            "Epoch 240/400\n",
            "1/1 [==============================] - 0s 116ms/step - loss: 13353.9092 - acc: 0.5376 - val_loss: 20.6140 - val_acc: 0.9288\n",
            "Epoch 241/400\n",
            "1/1 [==============================] - 0s 112ms/step - loss: 11437.8438 - acc: 0.8739 - val_loss: 34.6551 - val_acc: 0.9280\n",
            "Epoch 242/400\n",
            "1/1 [==============================] - 0s 108ms/step - loss: 14345.4648 - acc: 0.8869 - val_loss: 46.3986 - val_acc: 0.9280\n",
            "Epoch 243/400\n",
            "1/1 [==============================] - 0s 127ms/step - loss: 12463.8369 - acc: 0.8898 - val_loss: 55.9471 - val_acc: 0.9280\n",
            "Epoch 244/400\n",
            "1/1 [==============================] - 0s 106ms/step - loss: 12187.3584 - acc: 0.8983 - val_loss: 63.6656 - val_acc: 0.9280\n",
            "Epoch 245/400\n",
            "1/1 [==============================] - 0s 109ms/step - loss: 13578.2236 - acc: 0.9056 - val_loss: 69.5839 - val_acc: 0.9288\n",
            "Epoch 246/400\n",
            "1/1 [==============================] - 0s 119ms/step - loss: 13254.7090 - acc: 0.8985 - val_loss: 73.9333 - val_acc: 0.9288\n",
            "Epoch 247/400\n",
            "1/1 [==============================] - 0s 111ms/step - loss: 12508.9385 - acc: 0.8989 - val_loss: 77.1975 - val_acc: 0.9288\n",
            "Epoch 248/400\n",
            "1/1 [==============================] - 0s 105ms/step - loss: 14199.0215 - acc: 0.9037 - val_loss: 79.0742 - val_acc: 0.9288\n",
            "Epoch 249/400\n",
            "1/1 [==============================] - 0s 116ms/step - loss: 9894.5791 - acc: 0.8981 - val_loss: 79.6185 - val_acc: 0.9288\n",
            "Epoch 250/400\n",
            "1/1 [==============================] - 0s 112ms/step - loss: 14389.4209 - acc: 0.9031 - val_loss: 79.2896 - val_acc: 0.9288\n",
            "Epoch 251/400\n",
            "1/1 [==============================] - 0s 107ms/step - loss: 13242.6045 - acc: 0.9014 - val_loss: 77.9611 - val_acc: 0.9288\n",
            "Epoch 252/400\n",
            "1/1 [==============================] - 0s 103ms/step - loss: 13396.2754 - acc: 0.9018 - val_loss: 75.7014 - val_acc: 0.9288\n",
            "Epoch 253/400\n",
            "1/1 [==============================] - 0s 103ms/step - loss: 12642.3857 - acc: 0.9064 - val_loss: 72.5513 - val_acc: 0.9288\n",
            "Epoch 254/400\n",
            "1/1 [==============================] - 0s 119ms/step - loss: 13491.7227 - acc: 0.9023 - val_loss: 68.9118 - val_acc: 0.9288\n",
            "Epoch 255/400\n",
            "1/1 [==============================] - 0s 110ms/step - loss: 12077.1357 - acc: 0.8938 - val_loss: 64.6385 - val_acc: 0.9288\n",
            "Epoch 256/400\n",
            "1/1 [==============================] - 0s 109ms/step - loss: 11610.1709 - acc: 0.9014 - val_loss: 59.8971 - val_acc: 0.9288\n",
            "Epoch 257/400\n",
            "1/1 [==============================] - 0s 111ms/step - loss: 13789.4092 - acc: 0.9031 - val_loss: 54.7581 - val_acc: 0.9288\n",
            "Epoch 258/400\n",
            "1/1 [==============================] - 0s 115ms/step - loss: 9815.1797 - acc: 0.8983 - val_loss: 49.2391 - val_acc: 0.9288\n",
            "Epoch 259/400\n",
            "1/1 [==============================] - 0s 123ms/step - loss: 11324.6455 - acc: 0.8994 - val_loss: 43.2827 - val_acc: 0.9288\n",
            "Epoch 260/400\n",
            "1/1 [==============================] - 0s 107ms/step - loss: 12329.0225 - acc: 0.8948 - val_loss: 37.0870 - val_acc: 0.9288\n",
            "Epoch 261/400\n",
            "1/1 [==============================] - 0s 108ms/step - loss: 11242.5498 - acc: 0.9014 - val_loss: 30.8046 - val_acc: 0.9288\n",
            "Epoch 262/400\n",
            "1/1 [==============================] - 0s 123ms/step - loss: 10650.1885 - acc: 0.8983 - val_loss: 24.2871 - val_acc: 0.9288\n",
            "Epoch 263/400\n",
            "1/1 [==============================] - 0s 114ms/step - loss: 11986.8047 - acc: 0.8942 - val_loss: 17.8519 - val_acc: 0.9280\n",
            "Epoch 264/400\n",
            "1/1 [==============================] - 0s 110ms/step - loss: 10550.5791 - acc: 0.8859 - val_loss: 11.3030 - val_acc: 0.9280\n",
            "Epoch 265/400\n",
            "1/1 [==============================] - 0s 118ms/step - loss: 13226.6611 - acc: 0.8929 - val_loss: 6.1682 - val_acc: 0.0679\n",
            "Epoch 266/400\n",
            "1/1 [==============================] - 0s 115ms/step - loss: 11171.9170 - acc: 0.5376 - val_loss: 11.0328 - val_acc: 0.9280\n",
            "Epoch 267/400\n",
            "1/1 [==============================] - 0s 114ms/step - loss: 10006.4873 - acc: 0.8861 - val_loss: 16.1310 - val_acc: 0.9288\n",
            "Epoch 268/400\n",
            "1/1 [==============================] - 0s 109ms/step - loss: 10471.7852 - acc: 0.8892 - val_loss: 20.2870 - val_acc: 0.9288\n",
            "Epoch 269/400\n",
            "1/1 [==============================] - 0s 120ms/step - loss: 10311.3359 - acc: 0.8948 - val_loss: 23.4305 - val_acc: 0.9288\n",
            "Epoch 270/400\n",
            "1/1 [==============================] - 0s 126ms/step - loss: 11318.6377 - acc: 0.8905 - val_loss: 25.7380 - val_acc: 0.9288\n",
            "Epoch 271/400\n",
            "1/1 [==============================] - 0s 115ms/step - loss: 11666.8828 - acc: 0.8832 - val_loss: 27.1702 - val_acc: 0.9288\n",
            "Epoch 272/400\n",
            "1/1 [==============================] - 0s 115ms/step - loss: 10938.7178 - acc: 0.9078 - val_loss: 27.7150 - val_acc: 0.9288\n",
            "Epoch 273/400\n",
            "1/1 [==============================] - 0s 117ms/step - loss: 10718.6748 - acc: 0.9010 - val_loss: 27.4819 - val_acc: 0.9288\n",
            "Epoch 274/400\n",
            "1/1 [==============================] - 0s 117ms/step - loss: 10683.9307 - acc: 0.9035 - val_loss: 26.6747 - val_acc: 0.9288\n",
            "Epoch 275/400\n",
            "1/1 [==============================] - 0s 114ms/step - loss: 9930.6611 - acc: 0.9025 - val_loss: 25.2152 - val_acc: 0.9288\n",
            "Epoch 276/400\n",
            "1/1 [==============================] - 0s 112ms/step - loss: 9844.2412 - acc: 0.8967 - val_loss: 23.1943 - val_acc: 0.9288\n",
            "Epoch 277/400\n",
            "1/1 [==============================] - 0s 115ms/step - loss: 10370.2666 - acc: 0.8956 - val_loss: 20.4884 - val_acc: 0.9288\n",
            "Epoch 278/400\n",
            "1/1 [==============================] - 0s 122ms/step - loss: 11779.3584 - acc: 0.9010 - val_loss: 17.5305 - val_acc: 0.9288\n",
            "Epoch 279/400\n",
            "1/1 [==============================] - 0s 120ms/step - loss: 10924.7217 - acc: 0.8923 - val_loss: 14.2361 - val_acc: 0.9288\n",
            "Epoch 280/400\n",
            "1/1 [==============================] - 0s 111ms/step - loss: 10759.5791 - acc: 0.8929 - val_loss: 10.8324 - val_acc: 0.9288\n",
            "Epoch 281/400\n",
            "1/1 [==============================] - 0s 116ms/step - loss: 10147.3408 - acc: 0.8971 - val_loss: 7.2583 - val_acc: 0.9288\n",
            "Epoch 282/400\n",
            "1/1 [==============================] - 0s 105ms/step - loss: 10693.8906 - acc: 0.8811 - val_loss: 24.2482 - val_acc: 0.0679\n",
            "Epoch 283/400\n",
            "1/1 [==============================] - 0s 113ms/step - loss: 10895.3301 - acc: 0.5156 - val_loss: 12.2149 - val_acc: 0.9288\n",
            "Epoch 284/400\n",
            "1/1 [==============================] - 0s 115ms/step - loss: 10023.7871 - acc: 0.8971 - val_loss: 19.3978 - val_acc: 0.9288\n",
            "Epoch 285/400\n",
            "1/1 [==============================] - 0s 107ms/step - loss: 12256.2324 - acc: 0.8973 - val_loss: 25.4443 - val_acc: 0.9288\n",
            "Epoch 286/400\n",
            "1/1 [==============================] - 0s 120ms/step - loss: 9956.2217 - acc: 0.8958 - val_loss: 30.4202 - val_acc: 0.9288\n",
            "Epoch 287/400\n",
            "1/1 [==============================] - 0s 113ms/step - loss: 10592.9102 - acc: 0.8977 - val_loss: 34.4351 - val_acc: 0.9288\n",
            "Epoch 288/400\n",
            "1/1 [==============================] - 0s 112ms/step - loss: 9236.0518 - acc: 0.9132 - val_loss: 37.2295 - val_acc: 0.9288\n",
            "Epoch 289/400\n",
            "1/1 [==============================] - 0s 121ms/step - loss: 11487.7246 - acc: 0.8981 - val_loss: 39.0602 - val_acc: 0.9288\n",
            "Epoch 290/400\n",
            "1/1 [==============================] - 0s 119ms/step - loss: 8647.5098 - acc: 0.9085 - val_loss: 40.0629 - val_acc: 0.9288\n",
            "Epoch 291/400\n",
            "1/1 [==============================] - 0s 111ms/step - loss: 10336.8594 - acc: 0.9047 - val_loss: 40.2705 - val_acc: 0.9288\n",
            "Epoch 292/400\n",
            "1/1 [==============================] - 0s 110ms/step - loss: 9275.9043 - acc: 0.9018 - val_loss: 39.7900 - val_acc: 0.9288\n",
            "Epoch 293/400\n",
            "1/1 [==============================] - 0s 110ms/step - loss: 10629.1719 - acc: 0.9124 - val_loss: 38.6334 - val_acc: 0.9288\n",
            "Epoch 294/400\n",
            "1/1 [==============================] - 0s 111ms/step - loss: 9758.6855 - acc: 0.8981 - val_loss: 37.1423 - val_acc: 0.9288\n",
            "Epoch 295/400\n",
            "1/1 [==============================] - 0s 110ms/step - loss: 10616.2041 - acc: 0.9037 - val_loss: 35.1990 - val_acc: 0.9288\n",
            "Epoch 296/400\n",
            "1/1 [==============================] - 0s 109ms/step - loss: 9270.6689 - acc: 0.9043 - val_loss: 32.9676 - val_acc: 0.9288\n",
            "Epoch 297/400\n",
            "1/1 [==============================] - 0s 115ms/step - loss: 9520.8779 - acc: 0.9081 - val_loss: 30.1845 - val_acc: 0.9288\n",
            "Epoch 298/400\n",
            "1/1 [==============================] - 0s 117ms/step - loss: 9111.1641 - acc: 0.9041 - val_loss: 27.1685 - val_acc: 0.9288\n",
            "Epoch 299/400\n",
            "1/1 [==============================] - 0s 107ms/step - loss: 10412.0615 - acc: 0.9027 - val_loss: 23.7832 - val_acc: 0.9288\n",
            "Epoch 300/400\n",
            "1/1 [==============================] - 0s 119ms/step - loss: 10237.7031 - acc: 0.9041 - val_loss: 19.9758 - val_acc: 0.9288\n",
            "Epoch 301/400\n",
            "1/1 [==============================] - 0s 109ms/step - loss: 11100.2119 - acc: 0.8998 - val_loss: 16.0594 - val_acc: 0.9288\n",
            "Epoch 302/400\n",
            "1/1 [==============================] - 0s 113ms/step - loss: 9748.4648 - acc: 0.9014 - val_loss: 11.9578 - val_acc: 0.9288\n",
            "Epoch 303/400\n",
            "1/1 [==============================] - 0s 115ms/step - loss: 9787.8438 - acc: 0.9062 - val_loss: 7.7410 - val_acc: 0.9288\n",
            "Epoch 304/400\n",
            "1/1 [==============================] - 0s 113ms/step - loss: 11074.9980 - acc: 0.8942 - val_loss: 8.3866 - val_acc: 0.0679\n",
            "Epoch 305/400\n",
            "1/1 [==============================] - 0s 114ms/step - loss: 8407.4736 - acc: 0.4548 - val_loss: 9.7734 - val_acc: 0.9288\n",
            "Epoch 306/400\n",
            "1/1 [==============================] - 0s 112ms/step - loss: 10341.9492 - acc: 0.8998 - val_loss: 14.8316 - val_acc: 0.9288\n",
            "Epoch 307/400\n",
            "1/1 [==============================] - 0s 110ms/step - loss: 9654.5869 - acc: 0.9033 - val_loss: 18.8633 - val_acc: 0.9288\n",
            "Epoch 308/400\n",
            "1/1 [==============================] - 0s 111ms/step - loss: 10250.9893 - acc: 0.8958 - val_loss: 22.0880 - val_acc: 0.9288\n",
            "Epoch 309/400\n",
            "1/1 [==============================] - 0s 115ms/step - loss: 9731.0869 - acc: 0.9049 - val_loss: 24.4203 - val_acc: 0.9288\n",
            "Epoch 310/400\n",
            "1/1 [==============================] - 0s 120ms/step - loss: 9089.9980 - acc: 0.8983 - val_loss: 26.0424 - val_acc: 0.9288\n",
            "Epoch 311/400\n",
            "1/1 [==============================] - 0s 122ms/step - loss: 8314.0498 - acc: 0.9058 - val_loss: 27.0436 - val_acc: 0.9288\n",
            "Epoch 312/400\n",
            "1/1 [==============================] - 0s 118ms/step - loss: 8319.7441 - acc: 0.8998 - val_loss: 27.4546 - val_acc: 0.9288\n",
            "Epoch 313/400\n",
            "1/1 [==============================] - 0s 115ms/step - loss: 10657.1455 - acc: 0.9000 - val_loss: 27.3763 - val_acc: 0.9288\n",
            "Epoch 314/400\n",
            "1/1 [==============================] - 0s 112ms/step - loss: 8725.2520 - acc: 0.9074 - val_loss: 26.7687 - val_acc: 0.9288\n",
            "Epoch 315/400\n",
            "1/1 [==============================] - 0s 113ms/step - loss: 11001.2578 - acc: 0.9039 - val_loss: 25.7006 - val_acc: 0.9288\n",
            "Epoch 316/400\n",
            "1/1 [==============================] - 0s 115ms/step - loss: 8756.5107 - acc: 0.8994 - val_loss: 24.2185 - val_acc: 0.9288\n",
            "Epoch 317/400\n",
            "1/1 [==============================] - 0s 113ms/step - loss: 10228.6895 - acc: 0.9018 - val_loss: 22.5013 - val_acc: 0.9288\n",
            "Epoch 318/400\n",
            "1/1 [==============================] - 0s 136ms/step - loss: 10299.1104 - acc: 0.8987 - val_loss: 20.5137 - val_acc: 0.9288\n",
            "Epoch 319/400\n",
            "1/1 [==============================] - 0s 111ms/step - loss: 9397.7373 - acc: 0.8985 - val_loss: 18.3131 - val_acc: 0.9288\n",
            "Epoch 320/400\n",
            "1/1 [==============================] - 0s 114ms/step - loss: 7142.8457 - acc: 0.8994 - val_loss: 15.9697 - val_acc: 0.9288\n",
            "Epoch 321/400\n",
            "1/1 [==============================] - 0s 113ms/step - loss: 9177.8164 - acc: 0.9010 - val_loss: 13.3614 - val_acc: 0.9280\n",
            "Epoch 322/400\n",
            "1/1 [==============================] - 0s 108ms/step - loss: 10110.2900 - acc: 0.8996 - val_loss: 10.5693 - val_acc: 0.9280\n",
            "Epoch 323/400\n",
            "1/1 [==============================] - 0s 109ms/step - loss: 10396.2021 - acc: 0.8960 - val_loss: 7.5349 - val_acc: 0.9280\n",
            "Epoch 324/400\n",
            "1/1 [==============================] - 0s 122ms/step - loss: 7980.7656 - acc: 0.8834 - val_loss: 4.4756 - val_acc: 0.9280\n",
            "Epoch 325/400\n",
            "1/1 [==============================] - 0s 111ms/step - loss: 8084.9517 - acc: 0.8869 - val_loss: 42.7715 - val_acc: 0.0671\n",
            "Epoch 326/400\n",
            "1/1 [==============================] - 0s 125ms/step - loss: 9154.6025 - acc: 0.4622 - val_loss: 7.6878 - val_acc: 0.9280\n",
            "Epoch 327/400\n",
            "1/1 [==============================] - 0s 111ms/step - loss: 9329.3447 - acc: 0.8965 - val_loss: 12.9673 - val_acc: 0.9280\n",
            "Epoch 328/400\n",
            "1/1 [==============================] - 0s 111ms/step - loss: 8520.3818 - acc: 0.9041 - val_loss: 17.2898 - val_acc: 0.9280\n",
            "Epoch 329/400\n",
            "1/1 [==============================] - 0s 118ms/step - loss: 8710.5723 - acc: 0.8919 - val_loss: 20.6927 - val_acc: 0.9280\n",
            "Epoch 330/400\n",
            "1/1 [==============================] - 0s 109ms/step - loss: 8426.1396 - acc: 0.9093 - val_loss: 23.2698 - val_acc: 0.9280\n",
            "Epoch 331/400\n",
            "1/1 [==============================] - 0s 118ms/step - loss: 8823.7695 - acc: 0.9008 - val_loss: 25.1057 - val_acc: 0.9280\n",
            "Epoch 332/400\n",
            "1/1 [==============================] - 0s 116ms/step - loss: 7546.2056 - acc: 0.9085 - val_loss: 26.3625 - val_acc: 0.9280\n",
            "Epoch 333/400\n",
            "1/1 [==============================] - 0s 114ms/step - loss: 8181.6958 - acc: 0.9060 - val_loss: 26.9968 - val_acc: 0.9280\n",
            "Epoch 334/400\n",
            "1/1 [==============================] - 0s 128ms/step - loss: 8345.8779 - acc: 0.9000 - val_loss: 27.0860 - val_acc: 0.9280\n",
            "Epoch 335/400\n",
            "1/1 [==============================] - 0s 117ms/step - loss: 8563.5801 - acc: 0.8996 - val_loss: 26.7759 - val_acc: 0.9280\n",
            "Epoch 336/400\n",
            "1/1 [==============================] - 0s 117ms/step - loss: 9816.2451 - acc: 0.9097 - val_loss: 26.0600 - val_acc: 0.9280\n",
            "Epoch 337/400\n",
            "1/1 [==============================] - 0s 114ms/step - loss: 8772.0020 - acc: 0.9054 - val_loss: 25.0945 - val_acc: 0.9280\n",
            "Epoch 338/400\n",
            "1/1 [==============================] - 0s 111ms/step - loss: 9774.0449 - acc: 0.8975 - val_loss: 23.7863 - val_acc: 0.9280\n",
            "Epoch 339/400\n",
            "1/1 [==============================] - 0s 117ms/step - loss: 9012.9033 - acc: 0.8956 - val_loss: 22.1686 - val_acc: 0.9280\n",
            "Epoch 340/400\n",
            "1/1 [==============================] - 0s 108ms/step - loss: 8763.4248 - acc: 0.9016 - val_loss: 20.2961 - val_acc: 0.9280\n",
            "Epoch 341/400\n",
            "1/1 [==============================] - 0s 112ms/step - loss: 8290.9531 - acc: 0.9060 - val_loss: 18.1804 - val_acc: 0.9280\n",
            "Epoch 342/400\n",
            "1/1 [==============================] - 0s 121ms/step - loss: 8977.5801 - acc: 0.9031 - val_loss: 15.9219 - val_acc: 0.9280\n",
            "Epoch 343/400\n",
            "1/1 [==============================] - 0s 116ms/step - loss: 8705.3887 - acc: 0.9045 - val_loss: 13.4723 - val_acc: 0.9280\n",
            "Epoch 344/400\n",
            "1/1 [==============================] - 0s 120ms/step - loss: 7462.7930 - acc: 0.8989 - val_loss: 10.8539 - val_acc: 0.9280\n",
            "Epoch 345/400\n",
            "1/1 [==============================] - 0s 116ms/step - loss: 7228.2827 - acc: 0.9064 - val_loss: 8.0471 - val_acc: 0.9280\n",
            "Epoch 346/400\n",
            "1/1 [==============================] - 0s 111ms/step - loss: 8281.5986 - acc: 0.8911 - val_loss: 5.3420 - val_acc: 0.9280\n",
            "Epoch 347/400\n",
            "1/1 [==============================] - 0s 120ms/step - loss: 8588.8760 - acc: 0.8983 - val_loss: 21.2639 - val_acc: 0.0671\n",
            "Epoch 348/400\n",
            "1/1 [==============================] - 0s 113ms/step - loss: 8267.6777 - acc: 0.3117 - val_loss: 8.3469 - val_acc: 0.9280\n",
            "Epoch 349/400\n",
            "1/1 [==============================] - 0s 129ms/step - loss: 7627.8774 - acc: 0.8950 - val_loss: 13.1221 - val_acc: 0.9280\n",
            "Epoch 350/400\n",
            "1/1 [==============================] - 0s 125ms/step - loss: 7563.8042 - acc: 0.8998 - val_loss: 17.0740 - val_acc: 0.9280\n",
            "Epoch 351/400\n",
            "1/1 [==============================] - 0s 115ms/step - loss: 6750.5337 - acc: 0.8979 - val_loss: 20.3142 - val_acc: 0.9280\n",
            "Epoch 352/400\n",
            "1/1 [==============================] - 0s 119ms/step - loss: 8091.5308 - acc: 0.9087 - val_loss: 22.8433 - val_acc: 0.9280\n",
            "Epoch 353/400\n",
            "1/1 [==============================] - 0s 118ms/step - loss: 7740.6157 - acc: 0.9078 - val_loss: 24.7399 - val_acc: 0.9280\n",
            "Epoch 354/400\n",
            "1/1 [==============================] - 0s 115ms/step - loss: 8535.7002 - acc: 0.9047 - val_loss: 26.0291 - val_acc: 0.9280\n",
            "Epoch 355/400\n",
            "1/1 [==============================] - 0s 120ms/step - loss: 7952.2197 - acc: 0.9070 - val_loss: 26.6650 - val_acc: 0.9280\n",
            "Epoch 356/400\n",
            "1/1 [==============================] - 0s 115ms/step - loss: 7424.6304 - acc: 0.9070 - val_loss: 26.8823 - val_acc: 0.9280\n",
            "Epoch 357/400\n",
            "1/1 [==============================] - 0s 123ms/step - loss: 6334.4453 - acc: 0.9122 - val_loss: 26.6246 - val_acc: 0.9280\n",
            "Epoch 358/400\n",
            "1/1 [==============================] - 0s 109ms/step - loss: 6610.5776 - acc: 0.9081 - val_loss: 25.9837 - val_acc: 0.9280\n",
            "Epoch 359/400\n",
            "1/1 [==============================] - 0s 116ms/step - loss: 9161.3623 - acc: 0.9045 - val_loss: 25.0303 - val_acc: 0.9280\n",
            "Epoch 360/400\n",
            "1/1 [==============================] - 0s 108ms/step - loss: 7164.2754 - acc: 0.9091 - val_loss: 23.8104 - val_acc: 0.9280\n",
            "Epoch 361/400\n",
            "1/1 [==============================] - 0s 107ms/step - loss: 7852.6797 - acc: 0.9033 - val_loss: 22.3497 - val_acc: 0.9280\n",
            "Epoch 362/400\n",
            "1/1 [==============================] - 0s 110ms/step - loss: 7657.5859 - acc: 0.9107 - val_loss: 20.6354 - val_acc: 0.9280\n",
            "Epoch 363/400\n",
            "1/1 [==============================] - 0s 111ms/step - loss: 6877.5171 - acc: 0.9029 - val_loss: 18.6889 - val_acc: 0.9280\n",
            "Epoch 364/400\n",
            "1/1 [==============================] - 0s 111ms/step - loss: 6485.4971 - acc: 0.9074 - val_loss: 16.5075 - val_acc: 0.9280\n",
            "Epoch 365/400\n",
            "1/1 [==============================] - 0s 119ms/step - loss: 8395.5098 - acc: 0.9107 - val_loss: 14.2718 - val_acc: 0.9280\n",
            "Epoch 366/400\n",
            "1/1 [==============================] - 0s 113ms/step - loss: 8618.4609 - acc: 0.9056 - val_loss: 11.9402 - val_acc: 0.9280\n",
            "Epoch 367/400\n",
            "1/1 [==============================] - 0s 114ms/step - loss: 7456.2505 - acc: 0.9018 - val_loss: 9.5565 - val_acc: 0.9280\n",
            "Epoch 368/400\n",
            "1/1 [==============================] - 0s 123ms/step - loss: 7612.0664 - acc: 0.9041 - val_loss: 7.0815 - val_acc: 0.9280\n",
            "Epoch 369/400\n",
            "1/1 [==============================] - 0s 113ms/step - loss: 6355.3691 - acc: 0.8996 - val_loss: 4.6245 - val_acc: 0.9280\n",
            "Epoch 370/400\n",
            "1/1 [==============================] - 0s 114ms/step - loss: 6828.7925 - acc: 0.9033 - val_loss: 38.9910 - val_acc: 0.0671\n",
            "Epoch 371/400\n",
            "1/1 [==============================] - 0s 107ms/step - loss: 7657.9507 - acc: 0.3133 - val_loss: 7.1821 - val_acc: 0.9280\n",
            "Epoch 372/400\n",
            "1/1 [==============================] - 0s 115ms/step - loss: 7870.1260 - acc: 0.9062 - val_loss: 11.3704 - val_acc: 0.9280\n",
            "Epoch 373/400\n",
            "1/1 [==============================] - 0s 121ms/step - loss: 6826.1309 - acc: 0.9016 - val_loss: 14.8338 - val_acc: 0.9280\n",
            "Epoch 374/400\n",
            "1/1 [==============================] - 0s 115ms/step - loss: 6363.8638 - acc: 0.9072 - val_loss: 17.6416 - val_acc: 0.9280\n",
            "Epoch 375/400\n",
            "1/1 [==============================] - 0s 112ms/step - loss: 6171.0884 - acc: 0.9097 - val_loss: 19.8795 - val_acc: 0.9280\n",
            "Epoch 376/400\n",
            "1/1 [==============================] - 0s 115ms/step - loss: 7030.2349 - acc: 0.9076 - val_loss: 21.5793 - val_acc: 0.9280\n",
            "Epoch 377/400\n",
            "1/1 [==============================] - 0s 109ms/step - loss: 6385.2144 - acc: 0.9064 - val_loss: 22.6846 - val_acc: 0.9280\n",
            "Epoch 378/400\n",
            "1/1 [==============================] - 0s 110ms/step - loss: 8927.4873 - acc: 0.9081 - val_loss: 23.3255 - val_acc: 0.9280\n",
            "Epoch 379/400\n",
            "1/1 [==============================] - 0s 123ms/step - loss: 6819.8193 - acc: 0.9159 - val_loss: 23.5233 - val_acc: 0.9280\n",
            "Epoch 380/400\n",
            "1/1 [==============================] - 0s 116ms/step - loss: 6171.8472 - acc: 0.9114 - val_loss: 23.3309 - val_acc: 0.9280\n",
            "Epoch 381/400\n",
            "1/1 [==============================] - 0s 123ms/step - loss: 7596.5522 - acc: 0.9116 - val_loss: 22.8624 - val_acc: 0.9280\n",
            "Epoch 382/400\n",
            "1/1 [==============================] - 0s 117ms/step - loss: 7542.3457 - acc: 0.9058 - val_loss: 22.0966 - val_acc: 0.9280\n",
            "Epoch 383/400\n",
            "1/1 [==============================] - 0s 110ms/step - loss: 6262.7393 - acc: 0.9064 - val_loss: 21.0208 - val_acc: 0.9280\n",
            "Epoch 384/400\n",
            "1/1 [==============================] - 0s 117ms/step - loss: 6427.8315 - acc: 0.9110 - val_loss: 19.5640 - val_acc: 0.9280\n",
            "Epoch 385/400\n",
            "1/1 [==============================] - 0s 112ms/step - loss: 7312.1055 - acc: 0.9114 - val_loss: 17.9994 - val_acc: 0.9280\n",
            "Epoch 386/400\n",
            "1/1 [==============================] - 0s 117ms/step - loss: 6408.6724 - acc: 0.9101 - val_loss: 16.2893 - val_acc: 0.9280\n",
            "Epoch 387/400\n",
            "1/1 [==============================] - 0s 119ms/step - loss: 5968.1064 - acc: 0.9112 - val_loss: 14.3686 - val_acc: 0.9280\n",
            "Epoch 388/400\n",
            "1/1 [==============================] - 0s 121ms/step - loss: 7140.5864 - acc: 0.9058 - val_loss: 12.3652 - val_acc: 0.9280\n",
            "Epoch 389/400\n",
            "1/1 [==============================] - 0s 124ms/step - loss: 6954.2974 - acc: 0.9062 - val_loss: 10.4233 - val_acc: 0.9280\n",
            "Epoch 390/400\n",
            "1/1 [==============================] - 0s 117ms/step - loss: 7221.3794 - acc: 0.9031 - val_loss: 8.2642 - val_acc: 0.9280\n",
            "Epoch 391/400\n",
            "1/1 [==============================] - 0s 110ms/step - loss: 6681.7407 - acc: 0.9060 - val_loss: 6.0049 - val_acc: 0.9280\n",
            "Epoch 392/400\n",
            "1/1 [==============================] - 0s 114ms/step - loss: 6212.8584 - acc: 0.9033 - val_loss: 3.6791 - val_acc: 0.9280\n",
            "Epoch 393/400\n",
            "1/1 [==============================] - 0s 122ms/step - loss: 6857.7041 - acc: 0.8967 - val_loss: 40.5524 - val_acc: 0.0671\n",
            "Epoch 394/400\n",
            "1/1 [==============================] - 0s 112ms/step - loss: 5329.6479 - acc: 0.3115 - val_loss: 5.9604 - val_acc: 0.9280\n",
            "Epoch 395/400\n",
            "1/1 [==============================] - 0s 115ms/step - loss: 5914.0679 - acc: 0.9035 - val_loss: 9.6955 - val_acc: 0.9280\n",
            "Epoch 396/400\n",
            "1/1 [==============================] - 0s 120ms/step - loss: 6747.1035 - acc: 0.9031 - val_loss: 12.7837 - val_acc: 0.9280\n",
            "Epoch 397/400\n",
            "1/1 [==============================] - 0s 120ms/step - loss: 6366.9468 - acc: 0.9093 - val_loss: 15.3556 - val_acc: 0.9280\n",
            "Epoch 398/400\n",
            "1/1 [==============================] - 0s 112ms/step - loss: 6601.2500 - acc: 0.9097 - val_loss: 17.4201 - val_acc: 0.9296\n",
            "Epoch 399/400\n",
            "1/1 [==============================] - 0s 119ms/step - loss: 5944.9873 - acc: 0.9078 - val_loss: 18.9177 - val_acc: 0.9296\n",
            "Epoch 400/400\n",
            "1/1 [==============================] - 0s 114ms/step - loss: 6322.3774 - acc: 0.9070 - val_loss: 19.8759 - val_acc: 0.9296\n"
          ],
          "name": "stdout"
        }
      ]
    },
    {
      "cell_type": "code",
      "metadata": {
        "colab": {
          "base_uri": "https://localhost:8080/"
        },
        "id": "iN1Ozhi3x7rB",
        "outputId": "174ae229-ad40-40a8-e4fe-fd65b0d500cd"
      },
      "source": [
        "target_names=list(map(str,classes))\n",
        "target_names"
      ],
      "execution_count": 118,
      "outputs": [
        {
          "output_type": "execute_result",
          "data": {
            "text/plain": [
              "['0', '1']"
            ]
          },
          "metadata": {
            "tags": []
          },
          "execution_count": 118
        }
      ]
    },
    {
      "cell_type": "code",
      "metadata": {
        "colab": {
          "base_uri": "https://localhost:8080/"
        },
        "id": "VrjwP0mKwg7k",
        "outputId": "20f81371-1208-437c-d403-3a50685da70f"
      },
      "source": [
        "from sklearn.metrics import classification_report\n",
        "y_pred = model.predict([X_te, A_te], batch_size=N)\n",
        "report = classification_report(np.argmax(y_te,axis=1), np.argmax(y_pred,axis=1), target_names=target_names)\n",
        "print('GCN Classification Report: \\n {}'.format(report))"
      ],
      "execution_count": 119,
      "outputs": [
        {
          "output_type": "stream",
          "text": [
            "GCN Classification Report: \n",
            "               precision    recall  f1-score   support\n",
            "\n",
            "           0       0.93      1.00      0.97      1407\n",
            "           1       1.00      0.01      0.02       103\n",
            "\n",
            "    accuracy                           0.93      1510\n",
            "   macro avg       0.97      0.50      0.49      1510\n",
            "weighted avg       0.94      0.93      0.90      1510\n",
            "\n"
          ],
          "name": "stdout"
        }
      ]
    },
    {
      "cell_type": "code",
      "metadata": {
        "colab": {
          "base_uri": "https://localhost:8080/"
        },
        "id": "rvUJzjNYz1qn",
        "outputId": "9312d394-e84f-43f0-8da5-0f6943ee74b7"
      },
      "source": [
        "y_pred = model.predict([X_array_2, A],batch_size=N)\n",
        "report = classification_report(np.argmax(labels_encoded,axis=1), np.argmax(y_pred,axis=1), target_names=target_names)\n",
        "print('GCN Classification Report: \\n {}'.format(report))"
      ],
      "execution_count": 122,
      "outputs": [
        {
          "output_type": "stream",
          "text": [
            "GCN Classification Report: \n",
            "               precision    recall  f1-score   support\n",
            "\n",
            "           0       0.93      1.00      0.96      7030\n",
            "           1       0.43      0.01      0.01       517\n",
            "\n",
            "    accuracy                           0.93      7547\n",
            "   macro avg       0.68      0.50      0.49      7547\n",
            "weighted avg       0.90      0.93      0.90      7547\n",
            "\n"
          ],
          "name": "stdout"
        }
      ]
    },
    {
      "cell_type": "code",
      "metadata": {
        "id": "sHMUnYfExYu1"
      },
      "source": [
        "preds_list = np.argmax(y_pred,axis=1)"
      ],
      "execution_count": 113,
      "outputs": []
    },
    {
      "cell_type": "code",
      "metadata": {
        "colab": {
          "base_uri": "https://localhost:8080/"
        },
        "id": "pHWw6-jwxkIR",
        "outputId": "27f308aa-406c-4517-b935-46f13b3389d3"
      },
      "source": [
        "cnt=0\n",
        "for pred in preds_list:\n",
        "  if pred == 0:\n",
        "    cnt=cnt+1\n",
        "cnt"
      ],
      "execution_count": 115,
      "outputs": [
        {
          "output_type": "execute_result",
          "data": {
            "text/plain": [
              "1509"
            ]
          },
          "metadata": {
            "tags": []
          },
          "execution_count": 115
        }
      ]
    },
    {
      "cell_type": "code",
      "metadata": {
        "colab": {
          "base_uri": "https://localhost:8080/"
        },
        "id": "2qE7YbHhx0Ux",
        "outputId": "9c6f3600-2964-4ff4-a7e5-1fa6aa9df3ef"
      },
      "source": [
        "len(preds_list)"
      ],
      "execution_count": 116,
      "outputs": [
        {
          "output_type": "execute_result",
          "data": {
            "text/plain": [
              "1510"
            ]
          },
          "metadata": {
            "tags": []
          },
          "execution_count": 116
        }
      ]
    },
    {
      "cell_type": "code",
      "metadata": {
        "colab": {
          "base_uri": "https://localhost:8080/",
          "height": 590
        },
        "id": "zuAnuHf_xjBb",
        "outputId": "b770c977-313f-46a9-b181-bd0c65570ae5"
      },
      "source": [
        "# list all data in history\n",
        "print(history.history.keys())\n",
        "# summarize history for accuracy\n",
        "plt.plot(history.history['acc'])\n",
        "plt.plot(history.history['val_acc'])\n",
        "plt.title('model accuracy')\n",
        "plt.ylabel('accuracy')\n",
        "plt.xlabel('epoch')\n",
        "plt.legend(['train', 'test'], loc='upper left')\n",
        "plt.show()\n",
        "# summarize history for loss\n",
        "plt.plot(history.history['loss'])\n",
        "plt.plot(history.history['val_loss'])\n",
        "plt.title('model loss')\n",
        "plt.ylabel('loss')\n",
        "plt.xlabel('epoch')\n",
        "plt.legend(['train', 'test'], loc='upper left')\n",
        "plt.show()"
      ],
      "execution_count": 105,
      "outputs": [
        {
          "output_type": "stream",
          "text": [
            "dict_keys(['loss', 'acc', 'val_loss', 'val_acc'])\n"
          ],
          "name": "stdout"
        },
        {
          "output_type": "display_data",
          "data": {
            "image/png": "[encoded data removed]",
            "text/plain": [
              "<Figure size 432x288 with 1 Axes>"
            ]
          },
          "metadata": {
            "tags": [],
            "needs_background": "light"
          }
        },
        {
          "output_type": "display_data",
          "data": {
            "image/png": "[encoded data removed]",
            "text/plain": [
              "<Figure size 432x288 with 1 Axes>"
            ]
          },
          "metadata": {
            "tags": [],
            "needs_background": "light"
          }
        }
      ]
    },
    {
      "cell_type": "code",
      "metadata": {
        "id": "J9DkRvy9nZfW"
      },
      "source": [
        "X_te = X_array_2[test_mask]\n",
        "A_te = A[test_mask,:][:,test_mask]\n",
        "y_te = labels_encoded[test_mask]"
      ],
      "execution_count": null,
      "outputs": []
    },
    {
      "cell_type": "code",
      "metadata": {
        "id": "WbKFpmV6GMzy",
        "colab": {
          "base_uri": "https://localhost:8080/"
        },
        "outputId": "faa4efd3-c899-45f7-b4ec-0b65d12b2b18"
      },
      "source": [
        "X_te.shape"
      ],
      "execution_count": 106,
      "outputs": [
        {
          "output_type": "execute_result",
          "data": {
            "text/plain": [
              "(1510, 28)"
            ]
          },
          "metadata": {
            "tags": []
          },
          "execution_count": 106
        }
      ]
    },
    {
      "cell_type": "code",
      "metadata": {
        "colab": {
          "base_uri": "https://localhost:8080/"
        },
        "id": "lCwRIit8dqdn",
        "outputId": "b63b14b6-3a8b-4fb6-e224-c5db7061d423"
      },
      "source": [
        "A_te.shape"
      ],
      "execution_count": 107,
      "outputs": [
        {
          "output_type": "execute_result",
          "data": {
            "text/plain": [
              "(1510, 1510)"
            ]
          },
          "metadata": {
            "tags": []
          },
          "execution_count": 107
        }
      ]
    },
    {
      "cell_type": "code",
      "metadata": {
        "colab": {
          "base_uri": "https://localhost:8080/"
        },
        "id": "4Gh1ZDPMiw8g",
        "outputId": "5c01425b-b2fe-4ffa-d0f5-02688568bc9a"
      },
      "source": [
        "z = [X_te, A_te]\n",
        "len(z)"
      ],
      "execution_count": null,
      "outputs": [
        {
          "output_type": "execute_result",
          "data": {
            "text/plain": [
              "2"
            ]
          },
          "metadata": {
            "tags": []
          },
          "execution_count": 241
        }
      ]
    },
    {
      "cell_type": "code",
      "metadata": {
        "colab": {
          "base_uri": "https://localhost:8080/"
        },
        "id": "YN-zTuKOmuxj",
        "outputId": "f5d6d69e-e615-495a-840f-08314cfb4fac"
      },
      "source": [
        "z[0].shape"
      ],
      "execution_count": null,
      "outputs": [
        {
          "output_type": "execute_result",
          "data": {
            "text/plain": [
              "(1000, 28)"
            ]
          },
          "metadata": {
            "tags": []
          },
          "execution_count": 242
        }
      ]
    },
    {
      "cell_type": "code",
      "metadata": {
        "colab": {
          "base_uri": "https://localhost:8080/"
        },
        "id": "fHmO6A5mmy0T",
        "outputId": "4c5d20d2-752d-476e-ba7f-cf2a423e5c77"
      },
      "source": [
        "z[1].shape"
      ],
      "execution_count": null,
      "outputs": [
        {
          "output_type": "execute_result",
          "data": {
            "text/plain": [
              "(1000, 1000)"
            ]
          },
          "metadata": {
            "tags": []
          },
          "execution_count": 243
        }
      ]
    },
    {
      "cell_type": "code",
      "metadata": {
        "colab": {
          "base_uri": "https://localhost:8080/",
          "height": 592
        },
        "id": "yq85M7MVm2Yd",
        "outputId": "5dc2187e-e57b-4d7b-8973-db386d870cf9"
      },
      "source": [
        "import sklearn.manifold\n",
        "\n",
        "layer_outputs = [layer.output for layer in model.layers]\n",
        "activation_model = Model(inputs=model.input, outputs=layer_outputs)\n",
        "activations = activation_model.predict([X_array_2,A],batch_size=N)\n",
        "\n",
        "#Get t-SNE Representation\n",
        "x_tsne = sklearn.manifold.TSNE(n_components=2).fit_transform(activations[3]) \n",
        "\n",
        "def plot_tSNE(labels_encoded,x_tsne):\n",
        "    color_map = np.argmax(labels_encoded, axis=1)\n",
        "    plt.figure(figsize=(10,10))\n",
        "    for cl in range(num_classes):\n",
        "        indices = np.where(color_map==cl)\n",
        "        indices = indices[0]\n",
        "        plt.scatter(x_tsne[indices,0], x_tsne[indices, 1], label=cl)\n",
        "    plt.legend()\n",
        "    plt.show()\n",
        "    \n",
        "plot_tSNE(labels_encoded,x_tsne)"
      ],
      "execution_count": 123,
      "outputs": [
        {
          "output_type": "display_data",
          "data": {
            "image/png": "[encoded data removed]",
            "text/plain": [
              "<Figure size 720x720 with 1 Axes>"
            ]
          },
          "metadata": {
            "tags": [],
            "needs_background": "light"
          }
        }
      ]
    },
    {
      "cell_type": "code",
      "metadata": {
        "colab": {
          "base_uri": "https://localhost:8080/",
          "height": 319
        },
        "id": "KWG26l1AyrOU",
        "outputId": "6dc2fc19-aa9b-4a43-da51-e41fe1260601"
      },
      "source": [
        "import matplotlib.pyplot as plt\n",
        "nx.draw(G)\n",
        "plt.savefig(\"twitter_bot_dataset.png\")"
      ],
      "execution_count": null,
      "outputs": [
        {
          "output_type": "display_data",
          "data": {
            "image/png": "[encoded data removed]",
            "text/plain": [
              "<Figure size 432x288 with 1 Axes>"
            ]
          },
          "metadata": {
            "tags": []
          }
        }
      ]
    },
    {
      "cell_type": "code",
      "metadata": {
        "id": "O8zLP7rB1x5G"
      },
      "source": [
        ""
      ],
      "execution_count": null,
      "outputs": []
    }
  ]
}